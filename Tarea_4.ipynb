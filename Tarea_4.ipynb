{
 "cells": [
  {
   "cell_type": "markdown",
   "metadata": {},
   "source": [
    "# **Tarea 4: Inferencia estadística y pruebas de hipótesis**\n",
    "\n",
    "## Alumno: José de Jesús Hernández Higuera\n",
    "\n",
    "### Matrícula: 224470489"
   ]
  },
  {
   "cell_type": "markdown",
   "metadata": {
    "id": "LQ1H9DG5gv-j"
   },
   "source": [
    "# Problema 1:\n",
    "\n",
    "Los siguientes datos"
   ]
  },
  {
   "cell_type": "code",
   "execution_count": 7,
   "metadata": {
    "executionInfo": {
     "elapsed": 195,
     "status": "ok",
     "timestamp": 1678301171362,
     "user": {
      "displayName": "Jorge Velazquez-Castro",
      "userId": "01681773826982879139"
     },
     "user_tz": 360
    },
    "id": "Ky3t7QKqhTT0"
   },
   "outputs": [],
   "source": [
    "import numpy as np\n",
    "\n",
    "x = np.array([ 3.8058516 ,  4.19437519,  1.37709166,  0.77009889,  5.20968912,\n",
    "        0.65358179,  3.9701773 ,  2.07495512,  3.02571317,  3.1321825 ,\n",
    "        3.10005197,  4.94755324,  2.26160675,  0.59817735,  1.19183984,\n",
    "        1.37467926, -0.61701765,  5.01024433,  3.13300185,  5.2957513 ,\n",
    "        5.49070323, -1.13532482, -0.34934039,  5.72120588,  1.23276086,\n",
    "        4.33202401,  4.00250539, -0.40665993,  1.05709082,  3.68821387,\n",
    "        1.12295318,  2.10739471,  0.53197551, -0.27389039,  1.48139076,\n",
    "        0.70014346,  2.31649553,  2.44322569,  3.86141784,  2.04558533,\n",
    "        2.98230541,  3.69456416,  2.35192256,  0.11488102,  1.24948211,\n",
    "        2.34006925,  1.45962495, -0.09042347, -0.05130358,  1.15963357,\n",
    "        0.56871108,  2.70715761,  2.47673624,  1.70400014,  1.60709535,\n",
    "       -0.40534576,  3.07910114,  0.80967033,  5.04007949,  0.11755631,\n",
    "        1.427098  , -0.07170736,  5.11381387,  3.54324208,  4.39654794,\n",
    "        0.10687046,  2.89288521,  4.23476606,  1.54499074,  2.68598353,\n",
    "       -1.02087514,  1.9960533 ,  5.24364406,  3.2185187 , -0.38242978,\n",
    "        3.49462381,  1.06077727, -0.02623431,  3.92295454,  1.48746264,\n",
    "        2.74412523, -0.29060423,  3.915251  ,  3.13072888,  3.78471126,\n",
    "       -0.26904523,  0.66725871,  2.75931047,  2.09460576,  1.15288733,\n",
    "        3.08004069,  2.51581013,  1.88470954,  3.18040196,  0.85962888,\n",
    "       -0.2126045 ,  3.2505909 ,  2.7800464 ,  1.41144019,  2.71715232])\n"
   ]
  },
  {
   "cell_type": "markdown",
   "metadata": {
    "id": "oWcdfjuShXia"
   },
   "source": [
    "es una muestra de una distribución coseno:\n",
    "$$f(x)=C\\frac{1}{2\\pi}(1+\\cos(x/a-b))$$\n",
    "para $$-\\pi < x/a-b <\\pi$$ y donde C es una constante de normalización.\n",
    "\n",
    "\"a\" se conoce como la escala y \"b\" como la localización.\n",
    "\n",
    "Estima los parámetros \"a\" y \"b\" a partir de los datos y da un intervalo de confianza para ellos del 95%."
   ]
  },
  {
   "cell_type": "markdown",
   "metadata": {},
   "source": [
    "*Para estimar los parámetros de la distribución coseno, usaremos el estimador de máxima verosimilitud. Como veremos a continuación, se usará la librería `SciPy` y el módulo `Optimize`. En primer lugar, comenzaremos definiendo la función del logaritmo para el estimador de verosimilitud. Luego, procederemos a utilizar la función `minimize` para obtener los parámetros de escala y localización correspondientes a la distribución.*"
   ]
  },
  {
   "cell_type": "code",
   "execution_count": 66,
   "metadata": {},
   "outputs": [
    {
     "name": "stdout",
     "output_type": "stream",
     "text": [
      "Estimación de parámetros: localización: 2.13, escala: 1.70\n"
     ]
    },
    {
     "name": "stderr",
     "output_type": "stream",
     "text": [
      "<ipython-input-66-fa5c1d455c28>:8: RuntimeWarning: divide by zero encountered in log\n",
      "  return -np.sum(np.log(stats.cosine.pdf(x, loc=b, scale=a)))\n"
     ]
    }
   ],
   "source": [
    "from scipy import stats\n",
    "from scipy.optimize import minimize\n",
    "\n",
    "def log_ver(par, x): #Definimos la función para el logaritmo del estimador de máxima verosimilitud\n",
    "    a, b = par\n",
    "    if a <= 0:  #Evitemos tener escala negativa\n",
    "        return np.inf\n",
    "    return -np.sum(np.log(stats.cosine.pdf(x, loc=b, scale=a)))\n",
    "\n",
    "#La aproximación inicial de los parámetros serán la media (localización) y la desviación estándar (escala)\n",
    "a_0, b_0 = np.std(x), np.mean(x)\n",
    "result = minimize(log_ver, [b_0, a_0], args=(x), method='L-BFGS-B', bounds=[(None, None), (1e-6, None)])\n",
    "\n",
    "#Obtenemos los parámetros estimados a y b\n",
    "b, a = result.x #colocamos la b primero porque es la localización\n",
    "print(f\"Estimación de parámetros: localización: {b:.2f}, escala: {a:.2f}\")"
   ]
  },
  {
   "cell_type": "markdown",
   "metadata": {},
   "source": [
    "*Obtenemos que $a = 1.70$ y $b = 2.13$ son los parámetros de la muestra dada.*"
   ]
  },
  {
   "cell_type": "markdown",
   "metadata": {
    "id": "8Xl12azVkKOF"
   },
   "source": [
    "# Problema 2:\n",
    "\n",
    "Con la misma secuencia de datos del problema anterior x. I**magína que no conoces la distribución de donde proviene la muestra**. Estima el primer momento de la distribución $\\mu=\\bar{x}$ (promedio) y estima el intervalo de confianza del 95%. "
   ]
  },
  {
   "cell_type": "code",
   "execution_count": 8,
   "metadata": {},
   "outputs": [
    {
     "data": {
      "text/plain": [
       "100"
      ]
     },
     "execution_count": 8,
     "metadata": {},
     "output_type": "execute_result"
    }
   ],
   "source": [
    "#Veamos primero el número de elementos en la secuencia de datos\n",
    "n = len(x)\n",
    "n"
   ]
  },
  {
   "cell_type": "markdown",
   "metadata": {},
   "source": [
    "*Notemos que el número de muestras que se encuentra en la secuencia de datos colocada al principio es mayor a 30, por lo tanto, podemos considerarlo como una muestra grande. En consecuencia, podemos hacer uso del teorema del límite central. Primero, calculemos el primer momento de la distribución; el promedio.*"
   ]
  },
  {
   "cell_type": "code",
   "execution_count": 9,
   "metadata": {},
   "outputs": [
    {
     "data": {
      "text/plain": [
       "2.1342042433999997"
      ]
     },
     "execution_count": 9,
     "metadata": {},
     "output_type": "execute_result"
    }
   ],
   "source": [
    "x_bar = np.mean(x)\n",
    "x_bar"
   ]
  },
  {
   "cell_type": "markdown",
   "metadata": {},
   "source": [
    "*Ahora, calculemos el error estándar y el valor de z para un nivel de confianza del 95%.*"
   ]
  },
  {
   "cell_type": "code",
   "execution_count": 11,
   "metadata": {},
   "outputs": [
    {
     "name": "stdout",
     "output_type": "stream",
     "text": [
      "El intervalo de confianza para un 95% es [1.2050, 3.0634]\n"
     ]
    }
   ],
   "source": [
    "from math import sqrt\n",
    "from scipy import stats\n",
    "\n",
    "#Nivel de confianza del intervalo\n",
    "alfa = 0.05\n",
    "\n",
    "#Primero obtendremos el error estándar\n",
    "std = np.std(x) #Desviación estándar\n",
    "err = std/sqrt(n)    #Error estándar\n",
    "\n",
    "#Ahora obtendremos el valor para Z\n",
    "Z = stats.norm.ppf(1 - alfa/2, x_bar, std)\n",
    "\n",
    "#Calculemos los límites del intervalo\n",
    "lim_inf = x_bar + Z*err\n",
    "lim_sup = x_bar - Z*err\n",
    "print(f'El intervalo de confianza para un {100*(1-alfa):.0f}% es [{lim_sup:.4f}, {lim_inf:.4f}]')"
   ]
  },
  {
   "cell_type": "markdown",
   "metadata": {},
   "source": [
    "# Problema 3:\n",
    "Un fabricante farmacéutico compra materias primas de dos proveedores diferentes. El nivel medio de impurezas es aproximadamente el mismo para ambos proveedores, pero el fabricante está preocupado por la variabilidad en la cantidad de impurezas de entre un embarque y otro. Si el nivel de impurezas tiende a variar en forma excesiva de una fuente de abastecimiento, esto podría afectar la calidad del producto final. Para comparar la variación en el porcentaje de impurezas para los dos proveedores, el fabricante selecciona diez envíos de cada uno de ellos y mide el porcentaje de impurezas de cada envío. Las varianzas muestrales fueron s2 1 = .273 y s2 2 = .094 respectivamente. Forme un intervalo de confianza de 95% para la relación entre las varianzas poblacionales reales."
   ]
  },
  {
   "cell_type": "code",
   "execution_count": 11,
   "metadata": {},
   "outputs": [
    {
     "name": "stdout",
     "output_type": "stream",
     "text": [
      "El intervalo de confianza es [0.7214, 0.7214]\n"
     ]
    }
   ],
   "source": [
    "from scipy import stats\n",
    "\n",
    "#Definamos los datos:\n",
    "s2_1 = 0.273\n",
    "s2_2 = 0.094\n",
    "n = 10 #tamaño de la muestra\n",
    "nu = n - 1 #grados de libertad\n",
    "alpha = 0.05 #nivel de confianza\n",
    "\n",
    "#Con las varianzas muestrales y los tamaños en las muestras podemos calcular el estadístico F\n",
    "F = s2_1/s2_2\n",
    "\n",
    "#Luego, calculemos los valores críticos de la distribución F\n",
    "inf = stats.f.ppf(1 - alpha / 2, nu, nu)  \n",
    "sup = stats.f.ppf(alpha / 2, nu, nu)\n",
    "\n",
    "print(f'El intervalo de confianza es [{F/inf:.4f}, {F*sup:.4f}]')"
   ]
  },
  {
   "cell_type": "markdown",
   "metadata": {},
   "source": [
    "# Problema 4:\n",
    "Una encuesta a 415 ejecutivos corporativos, de gobierno y contadores de la Financial Accounting Foundation encontró que 278 consideraban el flujo de caja (lo contrario de ganancias por acción, etc.) como el indicador más importante de la salud financiera de una compañía. Suponga que estos 415 ejecutivos constituyen una muestra aleatoria de la población de todos los ejecutivos. Use los datos para hallar un intervalo de confianza de 95% para la fracción de todos los ejecutivos corporativos que consideran que el flujo de caja es la medida más importante de la salud financiera de una compañía."
   ]
  },
  {
   "cell_type": "markdown",
   "metadata": {},
   "source": [
    "*Tenemos una muestra de 415 ejecutivos, de los cuales, 278 consideran el flujo de caja como el indicador más importante de la salud financiera de una compañía. Podemos considerar esta situación como experimentos de Bernoulli donde sólo hay dos estados: éxito (que sí consideren a dicho indicador como el más importante) o fracaso(que no lo hagan). Entonces, esto conduce a una distribución binomial, de modo que el intervalo de confianza para $\\mu$ es $\\mu \\epsilon (\\hat p - Z_{\\alpha/2}\\sigma_{\\hat p}, \\hat p + Z_{\\alpha/2}\\sigma_{\\hat p})$. Recordemos que aquí el parmámetro de la distribución es p.*"
   ]
  },
  {
   "cell_type": "code",
   "execution_count": 5,
   "metadata": {},
   "outputs": [
    {
     "name": "stdout",
     "output_type": "stream",
     "text": [
      "El intervalo de confianza para la media de ejecutivos corporativos con la consideración mencionada es (0.6246, 0.7151).\n"
     ]
    }
   ],
   "source": [
    "from math import sqrt\n",
    "from scipy import stats\n",
    "\n",
    "#Definimos los primeras variables\n",
    "n = 415\n",
    "k = 278\n",
    "p_hat = k/n\n",
    "alpha = 0.05\n",
    "\n",
    "#Ahora calculemos Z y sigma\n",
    "sigma = sqrt(p_hat*(1-p_hat)/n)\n",
    "Z = stats.norm.ppf(1 - alpha/2)\n",
    "\n",
    "#Finalmente, obtengamos los límites superior e inferior del intervalo de confianza\n",
    "inf_4 = p_hat - Z*sigma\n",
    "sup_4 = p_hat + Z*sigma\n",
    "\n",
    "#Obtengamos el resultado con el enunciado completo\n",
    "print(f\"El intervalo de confianza para la media de ejecutivos corporativos con la consideración mencionada es ({inf_4:.4f}, {sup_4:.4f}).\")"
   ]
  },
  {
   "cell_type": "markdown",
   "metadata": {},
   "source": [
    "*Notemos que, en este caso, el promedio muestral $\\dfrac{278}{415} \\approx 0.6699$ efectivamente se encuentra dentro del intervalo de confianza.*"
   ]
  },
  {
   "cell_type": "markdown",
   "metadata": {},
   "source": [
    "# Problema 5:\n",
    "Se sabe que la probabilidad p de obtener una cara al lanzar al aire una moneda desbalanceada es 1/ 4 o 3/ 4. La moneda es lanzada dos veces al aire y se observa un valor para Y, el número de caras. Para cada valor posible de Y, ¿cuál de los dos valores para p (1/ 4 o 3/ 4) maximiza la probabilidad de que Y = y? Dependiendo del valor de y observado realmente, En otras palabras ¿cuál es el MLE de p?"
   ]
  },
  {
   "cell_type": "code",
   "execution_count": 67,
   "metadata": {},
   "outputs": [],
   "source": [
    "#Contruyamos una muestra de 100 tiradas para tener algunos datos de cada moneda\n",
    "from scipy.stats import bernoulli\n",
    "p1= 1/4  #primer valor probable\n",
    "p2 = 3/4 #segundo valor probable\n",
    "fp1 = bernoulli(p1) #creamos una distribucion de bernoulli\n",
    "fp2 = bernoulli(p2)\n",
    "mue1 = fp1.rvs(100) #tomamos una muestra de 100 elementos\n",
    "mue2 = fp2.rvs(100)"
   ]
  },
  {
   "cell_type": "code",
   "execution_count": 68,
   "metadata": {},
   "outputs": [
    {
     "name": "stdout",
     "output_type": "stream",
     "text": [
      "21/200 21/200\n"
     ]
    }
   ],
   "source": [
    "import sympy\n",
    "import numpy as np\n",
    "\n",
    "#Definimos las variables simbólicas p y k\n",
    "p = sympy.symbols('p', positive=True, real=True)\n",
    "k = sympy.symbols('k', integer=True, positive=True)\n",
    "\n",
    "#Creamos la función de verosimilitud para la distribución binomial\n",
    "L = sympy.binomial(2, k) * p**k * (1-p)**(2-k) #El número 2 proviene de los 2 lanzamientos de la moneda\n",
    "\n",
    "#Proponemos una función de verosimilitud para cada valor de p\n",
    "L1=np.prod([L.subs(k,i) for i in mue1])\n",
    "L2=np.prod([L.subs(k,i) for i in mue2])\n",
    "\n",
    "#Aplicamos el logaritmo a cada función anterior\n",
    "logL1 = sympy.log(L1)\n",
    "logL2 = sympy.log(L1)\n",
    "\n",
    "#Derivemos con respecto a p e igualamos a cero\n",
    "p_hat1 = sympy.solve(sympy.diff(logL1, p), p)[0]\n",
    "p_hat2 = sympy.solve(sympy.diff(logL2, p), p)[0]\n",
    "\n",
    "print(p_hat1, p_hat2)\n",
    "\n"
   ]
  },
  {
   "cell_type": "markdown",
   "metadata": {},
   "source": [
    "*Por lo tanto, ambos valores de p maximizan la probabilidad de que $Y=k$.*"
   ]
  },
  {
   "cell_type": "markdown",
   "metadata": {},
   "source": [
    "# Problema 6:\n",
    "Un examen de lectura se aplica a alumnos de sexto año en tres grandes escuelas primarias. Se considera que las calificaciones del examen en cada escuela tienen distribuciones normales con medias desconocidas $\\mu_1, \\mu_2, \\mu_3$, respectivamente, y varianza común desconocida $\\sigma^2(\\sigma²_1 = \\sigma²_2 = \\sigma^2_3 = \\sigma^2)$. Usando los datos de la tabla siguiente en muestras aleatorias independientes de cada escuela, pruebe si existe evidencia de una diferencia entre m1 y m2. Use a = .05.\n",
    "\n",
    "Escuela I : $n_{1} = 10, \\sum x_{i}^{2} = 36950 , \\bar{x}= 60$\n",
    "Escuela II : $n_{2} = 10, \\sum y_{i}^{2} = 25850 , \\bar{y}= 50$\n",
    "Escuela III : $n_{3} = 10, \\sum w_{i}^{2} = 49900 , \\bar{x}= 70$\n"
   ]
  },
  {
   "cell_type": "markdown",
   "metadata": {},
   "source": [
    "*Los datos provienen de una distribución normal y las muestras son pequeñas, por lo que es conveniente hacer una prueba de hipótesis para dos medias poblacionales. Donde:*\n",
    "\n",
    "*$H_0$: no hay diferencia entre $\\mu_1$ y $\\mu_2$, esto es, $\\mu_1 - \\mu_2 = 0$*\n",
    "\n",
    "*$H_a$: la diferencia entre ambas medias existe, es decir, $\\mu_1 - \\mu_2 \\neq 0$*"
   ]
  },
  {
   "cell_type": "code",
   "execution_count": 6,
   "metadata": {},
   "outputs": [
    {
     "name": "stdout",
     "output_type": "stream",
     "text": [
      "Se rechaza H_0\n"
     ]
    }
   ],
   "source": [
    "from math import sqrt\n",
    "from scipy import stats\n",
    "\n",
    "#Coloquemos los datos conocidos\n",
    "alfa = 0.05 #Nivel de confianza de la prueba\n",
    "n = 10 #Número de alumnos (es el mismo para todas las escuelas)\n",
    "gdl = 2*n - 2 #Grados de libertad\n",
    "sum_x2 = 36950 #suma de los datos elevada al cuadrado\n",
    "sum_y2 = 25850\n",
    "x_1 = 60 #Promedio de la calificación del examen\n",
    "x_2 = 50\n",
    "s2_1 = (sum_x2/n) - x_1 #Cálculo para la varianza muestral \n",
    "s2_2 = (sum_y2/n) - x_2\n",
    "S_p = sqrt((s2_1 + s2_2)/2) #Luego calculemos Sp (la ecuación está simplificada)\n",
    "T = (x_1 - x_2)/(S_p*sqrt(2/n)) #Estadístico T (de nuevo, la ecuación se ha simplificado)\n",
    "t = stats.t.isf(1 - alfa/2, gdl) #valor de la función delimitado por alfa\n",
    "\n",
    "#La región de rechazo es |T| > t_alfa/2:\n",
    "if abs(T) > t:\n",
    "    print(\"Se rechaza H_0\")\n",
    "else:\n",
    "    print(\"Se acepta H_0\")\n"
   ]
  },
  {
   "cell_type": "markdown",
   "metadata": {},
   "source": [
    "*Por lo tanto, se puede concluir que existe evidencia en los datos que nos hable sobre una diferencia entre las medias 1 y 2.*"
   ]
  },
  {
   "cell_type": "markdown",
   "metadata": {},
   "source": [
    "# Problema 7:\n",
    "¿Qué eficiencia de combustión debe esperar el propietario de una casa de un horno de petróleo? La EPA indica que 80% o más es excelente, 75% a 79% es buena, 70% a 74% es regular y debajo de 70% es mala. Un contratista de sistemas de calefacción doméstica, que vende dos marcas de calentadores de petróleo (llamémosles A y B) decidió comparar sus eficiencias medias al analizar las eficiencias de 8 calentadores del tipo A y 6 del tipo B. Los porcentajes de eficiencia resultantes para los 14 calentadores se muestran en la tabla siguiente.\n",
    "\n",
    "Tipo A 72 78 73 69 75 74 69 75\n",
    "\n",
    "Tipo B 78 76 81 74 82 75\n",
    "\n",
    "a ¿Los datos proporcionan suficiente evidencia para indicar una diferencia en las eficiencias medias para las dos marcas de calentadores domésticos? Encuentre el valor p aproximado para la prueba e interprete su valor. \n",
    "\n",
    "b Determine un intervalo de confianza de 90% para (mA − mB) e interprete el resultado."
   ]
  },
  {
   "cell_type": "markdown",
   "metadata": {},
   "source": [
    "*Comenzaremos notando que las muestras de los datos son muy pequeñas, menores a 30, de modo que será útil utilizar una prueba para el caso apropiado como lo es la prueba t de Student. Adicionalmente, para poder hacer esto, supondremos que las varianzas de ambos grupos son iguales. Una vez visto eso, pasamos a determinar las hipótesis para la prueba:*\n",
    "\n",
    "*$H_0$: las eficiencias medias de los dos grupos son iguales ($\\mu_A = \\mu_B$)*\n",
    "\n",
    "*$H_1$: hay una diferencia entre las eficiencias medias ($\\mu_A \\neq \\mu_B$)*"
   ]
  },
  {
   "cell_type": "code",
   "execution_count": 38,
   "metadata": {},
   "outputs": [
    {
     "name": "stdout",
     "output_type": "stream",
     "text": [
      "Se rechaza H_0\n"
     ]
    }
   ],
   "source": [
    "import numpy as np\n",
    "from scipy import stats\n",
    "\n",
    "#Comencemos definiendo los datos\n",
    "Tipo_A = np.array([72, 78, 73, 69, 75, 74, 69, 75])\n",
    "Tipo_B = np.array([78, 76, 81, 74, 82, 75])\n",
    "\n",
    "#Hagamos la prueba t de Student para muestras independientes y obtengamos el valor del estadístico t y el valor p\n",
    "t_stat, p_value = stats.ttest_ind(Tipo_A, Tipo_B, equal_var=True)\n",
    "\n",
    "#Fijemos el nivel de significancia\n",
    "alfa = 0.05\n",
    "if p_value < alfa:\n",
    "    print('Se rechaza H_0')\n",
    "else:\n",
    "    print('Se acepta H_0')"
   ]
  },
  {
   "cell_type": "markdown",
   "metadata": {},
   "source": [
    "*a) Dado que el valor p es menor que el valor de significancia de la prueba, se puede afirmar que hay evidencia de que las eficiencias medias de ambas marcas de calentadores son significativamente distintas.*"
   ]
  },
  {
   "cell_type": "code",
   "execution_count": 41,
   "metadata": {},
   "outputs": [
    {
     "name": "stdout",
     "output_type": "stream",
     "text": [
      "[-8.30, -0.79]\n"
     ]
    }
   ],
   "source": [
    "#Calculemos los elementos necesarios para obtener el intervalo de confianza\n",
    "n_A = len(Tipo_A)\n",
    "n_B = len(Tipo_B)\n",
    "xA_bar = np.mean(Tipo_A)\n",
    "xB_bar = np.mean(Tipo_B)\n",
    "dif = xA_bar - xB_bar\n",
    "var_A = np.var(Tipo_A, ddof=1)\n",
    "var_B = np.var(Tipo_B, ddof=1)\n",
    "gdl = n_A + n_B - 2     #grados de libertad\n",
    "\n",
    "#Ahora, obtengamos el error estándar SE:\n",
    "SE = np.sqrt(var_A/n_A + var_B/n_B)\n",
    "\n",
    "#El valor del estadístico t estaría dado de la forma\n",
    "t_val = stats.t.ppf(1 - alfa/2, gdl)\n",
    "\n",
    "print(f'[{(dif - t_val*SE):.2f}, {(dif + t_val*SE):.2f}]')"
   ]
  },
  {
   "cell_type": "markdown",
   "metadata": {},
   "source": [
    "*b) Por lo tanto, $(\\mu_A - \\mu_B) \\epsilon [-8.3, -0.79]$. Notemos que este intevalo no contiene al cero, comprobando el inciso anterior donde dijimos que las eficiencias medias son diferentes, es decir que $\\mu_A \\neq \\mu_B$, o bien que $\\mu_A - \\mu_B \\neq 0$.*"
   ]
  },
  {
   "cell_type": "markdown",
   "metadata": {},
   "source": [
    "# Problema 8: \n",
    "Los datos de la siguiente tabla muestran lecturas en pies-libras de la resistencia al impacto de dos clases de material de empaque, tipo A y tipo B. Determine si la información sugiere una diferencia en la resistencia media entre las dos clases de material. Realice la prueba con un nivel de significancia a = .10.\n",
    "\n",
    "A     &nbsp; B \\\n",
    "1.25 &nbsp; .89 \\\n",
    "1.16 &nbsp; 1.01 \\\n",
    "1.33 &nbsp; .97 \\\n",
    "1.15 &nbsp; .95 \\\n",
    "1.23 &nbsp; .94 \\\n",
    "1.20 &nbsp; 1.02 \\\n",
    "1.32 &nbsp; .98 \\\n",
    "1.28 &nbsp; 1.06 \\\n",
    "1.21 &nbsp; .98\n"
   ]
  },
  {
   "cell_type": "markdown",
   "metadata": {},
   "source": [
    "*Partimos de suponer que los datos provienen de una distribución normal. Luego, al tener muestras pequeñas de datos, podemos hacer una prueba de hipótesis para dos muestras poblacionales.*\n",
    "\n",
    "*$H_0$: no hay diferencia entre $\\mu_1$ y $\\mu_2$, esto es, $\\mu_1 - \\mu_2 = 0$*\n",
    "\n",
    "*$H_a$: la diferencia entre ambas medias existe, es decir, $\\mu_1 - \\mu_2 \\neq 0$*"
   ]
  },
  {
   "cell_type": "code",
   "execution_count": 35,
   "metadata": {},
   "outputs": [
    {
     "name": "stdout",
     "output_type": "stream",
     "text": [
      "Se rechaza H_0\n"
     ]
    }
   ],
   "source": [
    "import numpy as np\n",
    "from math import sqrt\n",
    "\n",
    "#Definamos las listas de datos para cada material\n",
    "A = np.array([1.25, 1.16, 1.33, 1.15, 1.23, 1.2, 1.32, 1.28, 1.21])\n",
    "B = np.array([0.89, 1.01, 0.97, 0.95, 0.94, 1.02, 0.98, 1.06, 0.98])\n",
    "\n",
    "n = len(A)  #Número de muestras (notemos que son las mismas para ambos materiales)\n",
    "alfa = 0.1  #Nivel de confianza de la prueba\n",
    "gdl = 2*n - 2   #Grados de libertad\n",
    "prom_A = np.mean(A) #Promedio del material A\n",
    "prom_B = np.mean(B)\n",
    "s2_A = np.var(A, ddof=1)    #Varianza muestral para el material A\n",
    "s2_B = np.var(B, ddof=1)\n",
    "\n",
    "#Calculemos Sp con la fórmula simplificada del ejercicio 6\n",
    "s_p = sqrt((s2_A + s2_B)/2)\n",
    "\n",
    "T = (prom_A - prom_B)/(s_p*sqrt(2/n)) #Estadístico T (de nuevo, la ecuación se ha simplificado)\n",
    "t = stats.t.isf(1 - alfa/2, gdl) #valor de la función delimitado por alfa\n",
    "\n",
    "#La región de rechazo es |T| > t_alfa/2:\n",
    "if abs(T) > t:\n",
    "    print(\"Se rechaza H_0\")\n",
    "else:\n",
    "    print(\"Se acepta H_0\")"
   ]
  },
  {
   "cell_type": "markdown",
   "metadata": {},
   "source": [
    "*Por lo tanto, sí tenemos evidencia de que exista diferencia entre las resistencias medias de cada material.*"
   ]
  },
  {
   "cell_type": "markdown",
   "metadata": {},
   "source": [
    "# Problema 9:\n",
    "Los datos de la siguiente tabla proporcionan las millas por galón recorridas por un automóvil de prueba cuando utiliza gasolinas de niveles variables de octanaje.\n",
    "\n",
    "Millas por galón (y) &nbsp; Octano (x) \\\n",
    "13.0 &nbsp;89 \\\n",
    "13.2 &nbsp;93 \\\n",
    "13.0 &nbsp;87 \\\n",
    " 13.6 &nbsp;90 \\\n",
    "13.3 &nbsp;89 \\\n",
    " 13.8 &nbsp;95  \\\n",
    " 14.1 &nbsp;100 \\\n",
    " 14.0 &nbsp;98\n",
    "\n",
    " a) Calcule el valor de r. \n",
    " \n",
    " b) ¿Los datos dan suficiente evidencia para indicar que el nivel de octanaje y las millas por galón son dependientes? Obtenga el nivel de significancia alcanzado, e indique su conclusión si desea realizar una prueba en el nivel de a = .05."
   ]
  },
  {
   "cell_type": "code",
   "execution_count": 7,
   "metadata": {},
   "outputs": [
    {
     "name": "stdout",
     "output_type": "stream",
     "text": [
      "a) El valor de r es de 0.8914\n"
     ]
    }
   ],
   "source": [
    "import numpy as np\n",
    "from math import sqrt\n",
    "\n",
    "#Comencemos por realizar las listas donde los datos están almacenados\n",
    "mill = np.array([13, 13.2, 13, 13.6, 13.3, 13.8, 14.1, 14])\n",
    "octa = np.array([89, 93, 87, 90, 89, 95, 100, 98])\n",
    "n = len(mill)\n",
    "\n",
    "#Calculemos los elementos necesarios para calcular r\n",
    "s_xx = sum([(x - np.mean(mill))**2 for x in mill])\n",
    "s_yy = sum([(y - np.mean(octa))**2 for y in octa])\n",
    "s_xy = sum([(mill[i] - np.mean(mill))*(octa[i] - np.mean(octa)) for i in range(n)])\n",
    "\n",
    "#Por último, obtengamos r\n",
    "r = s_xy/sqrt(s_xx * s_yy)\n",
    "print(f'a) El valor de r es de {r:.4f}')"
   ]
  },
  {
   "cell_type": "code",
   "execution_count": 10,
   "metadata": {},
   "outputs": [
    {
     "name": "stdout",
     "output_type": "stream",
     "text": [
      "b) Las millas y el octanaje son dependientes\n"
     ]
    }
   ],
   "source": [
    "from scipy import stats\n",
    "#Hagamos una prueba de hipótesis para saber si las millas y el octanaje son dependientes\n",
    "#H_0: rho = 0, H_a: rho > 0\n",
    "#Calculemos el estadístico de prueba\n",
    "t = (r*sqrt(n-2))/sqrt(1-r**2)\n",
    "\n",
    "#Sea alfa = 0.05\n",
    "c = stats.t.isf(0.05, n-2)\n",
    "\n",
    "#Planteemos el resultado de la prueba de hipótesis\n",
    "if abs(t) > c:\n",
    "    print(\"b) Las millas y el octanaje son dependientes\")\n",
    "else:\n",
    "    print(\"b) Las millas y el octanaje son independientes\")"
   ]
  },
  {
   "cell_type": "markdown",
   "metadata": {},
   "source": [
    "*Por lo tanto, se puede concluir que hay evidencia suficiente para decir que las millas y el nivel de octanaje son dependientes.*"
   ]
  },
  {
   "cell_type": "markdown",
   "metadata": {},
   "source": [
    "# Problema 10:\n",
    "Se realizó un experimento para determinar el efecto de presión y temperatura en el rendimiento de una sustancia química. Se emplearon dos niveles de presión (en libras por pulgada cuadrada, psi) y tres de temperatura:\n",
    "\n",
    "Presión: 50 , 80\n",
    "Temperatura (F) : 100, 200, 300\n",
    "\n",
    "Una prueba del experimento en cada combinación de temperatura-presión dio como resultado los datos que aparecen en la siguiente tabla.\n",
    "\n",
    "Rendimiento &nbsp; Presión &nbsp; Temperatura\\\n",
    "21 &nbsp;50&nbsp; 100 \\\n",
    "23 &nbsp;50 &nbsp;200 \\\n",
    "26 &nbsp;50 &nbsp;300 \\\n",
    "22 &nbsp;80 &nbsp;100 \\\n",
    "23 &nbsp;80 &nbsp;200 \\\n",
    "28 &nbsp;80&nbsp; 300\n",
    "\n",
    "a Ajuste el modelo $Y = \\beta_{0} +\\beta_1x_1 +\\beta_2x_2 +\\beta_3x_2^{2} + \\epsilon$, donde $x_1$ = presión y $x_2$ = temperatura. \n",
    "\n",
    "b Compruebe si $\\beta_3$ difiere considerablemente de cero, con $\\alpha$ = .05. \n",
    "\n",
    "c Pruebe la hipótesis de que la temperatura no afecta el rendimiento, con $\\alpha$ = .05."
   ]
  },
  {
   "cell_type": "code",
   "execution_count": 13,
   "metadata": {},
   "outputs": [
    {
     "name": "stdout",
     "output_type": "stream",
     "text": [
      "[16.16666667  0.03333333  0.0275      0.        ]\n"
     ]
    }
   ],
   "source": [
    "import numpy as np\n",
    "from numpy.linalg import inv\n",
    "\n",
    "#El vector Y representa el Rendimiento\n",
    "Y = np.array([21, 23, 26, 22, 23, 28])\n",
    "\n",
    "#Definimos la matriz X\n",
    "X = np.array([[1, 50, 100, 10000], [1, 50, 200, 20000], [1, 50, 300, 30000],\n",
    "              [1, 80, 100, 10000], [1, 80, 200, 20000], [1, 80, 300, 30000]]) #Las columnas son b_0, presión, temperatura, temperatura^2\n",
    "\n",
    "#Y luego su transpuesta\n",
    "X_tra = X.T\n",
    "\n",
    "#Calculemos el vector beta gorro\n",
    "beta_hat = np.dot(inv((np.dot(X_tra, X))), np.dot(X_tra, Y))\n",
    "print(beta_hat)"
   ]
  },
  {
   "cell_type": "markdown",
   "metadata": {},
   "source": [
    "*a) El modelo ajustado es $\\hat Y = 16.17 - 0.033 x_1 - 0.0275 x_2$*"
   ]
  },
  {
   "cell_type": "markdown",
   "metadata": {},
   "source": [
    "*Ahora comprobaremos si es que el valor de $\\beta_3$ difiere significativamente de 0 teniendo un nivel de significancia de 0.05. Para ello, utilizaremos la librería `statsmodels` de tal forma que, al final, podremos obtener un resumen que incluye los valores p para los coeficientes $\\beta$. Si el valor p es menor al nivel de significancia, entonces el coeficiente es significativamente diferente de cero.*"
   ]
  },
  {
   "cell_type": "code",
   "execution_count": 19,
   "metadata": {},
   "outputs": [
    {
     "name": "stdout",
     "output_type": "stream",
     "text": [
      "                            OLS Regression Results                            \n",
      "==============================================================================\n",
      "Dep. Variable:                      Y   R-squared:                       0.971\n",
      "Model:                            OLS   Adj. R-squared:                  0.928\n",
      "Method:                 Least Squares   F-statistic:                     22.56\n",
      "Date:                Mon, 18 Nov 2024   Prob (F-statistic):             0.0428\n",
      "Time:                        20:36:37   Log-Likelihood:                -3.1384\n",
      "No. Observations:                   6   AIC:                             14.28\n",
      "Df Residuals:                       2   BIC:                             13.44\n",
      "Df Model:                           3                                         \n",
      "Covariance Type:            nonrobust                                         \n",
      "==============================================================================\n",
      "                 coef    std err          t      P>|t|      [0.025      0.975]\n",
      "------------------------------------------------------------------------------\n",
      "const         20.3333      2.513      8.091      0.015       9.521      31.146\n",
      "x1             0.0333      0.019      1.732      0.225      -0.049       0.116\n",
      "x2            -0.0225      0.025     -0.909      0.459      -0.129       0.084\n",
      "x2^2           0.0001   6.12e-05      2.041      0.178      -0.000       0.000\n",
      "==============================================================================\n",
      "Omnibus:                          nan   Durbin-Watson:                   2.750\n",
      "Prob(Omnibus):                    nan   Jarque-Bera (JB):                0.562\n",
      "Skew:                          -0.000   Prob(JB):                        0.755\n",
      "Kurtosis:                       1.500   Cond. No.                     4.98e+05\n",
      "==============================================================================\n",
      "\n",
      "Notes:\n",
      "[1] Standard Errors assume that the covariance matrix of the errors is correctly specified.\n",
      "[2] The condition number is large, 4.98e+05. This might indicate that there are\n",
      "strong multicollinearity or other numerical problems.\n"
     ]
    },
    {
     "name": "stderr",
     "output_type": "stream",
     "text": [
      "C:\\Users\\quech\\AppData\\Roaming\\Python\\Python38\\site-packages\\statsmodels\\stats\\stattools.py:74: ValueWarning: omni_normtest is not valid with less than 8 observations; 6 samples were given.\n",
      "  warn(\"omni_normtest is not valid with less than 8 observations; %i \"\n"
     ]
    }
   ],
   "source": [
    "import statsmodels.api as sm\n",
    "import pandas as pd\n",
    "\n",
    "#Hagamos los arreglos para la presión (x1) y la temperatura (x2)\n",
    "x1 = np.array([50, 50, 50, 80, 80, 80])\n",
    "x2 = np.array([100, 200, 300, 100, 200, 300])\n",
    "x2_2 = np.array([i**2 for i in x2])\n",
    "\n",
    "#La siguiente expresión reoresenta la relación entre los coeficientes y los datos\n",
    "mod = 16.17 - 0.033 * x1 - 0.0275 * x2 + 0 * x2_2 + Y\n",
    "\n",
    "#Creamos un dataframe con los datos correspondientes\n",
    "data = pd.DataFrame({'x1': x1, 'x2': x2, 'x2^2':x2_2, 'Y': Y})\n",
    "\n",
    "#Añadimos una constante al modelo \n",
    "X = sm.add_constant(data[['x1', 'x2', 'x2^2']])\n",
    "\n",
    "#Ajustemos el modelo y obtengamos el resumen que nos indicará el valor p de cada constante\n",
    "model = sm.OLS(data['Y'], X).fit()\n",
    "print(model.summary())"
   ]
  },
  {
   "cell_type": "markdown",
   "metadata": {},
   "source": [
    "*b) Como se dijo anteriormente, si $p-value < \\alpha$, entonces el coeficiente es significativamente diferente de cero. En la tabla podemos ver que la columna $P>|t|$ nos indica este valor en el renglón x2^2; dado que $0.178 > 0.05$, entonces podemos concluir que el valor de la constante es cercano a 0. Incluso, en el intervalo de confianza obtenido al lado, se muestra que no hay intervalo, el valor es directamente cero (lo cual corrobora el resultado del ajuste hecho en el inciso anterior).*\n",
    "\n",
    "**Nota**: *veamos que, de paso, el resto de los coeficientes están corroborados con el mismo método; en el término constante $p < |t|$, así que es significativamente distinto de cero (lo cual es correcto para 16.17). Por el contrario, en el caso de los coeficientes para $x_1$ y $x_2$, se nota que los coeficientes con cercanos a cero (que es acertado para -0.033 y -0.0275). Esto tiene implicaciones en el siguiente inciso*\n",
    "\n",
    "*Finalmente, podemos formular las hipótesis de la siguiente manera:*\n",
    "\n",
    "*$H_0$: no hay relación entre la temperatura y el rendimiento (es decir, $\\beta_2 = 0$)*\n",
    "\n",
    "*$H_1$: la temperatura afecta al rendimiento (esto es $\\beta_2 \\neq 0$)*\n",
    "\n",
    "*c) Como vimos anteriormente, el hecho de que el valor p sea mayor que el nivel de significancia, nos indica debemos aceptar la hipótesis nula, concluyendo que la temperatura no afecta al rendimiento.*"
   ]
  },
  {
   "cell_type": "markdown",
   "metadata": {},
   "source": [
    "# Problema 11:\n",
    "Los datos de la siguiente tabla provienen de la comparación de los porcentajes de crecimiento para bacterias tipos A y B. El crecimiento Y registrado en cinco puntos igualmente espaciados (y codificados) de tiempo se muestra en la tabla.\n",
    "\n",
    "Tiempo codificado : -2, -1, 0 , 1, 2 \\\n",
    "Bacteria A : 8.0, 9.0, 9.1 , 10.2, 10.4\\\n",
    "Bacteria B : 10.0, 10.3, 12.2, 12.6, 13.9\n",
    "\n",
    "a Ajuste el modelo lineal $Y = \\beta_0 + \\beta_1 x_1 + \\beta_2 x_2 + \\beta_3 x_1 x_2 + \\epsilon$ a los n = 10 puntos. Sea $x_1$ = 1 si el punto se refiere a bacterias tipo B y sea $x_1$ = 0 si el punto se refiere al tipo A. Sea $x_2$ = tiempo codificado. \n",
    "\n",
    "b Grafique los puntos y las dos rectas de crecimiento. Observe que b3 es la diferencia entre las pendientes de las dos rectas y representa la interacción tiempo-bacteria. \n",
    "\n",
    "c Prediga el crecimiento del tipo A en el tiempo $x_2$ = 0 y compare la respuesta con la gráfica. Repita el proceso para el tipo B.\n",
    "\n",
    "d ¿Los datos presentan suficiente evidencia para indicar una diferencia en los porcentajes de crecimiento para los dos tipos de bacteria?"
   ]
  },
  {
   "cell_type": "code",
   "execution_count": 20,
   "metadata": {},
   "outputs": [
    {
     "name": "stdout",
     "output_type": "stream",
     "text": [
      "[ 9.34        2.50285714  0.6        -0.56428571]\n"
     ]
    }
   ],
   "source": [
    "import numpy as np\n",
    "from numpy.linalg import inv\n",
    "\n",
    "Y11 = np.array([8, 9, 9.1, 10.2, 10.4, 10, 10.3, 12.2, 12.6, 13.9])\n",
    "\n",
    "X11 = np.array([[1, 0, -2, 0], [1, 0, -1, 0], [1, 0, 0, 0], [1, 0, 1, 0], [1, 0, 2, 0],\n",
    "              [1, 1, -2, -2], [1, 1, -1, -1], [1, 1, 0, 0], [1, 1, -1, -1], [1, 1, -2, -2]])\n",
    "\n",
    "X_tra11 = X11.T\n",
    "\n",
    "#Calculemos el vector beta gorro\n",
    "beta_hat11 = np.dot(inv((np.dot(X_tra11, X11))), np.dot(X_tra11, Y11))\n",
    "print(beta_hat11)"
   ]
  },
  {
   "cell_type": "markdown",
   "metadata": {},
   "source": [
    "*a) El modelo ajustado corresponde a $\\hat Y = 9.34 + 2.503 x_1 + 0.6 x_2 - 0.5643 x_1 x_2$*"
   ]
  },
  {
   "cell_type": "markdown",
   "metadata": {},
   "source": [
    "*Para graficar las rectas de crecimiento, primero haremos dos ajustes simples; una para cada tipo de bacteria. Cada recta tendrá la forma $ Y = \\beta_0 + \\beta_1 x + \\epsilon $, donde Y será el porcentaje de crecimiento del grupo de bacterias correspondiente y x el tiempo codificado.*"
   ]
  },
  {
   "cell_type": "code",
   "execution_count": 21,
   "metadata": {},
   "outputs": [
    {
     "name": "stdout",
     "output_type": "stream",
     "text": [
      "0.6 9.34\n"
     ]
    }
   ],
   "source": [
    "Bac_A = np.array([8, 9, 9.1, 10.2, 10.4])\n",
    "Bac_B = np.array([10, 10.3, 12.2, 12.6, 13.9])\n",
    "Tiem = np.array([-2, -1, 0, 1, 2])\n",
    "\n",
    "#Comencemos con la recta de las bacterias A\n",
    "SA_xy = np.sum(np.array([Tiem[i]*Bac_A[i] for i in range(5)])) - (1/len(Bac_A))*np.sum(Bac_A)*np.sum(Tiem)\n",
    "SA_xx = np.sum(np.array([Tiem[i]**2 for i in range(5)])) - (1/len(Tiem))*np.sum(Tiem)**2\n",
    "\n",
    "beta_A1 = SA_xy/SA_xx\n",
    "\n",
    "beta_A0 = np.mean(Bac_A) - beta_A1*np.mean(Tiem)\n",
    "\n",
    "print(beta_A1, beta_A0)"
   ]
  },
  {
   "cell_type": "markdown",
   "metadata": {},
   "source": [
    "*La recta para las bacterias de tipo A es $\\hat Y_A = 0.6 x + 9.34$*"
   ]
  },
  {
   "cell_type": "code",
   "execution_count": 22,
   "metadata": {},
   "outputs": [
    {
     "name": "stdout",
     "output_type": "stream",
     "text": [
      "1.0099999999999998 11.8\n"
     ]
    }
   ],
   "source": [
    "#Hagamos lo mismo para las bacterias de tipo B\n",
    "SB_xy = np.sum(np.array([Tiem[i]*Bac_B[i] for i in range(5)])) - (1/len(Bac_B))*np.sum(Bac_B)*np.sum(Tiem)\n",
    "SB_xx = np.sum(np.array([Tiem[i]**2 for i in range(5)])) - (1/len(Tiem))*np.sum(Tiem)**2\n",
    "\n",
    "beta_B1 = SB_xy/SB_xx\n",
    "\n",
    "beta_B0 = np.mean(Bac_B) - beta_B1*np.mean(Tiem)\n",
    "\n",
    "print(beta_B1, beta_B0)"
   ]
  },
  {
   "cell_type": "markdown",
   "metadata": {},
   "source": [
    "*La recta para las bacterias de tipo B es $\\hat Y_B = 1.01 x + 11.8$*"
   ]
  },
  {
   "cell_type": "code",
   "execution_count": 23,
   "metadata": {},
   "outputs": [
    {
     "data": {
      "image/png": "[encoded data removed]",
      "text/plain": [
       "<Figure size 1080x504 with 1 Axes>"
      ]
     },
     "metadata": {
      "needs_background": "light"
     },
     "output_type": "display_data"
    }
   ],
   "source": [
    "import matplotlib.pyplot as plt\n",
    "\n",
    "plt.figure(figsize=(15,7))\n",
    "plt.scatter(Tiem, Bac_A, color='orange', label='Medición de bacterias A')\n",
    "plt.scatter(Tiem, Bac_B, color='blue', label='Medición de bacterias B')\n",
    "plt.plot(Tiem, [0.6*j + 9.34 for j in Tiem], color='orange', label='Recta ajustada para bacterias A')\n",
    "plt.plot(Tiem, [1.01*j + 11.8 for j in Tiem], color='blue', label='Recta ajustada para bacterias B')\n",
    "plt.title('b) Gráfica de las mediciones y las rectas ajustadas para cada tipo de bacteria')\n",
    "plt.xlabel('Tiempo codificado')\n",
    "plt.ylabel('Porcentaje de crecimiento')\n",
    "plt.legend()\n",
    "plt.show()\n"
   ]
  },
  {
   "cell_type": "code",
   "execution_count": 32,
   "metadata": {},
   "outputs": [
    {
     "data": {
      "image/png": "[encoded data removed]",
      "text/plain": [
       "<Figure size 1080x504 with 1 Axes>"
      ]
     },
     "metadata": {
      "needs_background": "light"
     },
     "output_type": "display_data"
    }
   ],
   "source": [
    "import matplotlib.pyplot as plt\n",
    "\n",
    "#Predicción para las bacterias de tipo A cuando el tiempo es 0\n",
    "Y_pred_A = 9.34 + 2.503*0 + 0.6*0 - 0.5643*0*0 #Recordemos que x_1 es 0 cuando nos referimos a las bacterias tipo A\n",
    "\n",
    "#Predicción para las bacterias de tipo B\n",
    "Y_pred_B = 9.34 + 2.503*1 + 0.6*0 - 0.5643*1*0\n",
    "\n",
    "#Comparemos estos valores con los de la gráfica\n",
    "plt.figure(figsize=(15,7))\n",
    "plt.scatter(Tiem, Bac_A, color='orange', label='Medición de bacterias A')\n",
    "plt.scatter(Tiem, Bac_B, color='blue', label='Medición de bacterias B')\n",
    "plt.scatter(0, Y_pred_A, color='black', label='Predicción del modelo para A', marker='x')\n",
    "plt.scatter(0, Y_pred_B, color='red', label='Predicción del modelo para B', marker='x')\n",
    "plt.plot(Tiem, [0.6*j + 9.34 for j in Tiem], color='orange', label='Recta ajustada para bacterias A')\n",
    "plt.plot(Tiem, [1.01*j + 11.8 for j in Tiem], color='blue', label='Recta ajustada para bacterias B')\n",
    "plt.title('c) Predicción del modelo ajustado cuando el tiempo codificado vale cero')\n",
    "plt.xlabel('Tiempo codificado')\n",
    "plt.ylabel('Porcentaje de crecimiento')\n",
    "plt.legend()\n",
    "plt.show()"
   ]
  },
  {
   "cell_type": "markdown",
   "metadata": {},
   "source": [
    "*c) Podemos notar que las predicciones hechas por el modelo son muy cercanas tanto a los modelos individuales de cada tipo de bacterias como a los datos reales provenientes de las mediciones.*"
   ]
  },
  {
   "cell_type": "markdown",
   "metadata": {},
   "source": [
    "*Partimos de suponer que los datos provienen de una distribución normal. Luego, al tener muestras pequeñas de datos, podemos hacer una prueba de hipótesis para dos muestras poblacionales. Pretendemos mostrar si es que existe una diferencia entre las medias de los porcentajes de crecimiento. Formularemos las siguientes hipótesis:*\n",
    "\n",
    "*$H_0$: no hay diferencia entre $\\mu_1$ y $\\mu_2$, esto es, $\\mu_1 - \\mu_2 = 0$*\n",
    "\n",
    "*$H_a$: la diferencia entre ambas medias existe, es decir, $\\mu_1 - \\mu_2 \\neq 0$*"
   ]
  },
  {
   "cell_type": "code",
   "execution_count": 37,
   "metadata": {},
   "outputs": [
    {
     "name": "stdout",
     "output_type": "stream",
     "text": [
      "Se rechaza H_0\n"
     ]
    }
   ],
   "source": [
    "from math import sqrt\n",
    "\n",
    "n = len(Bac_A) #Número de mediciones (es el mismo para ambos tipos de bacterias)\n",
    "alfa = 0.05  #Nivel de confianza de la prueba\n",
    "gdl = 2*n - 2   #Grados de libertad\n",
    "Prom_A = np.mean(Bac_A)     #Promedios muestrales\n",
    "Prom_B = np.mean(Bac_B)\n",
    "s2_A = np.var(A, ddof=1)    #Varianza muestral\n",
    "s2_B = np.var(B, ddof=1)\n",
    "\n",
    "#Calculemos Sp con la fórmula simplificada del ejercicio 6\n",
    "s_p = sqrt((s2_A + s2_B)/2)\n",
    "\n",
    "T = (Prom_A - Prom_B)/(s_p*sqrt(2/n)) #Estadístico T (de nuevo, la ecuación se ha simplificado)\n",
    "t = stats.t.isf(1 - alfa/2, gdl) #valor de la función delimitado por alfa\n",
    "\n",
    "#La región de rechazo es |T| > t_alfa/2:\n",
    "if abs(T) > t:\n",
    "    print(\"Se rechaza H_0\")\n",
    "else:\n",
    "    print(\"Se acepta H_0\")"
   ]
  },
  {
   "cell_type": "markdown",
   "metadata": {},
   "source": [
    "*d) Por lo tanto, concluimos que sí hay una diferencia entre las medias poblacionales de los porcentajes de crecimiento de cada tipo de bacteria.*"
   ]
  },
  {
   "cell_type": "markdown",
   "metadata": {
    "id": "UMPpsFF7maAF"
   },
   "source": [
    "# Problema 12:\n",
    "\n",
    "Supongamos que deseas analizar la diferencia en las calificaciones obtenidas por tres grupos de estudiantes en un examen de matemáticas. Los grupos son: \"Grupo A\", \"Grupo B\" y \"Grupo C\". Tienes los datos de las calificaciones obtenidas por cada estudiante en un archivo CSV llamado \"calificaciones.csv\". \n",
    "\n",
    "Haz una prueba Anova para ver si hay diferencia en calificaciones de los tres grupos."
   ]
  },
  {
   "cell_type": "markdown",
   "metadata": {},
   "source": [
    "*Elgiremos el nivel de significancia usual que es de 0.05.*"
   ]
  },
  {
   "cell_type": "code",
   "execution_count": 2,
   "metadata": {},
   "outputs": [
    {
     "data": {
      "text/plain": [
       "F_onewayResult(statistic=0.017511360676141122, pvalue=0.8973476766572029)"
      ]
     },
     "execution_count": 2,
     "metadata": {},
     "output_type": "execute_result"
    }
   ],
   "source": [
    "import pandas as pd\n",
    "from scipy.stats import f_oneway \n",
    "\n",
    "#Comencemos por leer los datos\n",
    "datos = pd.read_csv('datos.csv')\n",
    "\n",
    "#Es conveniente separar los datos de cada grupo\n",
    "A = datos[datos['Grupo'] == 'Grupo A']['Datos']\n",
    "B = datos[datos['Grupo'] == 'Grupo B']['Datos']\n",
    "\n",
    "#Hagamos la prueba ANOVA. La función f_oneway nos devolverá el valor del estadístico F y el valor p\n",
    "resultado = f_oneway(A, B)\n",
    "\n",
    "#Veamos el resultado\n",
    "resultado\n"
   ]
  },
  {
   "cell_type": "markdown",
   "metadata": {},
   "source": [
    "*Notemos que el nivel de significancia es mucho menor que el valor p, esto implica que no hay suficientes pruebas que indiquen que hay una diferencia estadísticamente significativa entre las calificaciones de los dos grupos.*"
   ]
  },
  {
   "cell_type": "markdown",
   "metadata": {
    "id": "6Kzl2eSnnQQK"
   },
   "source": [
    "# Problema 13:\n",
    "\n",
    "Supongamos que tienes dos grupos de datos: \"Grupo A\" y \"Grupo B\", y deseas determinar si hay una diferencia significativa entre las medianas de ambos grupos. No sabes si los datos provienene de distribución normal.\n",
    "\n",
    "a) Haz una prueba gráfica y una prueba de hipótesis para saber si los datos tienen una distribución normal para ambos grupos.\n",
    "\n",
    "b) Emplea estadística no paramétrica para probar si hay diferencia significativa en la mediana entre ambos grupos.\n",
    "\n",
    "Los datos están en el archivo datos.csv"
   ]
  },
  {
   "cell_type": "code",
   "execution_count": 29,
   "metadata": {},
   "outputs": [
    {
     "name": "stdout",
     "output_type": "stream",
     "text": [
      "Collecting seaborn\n",
      "  Downloading seaborn-0.13.2-py3-none-any.whl (294 kB)\n",
      "Requirement already satisfied, skipping upgrade: matplotlib!=3.6.1,>=3.4 in c:\\users\\quech\\appdata\\roaming\\python\\python38\\site-packages (from seaborn) (3.6.2)\n",
      "Requirement already satisfied, skipping upgrade: pandas>=1.2 in c:\\users\\quech\\appdata\\roaming\\python\\python38\\site-packages (from seaborn) (1.5.2)\n",
      "Requirement already satisfied, skipping upgrade: numpy!=1.24.0,>=1.20 in c:\\users\\quech\\anaconda3\\lib\\site-packages (from seaborn) (1.24.4)\n",
      "Requirement already satisfied, skipping upgrade: kiwisolver>=1.0.1 in c:\\users\\quech\\anaconda3\\lib\\site-packages (from matplotlib!=3.6.1,>=3.4->seaborn) (1.2.0)\n",
      "Requirement already satisfied, skipping upgrade: fonttools>=4.22.0 in c:\\users\\quech\\appdata\\roaming\\python\\python38\\site-packages (from matplotlib!=3.6.1,>=3.4->seaborn) (4.38.0)\n",
      "Requirement already satisfied, skipping upgrade: packaging>=20.0 in c:\\users\\quech\\appdata\\roaming\\python\\python38\\site-packages (from matplotlib!=3.6.1,>=3.4->seaborn) (22.0)\n",
      "Requirement already satisfied, skipping upgrade: python-dateutil>=2.7 in c:\\users\\quech\\anaconda3\\lib\\site-packages (from matplotlib!=3.6.1,>=3.4->seaborn) (2.8.1)\n",
      "Requirement already satisfied, skipping upgrade: cycler>=0.10 in c:\\users\\quech\\anaconda3\\lib\\site-packages (from matplotlib!=3.6.1,>=3.4->seaborn) (0.10.0)\n",
      "Requirement already satisfied, skipping upgrade: contourpy>=1.0.1 in c:\\users\\quech\\appdata\\roaming\\python\\python38\\site-packages (from matplotlib!=3.6.1,>=3.4->seaborn) (1.0.6)\n",
      "Requirement already satisfied, skipping upgrade: pillow>=6.2.0 in c:\\users\\quech\\anaconda3\\lib\\site-packages (from matplotlib!=3.6.1,>=3.4->seaborn) (7.2.0)\n",
      "Requirement already satisfied, skipping upgrade: pyparsing>=2.2.1 in c:\\users\\quech\\anaconda3\\lib\\site-packages (from matplotlib!=3.6.1,>=3.4->seaborn) (2.4.7)\n",
      "Requirement already satisfied, skipping upgrade: pytz>=2020.1 in c:\\users\\quech\\anaconda3\\lib\\site-packages (from pandas>=1.2->seaborn) (2020.1)\n",
      "Requirement already satisfied, skipping upgrade: six>=1.5 in c:\\users\\quech\\anaconda3\\lib\\site-packages (from python-dateutil>=2.7->matplotlib!=3.6.1,>=3.4->seaborn) (1.15.0)\n",
      "Installing collected packages: seaborn\n",
      "  Attempting uninstall: seaborn\n",
      "    Found existing installation: seaborn 0.10.1\n",
      "    Uninstalling seaborn-0.10.1:\n",
      "      Successfully uninstalled seaborn-0.10.1\n",
      "Successfully installed seaborn-0.13.2\n",
      "Note: you may need to restart the kernel to use updated packages.\n"
     ]
    }
   ],
   "source": [
    "pip install --upgrade seaborn"
   ]
  },
  {
   "cell_type": "markdown",
   "metadata": {},
   "source": [
    "*En primer lugar, haremos la prueba gráfica. Para ello haremos un histograma con curva normal. En este gráfico observaremos el histograma de los datos junto con la curva representativa de la distribución normal. Si las barras del histograma siguen una forma parecida a la de la campana, entonces podemos decir que los datos vienen de una distribución normal. De lo contrario, podríamos tener un indicador de que los datos no provienen de dicha distribución.*"
   ]
  },
  {
   "cell_type": "code",
   "execution_count": 6,
   "metadata": {},
   "outputs": [
    {
     "data": {
      "image/png": "[encoded data removed]",
      "text/plain": [
       "<Figure size 1008x432 with 2 Axes>"
      ]
     },
     "metadata": {
      "needs_background": "light"
     },
     "output_type": "display_data"
    }
   ],
   "source": [
    "#Hagamos una prueba gráfica\n",
    "import seaborn as sns\n",
    "import matplotlib.pyplot as plt\n",
    "import scipy.stats as stats\n",
    "import numpy as np\n",
    "\n",
    "#Histograma con curva de densidad normal\n",
    "plt.figure(figsize=(14, 6))\n",
    "\n",
    "#Prueba gráfica para el grupo A \n",
    "plt.subplot(1, 2, 1)\n",
    "plt.hist(A, bins=10, density=True, alpha=0.6, color='yellow', label='Histograma')\n",
    "xmin, xmax = plt.xlim()\n",
    "x_vals = np.linspace(xmin, xmax, 100)\n",
    "plt.plot(x_vals, stats.norm.pdf(x_vals, np.mean(A), np.std(A)), 'r-', label='Curva Normal')\n",
    "plt.title('Grupo A: Histograma y Curva Normal')\n",
    "plt.legend()\n",
    "\n",
    "#Misma prueba para el grupo B\n",
    "plt.subplot(1, 2, 2)\n",
    "plt.hist(B, bins=10, density=True, alpha=0.6, color='green', label='Histograma')\n",
    "xmin, xmax = plt.xlim()\n",
    "x_vals = np.linspace(xmin, xmax, 100)\n",
    "plt.plot(x_vals, stats.norm.pdf(x_vals, np.mean(B), np.std(B)), 'r-', label='Curva Normal')\n",
    "plt.title('Grupo B: Histograma y Curva Normal')\n",
    "plt.legend()\n",
    "\n",
    "plt.tight_layout()\n",
    "plt.show()"
   ]
  },
  {
   "cell_type": "markdown",
   "metadata": {},
   "source": [
    "*Como podemos ver, las barras en el histograma no siguen la forma establecida por la distribución normal. Por lo tanto, por medio de esta prueba gráfica y por el momento, podríamos decir que las calificaciones no provienen de una distribución de este tipo. A continuación, procederemos con la prueba de hipótesis hecha con la prueba de Shapiro-Wilk:*\n",
    "\n",
    "*$H_0$: las calificaciones de los dos grupos provienen de una distribución normal*\n",
    "\n",
    "*$H_1$: las calificaciones no provienen de una distribución normal*"
   ]
  },
  {
   "cell_type": "code",
   "execution_count": 7,
   "metadata": {},
   "outputs": [
    {
     "name": "stdout",
     "output_type": "stream",
     "text": [
      "No se rechaza la hipótesis nula para el grupo A\n",
      "No se rechaza la hipótesis nula para el grupo B\n"
     ]
    }
   ],
   "source": [
    "from scipy.stats import shapiro\n",
    "\n",
    "stat_a, p_a = shapiro(A)\n",
    "stat_b, p_b = shapiro(B)\n",
    "\n",
    "#Proponemos un nivel de significancia de 5%\n",
    "alfa = 0.05\n",
    "if p_a > alfa:\n",
    "    print('No se rechaza la hipótesis nula para el grupo A')\n",
    "else:\n",
    "    print('Se rechaza la hipótesis nula para el grupo A')\n",
    "\n",
    "if p_b > alfa:\n",
    "    print('No se rechaza la hipótesis nula para el grupo B')\n",
    "else:\n",
    "    print('Se rechaza la hipótesis nula para el grupo B')"
   ]
  },
  {
   "cell_type": "markdown",
   "metadata": {},
   "source": [
    "*a) Por lo tanto, aceptamos la hipótesis nula y podemos decir que los datos presentan evidencia de que provienen de una distribución normal.*"
   ]
  },
  {
   "cell_type": "markdown",
   "metadata": {},
   "source": [
    "*Ahora hagamos la prueba con estadística no paramétrica. Para ello utilizaremos la prueba de Mann-Whitney U con las siguientes hipótesis:*\n",
    "\n",
    "*$H_0$: no hay diferencia entre las medianas de ambos grupos*\n",
    "\n",
    "*$H_1$: existe diferencia entre las medianas*"
   ]
  },
  {
   "cell_type": "code",
   "execution_count": 12,
   "metadata": {},
   "outputs": [
    {
     "name": "stdout",
     "output_type": "stream",
     "text": [
      "No se rechaza la hipótesis nula\n"
     ]
    }
   ],
   "source": [
    "from scipy.stats import mannwhitneyu\n",
    "\n",
    "#Realicemos la prueba para ver si hay cualquier tipo de diferencia entre las medianas\n",
    "stat, p = mannwhitneyu(A, B, alternative='two-sided')\n",
    "\n",
    "#Definamos el nivel de significancia del 5%\n",
    "alfa = 0.05\n",
    "if p > alfa:\n",
    "    print('No se rechaza la hipótesis nula')\n",
    "else:\n",
    "    print('Se rechaza la hipótesis nula')"
   ]
  },
  {
   "cell_type": "markdown",
   "metadata": {},
   "source": [
    "*b) Por lo tanto, podemos decir que no hay evidencia que indique que hay una diferencia significativa entre las medianas de ambos grupos.*"
   ]
  }
 ],
 "metadata": {
  "colab": {
   "authorship_tag": "ABX9TyO0d4rZx/gQLxR5+ifoRDEq",
   "provenance": []
  },
  "kernelspec": {
   "display_name": "base",
   "language": "python",
   "name": "python3"
  },
  "language_info": {
   "codemirror_mode": {
    "name": "ipython",
    "version": 3
   },
   "file_extension": ".py",
   "mimetype": "text/x-python",
   "name": "python",
   "nbconvert_exporter": "python",
   "pygments_lexer": "ipython3",
   "version": "3.8.3"
  }
 },
 "nbformat": 4,
 "nbformat_minor": 0
}
