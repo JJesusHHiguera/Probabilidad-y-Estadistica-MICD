{
 "cells": [
  {
   "cell_type": "markdown",
   "metadata": {
    "application/vnd.databricks.v1+cell": {
     "cellMetadata": {
      "byteLimit": 2048000,
      "rowLimit": 10000
     },
     "inputWidgets": {},
     "nuid": "84658254-245d-4560-be1a-ba14f520ad5c",
     "showTitle": false,
     "title": ""
    }
   },
   "source": [
    "# **Tarea 3: Estadística descriptiva, Pandas y Spark**\n",
    "\n",
    "## Alumno: José de Jesús Hernández Higuera\n",
    "\n",
    "### Matrícula: 224470489"
   ]
  },
  {
   "cell_type": "markdown",
   "metadata": {
    "application/vnd.databricks.v1+cell": {
     "cellMetadata": {
      "byteLimit": 2048000,
      "rowLimit": 10000
     },
     "inputWidgets": {},
     "nuid": "e40d764c-1448-4007-9af7-c1b9d49baf18",
     "showTitle": false,
     "title": ""
    }
   },
   "source": [
    "## **Proyecto hecho con Spark**\n",
    "\n",
    "**Nota:** para una mejor visualización de los gráficos, tablas y resultados en general, es mejor abrir el notebook en Databricks en el enlace que se deja a continuación.\n",
    "\n",
    "https://databricks-prod-cloudfront.cloud.databricks.com/public/4027ec902e239c93eaaa8714f173bcfc/2137159849679552/3977006123814776/8541298474673569/latest.html"
   ]
  },
  {
   "cell_type": "markdown",
   "metadata": {
    "application/vnd.databricks.v1+cell": {
     "cellMetadata": {
      "byteLimit": 2048000,
      "rowLimit": 10000
     },
     "inputWidgets": {},
     "nuid": "ad392edd-31ea-4f72-a7de-22849b4610ed",
     "showTitle": false,
     "title": ""
    }
   },
   "source": [
    "### Preprocesamiento de los datos"
   ]
  },
  {
   "cell_type": "markdown",
   "metadata": {
    "application/vnd.databricks.v1+cell": {
     "cellMetadata": {
      "byteLimit": 2048000,
      "rowLimit": 10000
     },
     "inputWidgets": {},
     "nuid": "a04ba21f-bd25-411c-8d28-f9070115c0a4",
     "showTitle": false,
     "title": ""
    }
   },
   "source": [
    "*Este notebook estará desarrollado con Databricks, entonces, comenzaremos por subir los archivos de tipo csv y ver el directorio correspondiente a las tablas. Luego. leeremos los archivos para ir construyendo los Dataframes de Spark.*"
   ]
  },
  {
   "cell_type": "code",
   "execution_count": 0,
   "metadata": {
    "application/vnd.databricks.v1+cell": {
     "cellMetadata": {
      "byteLimit": 2048000,
      "rowLimit": 10000
     },
     "inputWidgets": {},
     "nuid": "17492702-337e-4a7e-9e3e-725f572cd9bd",
     "showTitle": false,
     "title": ""
    }
   },
   "outputs": [
    {
     "name": "stdout",
     "output_type": "stream",
     "text": [
      "Out[2]: [FileInfo(path='dbfs:/FileStore/tables/2015-1.csv', name='2015-1.csv', size=56228885, modificationTime=1729890253000),\n",
      " FileInfo(path='dbfs:/FileStore/tables/2015.csv', name='2015.csv', size=56228885, modificationTime=1729761069000),\n",
      " FileInfo(path='dbfs:/FileStore/tables/2016.csv', name='2016.csv', size=68634144, modificationTime=1729914564000),\n",
      " FileInfo(path='dbfs:/FileStore/tables/2016_programa.csv', name='2016_programa.csv', size=17930526, modificationTime=1729914550000),\n",
      " FileInfo(path='dbfs:/FileStore/tables/2017.csv', name='2017.csv', size=13062694, modificationTime=1729915270000),\n",
      " FileInfo(path='dbfs:/FileStore/tables/2018.csv', name='2018.csv', size=12636453, modificationTime=1729915270000),\n",
      " FileInfo(path='dbfs:/FileStore/tables/2019.csv', name='2019.csv', size=20438624, modificationTime=1729915282000),\n",
      " FileInfo(path='dbfs:/FileStore/tables/2020.csv', name='2020.csv', size=24301567, modificationTime=1729915284000),\n",
      " FileInfo(path='dbfs:/FileStore/tables/LifeExpectancy_GDP.csv', name='LifeExpectancy_GDP.csv', size=725969, modificationTime=1729637155000)]"
     ]
    }
   ],
   "source": [
    "dbutils.fs.ls(\"/FileStore/tables/\")"
   ]
  },
  {
   "cell_type": "code",
   "execution_count": 0,
   "metadata": {
    "application/vnd.databricks.v1+cell": {
     "cellMetadata": {
      "byteLimit": 2048000,
      "rowLimit": 10000
     },
     "inputWidgets": {},
     "nuid": "5b494428-08c8-4a4b-b1ed-f939ba63035c",
     "showTitle": false,
     "title": ""
    }
   },
   "outputs": [
    {
     "name": "stdout",
     "output_type": "stream",
     "text": [
      "Out[3]: DataFrame[key: string, value: string]"
     ]
    }
   ],
   "source": [
    "from pyspark.sql.functions import *\n",
    "from pyspark.sql.types import *\n",
    "spark.sql(\"set spark.sql.legacy.timeParserPolicy=LEGACY\")"
   ]
  },
  {
   "cell_type": "code",
   "execution_count": 0,
   "metadata": {
    "application/vnd.databricks.v1+cell": {
     "cellMetadata": {
      "byteLimit": 2048000,
      "rowLimit": 10000
     },
     "inputWidgets": {},
     "nuid": "81cd9a3f-5ff4-4633-8181-3addc9ec1613",
     "showTitle": false,
     "title": ""
    }
   },
   "outputs": [],
   "source": [
    "capturas_2015 = spark.read.csv('dbfs:/FileStore/tables/2015.csv', header=True, inferSchema=True)\n",
    "capturas_2016 = spark.read.csv('dbfs:/FileStore/tables/2016.csv', header=True, inferSchema=True)\n",
    "capturas_programa = spark.read.csv('dbfs:/FileStore/tables/2016_programa.csv', header=True, inferSchema=True)\n",
    "capturas_2017 = spark.read.csv('dbfs:/FileStore/tables/2017.csv', header=True, inferSchema=True)\n",
    "capturas_2018 = spark.read.csv('dbfs:/FileStore/tables/2018.csv', header=True, inferSchema=True)\n",
    "capturas_2019 = spark.read.csv('dbfs:/FileStore/tables/2019.csv', header=True, inferSchema=True)\n",
    "capturas_2020 = spark.read.csv('dbfs:/FileStore/tables/2020.csv', header=True, inferSchema=True)"
   ]
  },
  {
   "cell_type": "markdown",
   "metadata": {
    "application/vnd.databricks.v1+cell": {
     "cellMetadata": {
      "byteLimit": 2048000,
      "rowLimit": 10000
     },
     "inputWidgets": {},
     "nuid": "fab0760e-c330-4916-8f97-1b22600d1d1b",
     "showTitle": false,
     "title": ""
    }
   },
   "source": [
    "*Ahora procederemos a hacer algunas modificaciones para hacer más cómodo el trabajo.*"
   ]
  },
  {
   "cell_type": "code",
   "execution_count": 0,
   "metadata": {
    "application/vnd.databricks.v1+cell": {
     "cellMetadata": {
      "byteLimit": 2048000,
      "rowLimit": 10000
     },
     "inputWidgets": {},
     "nuid": "444497d3-db4c-4b6a-a1bc-cd2e302ac965",
     "showTitle": false,
     "title": ""
    }
   },
   "outputs": [],
   "source": [
    "# El dataframe del 2016 y el que se llama programa tienen fechas del 2016, de modo que es conveniente unirlos en un sólo dataframe\n",
    "cap_2016 = capturas_2016.union(capturas_programa)\n",
    "\n",
    "# Cambiemos la columna llamada 'fecha' por una llamada 'Fecha'\n",
    "capturas_2018 = capturas_2018.withColumnRenamed('fecha', 'Fecha')"
   ]
  },
  {
   "cell_type": "code",
   "execution_count": 0,
   "metadata": {
    "application/vnd.databricks.v1+cell": {
     "cellMetadata": {
      "byteLimit": 2048000,
      "rowLimit": 10000
     },
     "inputWidgets": {},
     "nuid": "81a5cbff-a8cb-4a2c-b252-81ada9fb04ec",
     "showTitle": false,
     "title": ""
    }
   },
   "outputs": [],
   "source": [
    "# Ahora, convertiremos la columna 'Fecha' en un formato timestamp (intenté un ciclo for, pero no pareció funcionar)\n",
    "# Adicionalmente, guardaremos los Dataframes en memoria para poder usarlos más adelante (excepto el 2019)\n",
    "capturas_2015 = capturas_2015.withColumn('Fecha', to_timestamp('Fecha', 'dd/MM/yyyy')).cache()\n",
    "capturas_2016 = cap_2016.withColumn('Fecha', to_timestamp('Fecha', 'dd/MM/yyyy')).cache()\n",
    "capturas_2017 = capturas_2017.withColumn('Fecha', to_timestamp('Fecha', 'dd/MM/yyyy')).cache()\n",
    "capturas_2018 = capturas_2018.withColumn('Fecha', to_timestamp('fecha', 'dd/MM/yyyy')).cache()\n",
    "capturas_2020 = capturas_2020.withColumn('Fecha', to_timestamp('Fecha', 'dd/MM/yyyy')).cache()"
   ]
  },
  {
   "cell_type": "markdown",
   "metadata": {
    "application/vnd.databricks.v1+cell": {
     "cellMetadata": {
      "byteLimit": 2048000,
      "rowLimit": 10000
     },
     "inputWidgets": {},
     "nuid": "3b9c170a-9509-465d-9f2f-5fb68ebb3c22",
     "showTitle": false,
     "title": ""
    }
   },
   "source": [
    "*En la celda anterior no se guarda el año 2019 porque el resultado de la conversión hace que la columna 'Fecha' tenga valores nulos 'null' . Esto, como se muestra a continuación, es debido a que al menos una de las líneas de esta columna están vacías o tienen un formato inadecuado. De modo que antes de proceder con la conversión se debe limpiar esta columna.*"
   ]
  },
  {
   "cell_type": "code",
   "execution_count": 0,
   "metadata": {
    "application/vnd.databricks.v1+cell": {
     "cellMetadata": {
      "byteLimit": 2048000,
      "rowLimit": 10000
     },
     "inputWidgets": {},
     "nuid": "fb469b37-f30b-464a-b56a-ef03d345c547",
     "showTitle": false,
     "title": ""
    }
   },
   "outputs": [
    {
     "name": "stdout",
     "output_type": "stream",
     "text": [
      "+-----+\n",
      "|Fecha|\n",
      "+-----+\n",
      "+-----+\n",
      "\n"
     ]
    }
   ],
   "source": [
    "# En estas líneas descubriremos el problema que no permiten la conversión de la columna 'Fecha'\n",
    "df_temp = capturas_2019.withColumn(\"Fecha_temp\", to_timestamp(\"Fecha\", \"dd/MM/yyyy\"))\n",
    "df_temp.filter(col(\"Fecha_temp\").isNull()).select(\"Fecha\").show(truncate=False)\n",
    "# Después, procedemos a realizar la limpieza necesaria\n",
    "capturas_2019 = capturas_2019.withColumn(\"Fecha\", trim(col(\"Fecha\")))\n",
    "# Finalmente, tenemos ahora sí la conversión adecuada y la guardaremos en memoria\n",
    "capturas_2019 = capturas_2019.withColumn(\"Fecha\", to_timestamp(\"Fecha\", \"dd/MM/yyyy\")).cache()"
   ]
  },
  {
   "cell_type": "code",
   "execution_count": 0,
   "metadata": {
    "application/vnd.databricks.v1+cell": {
     "cellMetadata": {
      "byteLimit": 2048000,
      "rowLimit": 10000
     },
     "inputWidgets": {},
     "nuid": "fb1cd7d4-3140-46bb-bfdf-071df1786390",
     "showTitle": false,
     "title": ""
    }
   },
   "outputs": [
    {
     "name": "stdout",
     "output_type": "stream",
     "text": [
      "+-------------------+--------------------+--------+---------+--------------------+---------+----------------+-------+----------+-------------+-----------------+-----------------+-----------------+---------------+--------------+-----------------+---------------+--------------+-----------------+---------------+--------------+-----------------+---------------+--------------+---+------+\n",
      "|              Fecha|           Ubicacion| Latitud| Longitud|           Productor|Municipio|       Localidad|Cultivo|Superficie|NoTrampasInst|Trampas_revisadas|DiaphorinaXTrampa|Fenologia_Brote_1|Adultos_Brote_1|Ninfas_Brote_1|Fenologia_Brote_2|Adultos_Brote_2|Ninfas_Brote_2|Fenologia_Brote_3|Adultos_Brote_3|Ninfas_Brote_3|Fenologia_Brote_4|Adultos_Brote_4|Ninfas_Brote_4|Mes|Semana|\n",
      "+-------------------+--------------------+--------+---------+--------------------+---------+----------------+-------+----------+-------------+-----------------+-----------------+-----------------+---------------+--------------+-----------------+---------------+--------------+-----------------+---------------+--------------+-----------------+---------------+--------------+---+------+\n",
      "|2019-01-16 00:00:00|THUE05/28-019/295...| 23.2901|-98.86182|ONESIMO OLVERA ZU...|    LLERA|EJIDO COMPUERTAS|NARANJA|       0.0|            0|                1|                0|             null|              0|             0|             null|              0|             0|             null|              0|             0|             null|              0|             0|  1|     3|\n",
      "|2019-02-13 00:00:00|THUE05/28-019/295...| 23.2897|-98.86197|ONESIMO OLVERA ZU...|    LLERA|EJIDO COMPUERTAS|NARANJA|       0.0|            0|                0|                0|             null|              0|             0|             null|              0|             0|             null|              0|             0|             null|              0|             0|  2|     7|\n",
      "|2019-02-13 00:00:00|THUE05/28-019/295...| 23.2906|-98.86144|ONESIMO OLVERA ZU...|    LLERA|EJIDO COMPUERTAS|NARANJA|       0.0|            0|                0|                0|             null|              0|             0|             null|              0|             0|             null|              0|             0|             null|              0|             0|  2|     7|\n",
      "|2019-02-13 00:00:00|THUE05/28-019/295...|23.28952|-98.86261|ONESIMO OLVERA ZU...|    LLERA|EJIDO COMPUERTAS|NARANJA|       0.0|            0|                0|                0|             null|              0|             0|             null|              0|             0|             null|              0|             0|             null|              0|             0|  2|     7|\n",
      "|2019-02-13 00:00:00|THUE05/28-019/295...|23.28956|-98.86204|ONESIMO OLVERA ZU...|    LLERA|EJIDO COMPUERTAS|NARANJA|       0.0|            0|                0|                0|             null|              0|             0|             null|              0|             0|             null|              0|             0|             null|              0|             0|  2|     7|\n",
      "+-------------------+--------------------+--------+---------+--------------------+---------+----------------+-------+----------+-------------+-----------------+-----------------+-----------------+---------------+--------------+-----------------+---------------+--------------+-----------------+---------------+--------------+-----------------+---------------+--------------+---+------+\n",
      "only showing top 5 rows\n",
      "\n"
     ]
    }
   ],
   "source": [
    "# Comprobemos si la transformación ha resultado\n",
    "capturas_2019.show(5)"
   ]
  },
  {
   "cell_type": "markdown",
   "metadata": {
    "application/vnd.databricks.v1+cell": {
     "cellMetadata": {
      "byteLimit": 2048000,
      "rowLimit": 10000
     },
     "inputWidgets": {},
     "nuid": "c2245d76-83c5-41e0-a0e4-955a3179469a",
     "showTitle": false,
     "title": ""
    }
   },
   "source": [
    "*A continuación, veremos que el DataFrame del 2016 tiene fechas que pertenecen al 2015. Para mostrarlo primero crearemos una vista temporal del DataFrame del 2016 en SQL y, posteriormente haremos el filtrado usando la cláusula 'where'.*"
   ]
  },
  {
   "cell_type": "code",
   "execution_count": 0,
   "metadata": {
    "application/vnd.databricks.v1+cell": {
     "cellMetadata": {
      "byteLimit": 2048000,
      "rowLimit": 10000
     },
     "inputWidgets": {},
     "nuid": "c585dd61-e4e9-4fe9-9fbe-d1f965c40f2f",
     "showTitle": false,
     "title": ""
    }
   },
   "outputs": [],
   "source": [
    "capturas_2016.createOrReplaceTempView('cap_2016')"
   ]
  },
  {
   "cell_type": "code",
   "execution_count": 0,
   "metadata": {
    "application/vnd.databricks.v1+cell": {
     "cellMetadata": {
      "byteLimit": 2048000,
      "implicitDf": true,
      "rowLimit": 10000
     },
     "inputWidgets": {},
     "nuid": "27d89361-7c62-44e8-9575-1ba5308601da",
     "showTitle": false,
     "title": ""
    }
   },
   "outputs": [
    {
     "data": {
      "text/html": [
       "<style scoped>\n",
       "  .table-result-container {\n",
       "    max-height: 300px;\n",
       "    overflow: auto;\n",
       "  }\n",
       "  table, th, td {\n",
       "    border: 1px solid black;\n",
       "    border-collapse: collapse;\n",
       "  }\n",
       "  th, td {\n",
       "    padding: 5px;\n",
       "  }\n",
       "  th {\n",
       "    text-align: left;\n",
       "  }\n",
       "</style><div class='table-result-container'><table class='table-result'><thead style='background-color: white'><tr><th>Fecha</th><th>Latitud</th><th>Longitud</th><th>Ubicacion</th><th>Municipio</th><th>Comunidad</th><th>Productor</th><th>Cultivo</th><th>Fenologia</th><th>Superficie_ha</th><th>No_Trampas_Instaladas</th><th>No_Trampas_Revisadas</th><th>No_DiaphorinasXtrampa</th><th>Mes</th><th>Semana</th></tr></thead><tbody><tr><td>2015-01-09T00:00:00.000+0000</td><td>23.93176</td><td>-99.17629</td><td>177_THUE05-28-041-0068T01</td><td>VICTORIA</td><td>Victoria</td><td>CERVERA_HERRERA_JAVIER</td><td>NARANJA</td><td>DESARROLLO (crecimiento)</td><td>90.0</td><td>0</td><td>0</td><td>0</td><td>1</td><td>2</td></tr><tr><td>2015-01-02T00:00:00.000+0000</td><td>23.93176</td><td>-99.17629</td><td>177_THUE05-28-041-0068T01</td><td>VICTORIA</td><td>Victoria</td><td>CERVERA_HERRERA_JAVIER</td><td>NARANJA</td><td>FRUCTIFICACIÓN</td><td>90.0</td><td>0</td><td>1</td><td>0</td><td>1</td><td>1</td></tr><tr><td>2015-01-16T00:00:00.000+0000</td><td>23.93318</td><td>-99.17713</td><td>177_THUE05-28-041-0068T02</td><td>VICTORIA</td><td>Victoria</td><td>CERVERA_HERRERA_JAVIER</td><td>NARANJA</td><td>DESARROLLO (crecimiento)</td><td>0.0</td><td>0</td><td>0</td><td>0</td><td>1</td><td>3</td></tr><tr><td>2015-01-09T00:00:00.000+0000</td><td>23.93318</td><td>-99.17713</td><td>177_THUE05-28-041-0068T02</td><td>VICTORIA</td><td>Victoria</td><td>CERVERA_HERRERA_JAVIER</td><td>NARANJA</td><td>DESARROLLO (crecimiento)</td><td>0.0</td><td>0</td><td>0</td><td>0</td><td>1</td><td>2</td></tr><tr><td>2015-01-02T00:00:00.000+0000</td><td>23.93318</td><td>-99.17713</td><td>177_THUE05-28-041-0068T02</td><td>VICTORIA</td><td>Victoria</td><td>CERVERA_HERRERA_JAVIER</td><td>NARANJA</td><td>FRUCTIFICACIÓN</td><td>0.0</td><td>0</td><td>1</td><td>0</td><td>1</td><td>1</td></tr><tr><td>2015-01-16T00:00:00.000+0000</td><td>23.93459</td><td>-99.17802</td><td>177_THUE05-28-041-0068T03</td><td>VICTORIA</td><td>Victoria</td><td>CERVERA_HERRERA_JAVIER</td><td>NARANJA</td><td>DESARROLLO (crecimiento)</td><td>0.0</td><td>0</td><td>0</td><td>0</td><td>1</td><td>3</td></tr><tr><td>2015-01-09T00:00:00.000+0000</td><td>23.93459</td><td>-99.17802</td><td>177_THUE05-28-041-0068T03</td><td>VICTORIA</td><td>Victoria</td><td>CERVERA_HERRERA_JAVIER</td><td>NARANJA</td><td>DESARROLLO (crecimiento)</td><td>0.0</td><td>0</td><td>0</td><td>0</td><td>1</td><td>2</td></tr><tr><td>2015-01-02T00:00:00.000+0000</td><td>23.93459</td><td>-99.17802</td><td>177_THUE05-28-041-0068T03</td><td>VICTORIA</td><td>Victoria</td><td>CERVERA_HERRERA_JAVIER</td><td>NARANJA</td><td>FRUCTIFICACIÓN</td><td>0.0</td><td>0</td><td>1</td><td>0</td><td>1</td><td>1</td></tr><tr><td>2015-01-09T00:00:00.000+0000</td><td>23.936</td><td>-99.17883</td><td>177_THUE05-28-041-0068T04</td><td>VICTORIA</td><td>Victoria</td><td>CERVERA_HERRERA_JAVIER</td><td>NARANJA</td><td>DESARROLLO (crecimiento)</td><td>0.0</td><td>0</td><td>0</td><td>0</td><td>1</td><td>2</td></tr><tr><td>2015-01-16T00:00:00.000+0000</td><td>23.936</td><td>-99.17883</td><td>177_THUE05-28-041-0068T04</td><td>VICTORIA</td><td>Victoria</td><td>CERVERA_HERRERA_JAVIER</td><td>NARANJA</td><td>DESARROLLO (crecimiento)</td><td>0.0</td><td>0</td><td>0</td><td>0</td><td>1</td><td>3</td></tr></tbody></table></div>"
      ]
     },
     "metadata": {
      "application/vnd.databricks.v1+output": {
       "addedWidgets": {},
       "aggData": [],
       "aggError": "",
       "aggOverflow": false,
       "aggSchema": [],
       "aggSeriesLimitReached": false,
       "aggType": "",
       "arguments": {},
       "columnCustomDisplayInfos": {},
       "data": [
        [
         "2015-01-09T00:00:00.000+0000",
         23.93176,
         -99.17629,
         "177_THUE05-28-041-0068T01",
         "VICTORIA",
         "Victoria",
         "CERVERA_HERRERA_JAVIER",
         "NARANJA",
         "DESARROLLO (crecimiento)",
         90,
         0,
         0,
         0,
         1,
         2
        ],
        [
         "2015-01-02T00:00:00.000+0000",
         23.93176,
         -99.17629,
         "177_THUE05-28-041-0068T01",
         "VICTORIA",
         "Victoria",
         "CERVERA_HERRERA_JAVIER",
         "NARANJA",
         "FRUCTIFICACIÓN",
         90,
         0,
         1,
         0,
         1,
         1
        ],
        [
         "2015-01-16T00:00:00.000+0000",
         23.93318,
         -99.17713,
         "177_THUE05-28-041-0068T02",
         "VICTORIA",
         "Victoria",
         "CERVERA_HERRERA_JAVIER",
         "NARANJA",
         "DESARROLLO (crecimiento)",
         0,
         0,
         0,
         0,
         1,
         3
        ],
        [
         "2015-01-09T00:00:00.000+0000",
         23.93318,
         -99.17713,
         "177_THUE05-28-041-0068T02",
         "VICTORIA",
         "Victoria",
         "CERVERA_HERRERA_JAVIER",
         "NARANJA",
         "DESARROLLO (crecimiento)",
         0,
         0,
         0,
         0,
         1,
         2
        ],
        [
         "2015-01-02T00:00:00.000+0000",
         23.93318,
         -99.17713,
         "177_THUE05-28-041-0068T02",
         "VICTORIA",
         "Victoria",
         "CERVERA_HERRERA_JAVIER",
         "NARANJA",
         "FRUCTIFICACIÓN",
         0,
         0,
         1,
         0,
         1,
         1
        ],
        [
         "2015-01-16T00:00:00.000+0000",
         23.93459,
         -99.17802,
         "177_THUE05-28-041-0068T03",
         "VICTORIA",
         "Victoria",
         "CERVERA_HERRERA_JAVIER",
         "NARANJA",
         "DESARROLLO (crecimiento)",
         0,
         0,
         0,
         0,
         1,
         3
        ],
        [
         "2015-01-09T00:00:00.000+0000",
         23.93459,
         -99.17802,
         "177_THUE05-28-041-0068T03",
         "VICTORIA",
         "Victoria",
         "CERVERA_HERRERA_JAVIER",
         "NARANJA",
         "DESARROLLO (crecimiento)",
         0,
         0,
         0,
         0,
         1,
         2
        ],
        [
         "2015-01-02T00:00:00.000+0000",
         23.93459,
         -99.17802,
         "177_THUE05-28-041-0068T03",
         "VICTORIA",
         "Victoria",
         "CERVERA_HERRERA_JAVIER",
         "NARANJA",
         "FRUCTIFICACIÓN",
         0,
         0,
         1,
         0,
         1,
         1
        ],
        [
         "2015-01-09T00:00:00.000+0000",
         23.936,
         -99.17883,
         "177_THUE05-28-041-0068T04",
         "VICTORIA",
         "Victoria",
         "CERVERA_HERRERA_JAVIER",
         "NARANJA",
         "DESARROLLO (crecimiento)",
         0,
         0,
         0,
         0,
         1,
         2
        ],
        [
         "2015-01-16T00:00:00.000+0000",
         23.936,
         -99.17883,
         "177_THUE05-28-041-0068T04",
         "VICTORIA",
         "Victoria",
         "CERVERA_HERRERA_JAVIER",
         "NARANJA",
         "DESARROLLO (crecimiento)",
         0,
         0,
         0,
         0,
         1,
         3
        ]
       ],
       "datasetInfos": [],
       "dbfsResultPath": null,
       "isJsonSchema": true,
       "metadata": {},
       "overflow": false,
       "plotOptions": {
        "customPlotOptions": {},
        "displayType": "table",
        "pivotAggregation": null,
        "pivotColumns": null,
        "xColumns": null,
        "yColumns": null
       },
       "removedWidgets": [],
       "schema": [
        {
         "metadata": "{}",
         "name": "Fecha",
         "type": "\"timestamp\""
        },
        {
         "metadata": "{}",
         "name": "Latitud",
         "type": "\"double\""
        },
        {
         "metadata": "{}",
         "name": "Longitud",
         "type": "\"double\""
        },
        {
         "metadata": "{}",
         "name": "Ubicacion",
         "type": "\"string\""
        },
        {
         "metadata": "{}",
         "name": "Municipio",
         "type": "\"string\""
        },
        {
         "metadata": "{}",
         "name": "Comunidad",
         "type": "\"string\""
        },
        {
         "metadata": "{}",
         "name": "Productor",
         "type": "\"string\""
        },
        {
         "metadata": "{}",
         "name": "Cultivo",
         "type": "\"string\""
        },
        {
         "metadata": "{}",
         "name": "Fenologia",
         "type": "\"string\""
        },
        {
         "metadata": "{}",
         "name": "Superficie_ha",
         "type": "\"double\""
        },
        {
         "metadata": "{}",
         "name": "No_Trampas_Instaladas",
         "type": "\"integer\""
        },
        {
         "metadata": "{}",
         "name": "No_Trampas_Revisadas",
         "type": "\"integer\""
        },
        {
         "metadata": "{}",
         "name": "No_DiaphorinasXtrampa",
         "type": "\"integer\""
        },
        {
         "metadata": "{}",
         "name": "Mes",
         "type": "\"integer\""
        },
        {
         "metadata": "{}",
         "name": "Semana",
         "type": "\"integer\""
        }
       ],
       "type": "table"
      }
     },
     "output_type": "display_data"
    }
   ],
   "source": [
    "%sql\n",
    "select * from `cap_2016` where `Fecha` like '%2015%' limit 10"
   ]
  },
  {
   "cell_type": "markdown",
   "metadata": {
    "application/vnd.databricks.v1+cell": {
     "cellMetadata": {
      "byteLimit": 2048000,
      "rowLimit": 10000
     },
     "inputWidgets": {},
     "nuid": "962df58d-d6e3-4fce-b1b9-d12d17ff17b1",
     "showTitle": false,
     "title": ""
    }
   },
   "source": [
    "*Entonces, será conveniente hacer las modificaciones necesarias para que los DataFrames del 2015 y del 2016 tengan las fechas correspondientes al año que representan. En este caso, lo que se hará será separar las filas con fechas del 2015 en un nuevo DataFrame, unirlo con el del 2015 y eliminar estas estradas de la tabla del 2016.*"
   ]
  },
  {
   "cell_type": "code",
   "execution_count": 0,
   "metadata": {
    "application/vnd.databricks.v1+cell": {
     "cellMetadata": {
      "byteLimit": 2048000,
      "rowLimit": 10000
     },
     "inputWidgets": {},
     "nuid": "e8a8f8c1-496b-4ccf-a813-cab999bf2314",
     "showTitle": false,
     "title": ""
    }
   },
   "outputs": [],
   "source": [
    "# Separemos los datos correspondientes al 2015\n",
    "sub_2015 = capturas_2016.filter(year('Fecha') == 2015)\n",
    "# Vamos a unirlos al DataFrame correspondiente\n",
    "capturas_2015 = capturas_2015.union(sub_2015)\n",
    "# Finalmente, quitemos las filas del 2015 del dataframe del 2016\n",
    "capturas_2016 = capturas_2016.filter(year('Fecha') != 2015)"
   ]
  },
  {
   "cell_type": "code",
   "execution_count": 0,
   "metadata": {
    "application/vnd.databricks.v1+cell": {
     "cellMetadata": {
      "byteLimit": 2048000,
      "rowLimit": 10000
     },
     "inputWidgets": {},
     "nuid": "4bb13546-d579-42c0-a183-2e9b926693f1",
     "showTitle": false,
     "title": ""
    }
   },
   "outputs": [],
   "source": [
    "# Eliminemos los posibles valores nulos que pudiesen existir\n",
    "capturas_2015 = capturas_2015.dropna()"
   ]
  },
  {
   "cell_type": "code",
   "execution_count": 0,
   "metadata": {
    "application/vnd.databricks.v1+cell": {
     "cellMetadata": {
      "byteLimit": 2048000,
      "rowLimit": 10000
     },
     "inputWidgets": {},
     "nuid": "77bde781-c0d0-43f7-8cbf-6e3f8ce3ba66",
     "showTitle": false,
     "title": ""
    }
   },
   "outputs": [
    {
     "name": "stdout",
     "output_type": "stream",
     "text": [
      "Out[13]: DataFrame[Fecha: timestamp, Latitud: double, Longitud: double, Ubicacion: string, Municipio: string, Comunidad: string, Productor: string, Cultivo: string, Fenologia: string, Superficie_ha: double, No_Trampas_Instaladas: int, No_Trampas_Revisadas: int, No_DiaphorinasXtrampa: int, Mes: int, Semana: int]"
     ]
    }
   ],
   "source": [
    "# Por último, guardemos estas últimas correcciones en memoria\n",
    "capturas_2015.cache()\n",
    "capturas_2016.cache()"
   ]
  },
  {
   "cell_type": "markdown",
   "metadata": {
    "application/vnd.databricks.v1+cell": {
     "cellMetadata": {
      "byteLimit": 2048000,
      "rowLimit": 10000
     },
     "inputWidgets": {},
     "nuid": "d7df1320-2ab6-420e-aec3-ad0d5d9e60bd",
     "showTitle": false,
     "title": ""
    }
   },
   "source": [
    "### 1) Hacer una gráfica del promedio de Diaphorinas por trampa para cada mes de los años 2015, 2017 y 2020. Es decir una gráfica por cada año donde el eje horizontal esté el mes y el vertical el promedio de diaphorinas por trampa."
   ]
  },
  {
   "cell_type": "code",
   "execution_count": 0,
   "metadata": {
    "application/vnd.databricks.v1+cell": {
     "cellMetadata": {
      "byteLimit": 2048000,
      "rowLimit": 10000
     },
     "inputWidgets": {},
     "nuid": "5278d8b9-3e5a-43ea-b1e1-1dc9ee68aae3",
     "showTitle": false,
     "title": ""
    }
   },
   "outputs": [],
   "source": [
    "#capturas_2015 = capturas_2015.withColumn(\"Mes\", trunc(\"Fecha\", \"month\")).cache()\n",
    "#capturas_2017 = capturas_2017.withColumn(\"Mes\", trunc(\"Fecha\", \"month\")).cache()\n",
    "#capturas_2020 = capturas_2020.withColumn(\"Mes\", trunc(\"Fecha\", \"month\")).cache()"
   ]
  },
  {
   "cell_type": "code",
   "execution_count": 0,
   "metadata": {
    "application/vnd.databricks.v1+cell": {
     "cellMetadata": {
      "byteLimit": 2048000,
      "rowLimit": 10000
     },
     "inputWidgets": {},
     "nuid": "8fbc0700-892c-4993-9d98-53a9041815fd",
     "showTitle": false,
     "title": ""
    }
   },
   "outputs": [],
   "source": [
    "prom_2015 = capturas_2015.groupBy(\"Mes\").agg({\"No_DiaphorinasXtrampa\": \"avg\"}).withColumnRenamed(\"avg(No_DiaphorinasXtrampa)\", \"Promedio 2015\").cache()\n",
    "prom_2017 = capturas_2017.groupBy(\"Mes\").agg({\"No_DiaphorinasXtrampa\": \"avg\"}).withColumnRenamed(\"avg(No_DiaphorinasXtrampa)\", \"Promedio 2017\").cache()\n",
    "prom_2020 = capturas_2020.groupBy(\"Mes\").agg({\"DiaphorinaXTrampa\": \"avg\"}).withColumnRenamed(\"avg(DiaphorinaXTrampa)\", \"Promedio 2020\").cache()"
   ]
  },
  {
   "cell_type": "code",
   "execution_count": 0,
   "metadata": {
    "application/vnd.databricks.v1+cell": {
     "cellMetadata": {
      "byteLimit": 2048000,
      "rowLimit": 10000
     },
     "inputWidgets": {},
     "nuid": "ac168b9d-5fc1-49cb-b75f-1d39ee393ed7",
     "showTitle": false,
     "title": ""
    }
   },
   "outputs": [],
   "source": [
    "resultado = prom_2015.join(prom_2017, \"Mes\", \"outer\").join(prom_2020, \"Mes\", \"outer\").orderBy('Mes')"
   ]
  },
  {
   "cell_type": "code",
   "execution_count": 0,
   "metadata": {
    "application/vnd.databricks.v1+cell": {
     "cellMetadata": {
      "byteLimit": 2048000,
      "rowLimit": 10000
     },
     "inputWidgets": {},
     "nuid": "87623ca2-fc18-4bf5-9660-a58f80f7736e",
     "showTitle": false,
     "title": ""
    }
   },
   "outputs": [
    {
     "data": {
      "text/html": [
       "<style scoped>\n",
       "  .table-result-container {\n",
       "    max-height: 300px;\n",
       "    overflow: auto;\n",
       "  }\n",
       "  table, th, td {\n",
       "    border: 1px solid black;\n",
       "    border-collapse: collapse;\n",
       "  }\n",
       "  th, td {\n",
       "    padding: 5px;\n",
       "  }\n",
       "  th {\n",
       "    text-align: left;\n",
       "  }\n",
       "</style><div class='table-result-container'><table class='table-result'><thead style='background-color: white'><tr><th>Mes</th><th>Promedio 2015</th><th>Promedio 2017</th><th>Promedio 2020</th></tr></thead><tbody><tr><td>1</td><td>0.039572549674403074</td><td>0.14972527472527472</td><td>0.37856461359058624</td></tr><tr><td>2</td><td>0.11651014455591525</td><td>0.27774725274725276</td><td>0.7503039144177</td></tr><tr><td>3</td><td>0.1608653846153846</td><td>0.566025641025641</td><td>0.5028490028490028</td></tr><tr><td>4</td><td>0.10546153846153847</td><td>0.28214285714285714</td><td>0.44607519788918204</td></tr><tr><td>5</td><td>0.03711419505785071</td><td>0.5130494505494505</td><td>0.24975905273303042</td></tr><tr><td>6</td><td>0.0330448717948718</td><td>0.8178571428571428</td><td>0.21221959858323494</td></tr><tr><td>7</td><td>0.039219707262054294</td><td>0.30354107648725215</td><td>0.30578512396694213</td></tr><tr><td>8</td><td>0.1148076923076923</td><td>0.5685606060606061</td><td>0.28952524491333836</td></tr><tr><td>9</td><td>0.15618589743589745</td><td>0.6445054945054945</td><td>0.19150529581683962</td></tr><tr><td>10</td><td>0.1755189729254025</td><td>0.5184065934065935</td><td>0.18981921979067554</td></tr><tr><td>11</td><td>0.07468346870520784</td><td>0.4181507337227525</td><td>0.3907917597418714</td></tr><tr><td>12</td><td>0.02885593220338983</td><td>0.1438186813186813</td><td>0.7797274776982649</td></tr></tbody></table></div>"
      ]
     },
     "metadata": {
      "application/vnd.databricks.v1+output": {
       "addedWidgets": {},
       "aggData": [],
       "aggError": "",
       "aggOverflow": false,
       "aggSchema": [],
       "aggSeriesLimitReached": false,
       "aggType": "",
       "arguments": {},
       "columnCustomDisplayInfos": {},
       "data": [
        [
         1,
         0.039572549674403074,
         0.14972527472527472,
         0.37856461359058624
        ],
        [
         2,
         0.11651014455591525,
         0.27774725274725276,
         0.7503039144177
        ],
        [
         3,
         0.1608653846153846,
         0.566025641025641,
         0.5028490028490028
        ],
        [
         4,
         0.10546153846153847,
         0.28214285714285714,
         0.44607519788918204
        ],
        [
         5,
         0.03711419505785071,
         0.5130494505494505,
         0.24975905273303042
        ],
        [
         6,
         0.0330448717948718,
         0.8178571428571428,
         0.21221959858323494
        ],
        [
         7,
         0.039219707262054294,
         0.30354107648725215,
         0.30578512396694213
        ],
        [
         8,
         0.1148076923076923,
         0.5685606060606061,
         0.28952524491333836
        ],
        [
         9,
         0.15618589743589745,
         0.6445054945054945,
         0.19150529581683962
        ],
        [
         10,
         0.1755189729254025,
         0.5184065934065935,
         0.18981921979067554
        ],
        [
         11,
         0.07468346870520784,
         0.4181507337227525,
         0.3907917597418714
        ],
        [
         12,
         0.02885593220338983,
         0.1438186813186813,
         0.7797274776982649
        ]
       ],
       "datasetInfos": [],
       "dbfsResultPath": null,
       "isJsonSchema": true,
       "metadata": {},
       "overflow": false,
       "plotOptions": {
        "customPlotOptions": {},
        "displayType": "table",
        "pivotAggregation": null,
        "pivotColumns": null,
        "xColumns": null,
        "yColumns": null
       },
       "removedWidgets": [],
       "schema": [
        {
         "metadata": "{}",
         "name": "Mes",
         "type": "\"integer\""
        },
        {
         "metadata": "{}",
         "name": "Promedio 2015",
         "type": "\"double\""
        },
        {
         "metadata": "{}",
         "name": "Promedio 2017",
         "type": "\"double\""
        },
        {
         "metadata": "{}",
         "name": "Promedio 2020",
         "type": "\"double\""
        }
       ],
       "type": "table"
      }
     },
     "output_type": "display_data"
    },
    {
     "data": {
      "text/plain": [
       "Databricks visualization. Run in Databricks to view."
      ]
     },
     "metadata": {
      "application/vnd.databricks.v1.subcommand+json": {
       "baseErrorDetails": null,
       "bindings": {},
       "collapsed": false,
       "command": "%python\n__backend_agg_display_orig = display\n__backend_agg_dfs = []\ndef __backend_agg_display_new(df):\n    __backend_agg_df_modules = [\"pandas.core.frame\", \"databricks.koalas.frame\", \"pyspark.sql.dataframe\", \"pyspark.pandas.frame\", \"pyspark.sql.connect.dataframe\"]\n    if (type(df).__module__ in __backend_agg_df_modules and type(df).__name__ == 'DataFrame') or isinstance(df, list):\n        __backend_agg_dfs.append(df)\n\ndisplay = __backend_agg_display_new\n\ndef __backend_agg_user_code_fn():\n    import base64\n    exec(base64.standard_b64decode(\"ZGlzcGxheShyZXN1bHRhZG8p\").decode())\n\ntry:\n    # run user code\n    __backend_agg_user_code_fn()\n\n    #reset display function\n    display = __backend_agg_display_orig\n\n    if len(__backend_agg_dfs) > 0:\n        # create a temp view\n        if type(__backend_agg_dfs[0]).__module__ == \"databricks.koalas.frame\":\n            # koalas dataframe\n            __backend_agg_dfs[0].to_spark().createOrReplaceTempView(\"DatabricksView1224eec\")\n        elif type(__backend_agg_dfs[0]).__module__ == \"pandas.core.frame\" or isinstance(__backend_agg_dfs[0], list):\n            # pandas dataframe\n            spark.createDataFrame(__backend_agg_dfs[0]).createOrReplaceTempView(\"DatabricksView1224eec\")\n        else:\n            __backend_agg_dfs[0].createOrReplaceTempView(\"DatabricksView1224eec\")\n        #run backend agg\n        display(spark.sql(\"\"\"WITH q AS (select * from DatabricksView1224eec) SELECT `Mes`,SUM(`Promedio 2015`) `column_633fb2923`,SUM(`Promedio 2017`) `column_633fb2927`,SUM(`Promedio 2020`) `column_633fb29210` FROM q GROUP BY `Mes`\"\"\"))\n    else:\n        displayHTML(\"dataframe no longer exists. If you're using dataframe.display(), use display(dataframe) instead.\")\n\n\nfinally:\n    spark.sql(\"drop view if exists DatabricksView1224eec\")\n    display = __backend_agg_display_orig\n    del __backend_agg_display_new\n    del __backend_agg_display_orig\n    del __backend_agg_dfs\n    del __backend_agg_user_code_fn\n\n",
       "commandTitle": "Ejercicio 1",
       "commandType": "auto",
       "commandVersion": 0,
       "commentThread": [],
       "commentsVisible": false,
       "contentSha256Hex": null,
       "customPlotOptions": {
        "redashChart": [
         {
          "key": "type",
          "value": "CHART"
         },
         {
          "key": "options",
          "value": {
           "alignYAxesAtZero": true,
           "coefficient": 1,
           "columnConfigurationMap": {
            "x": {
             "column": "Mes",
             "id": "column_633fb2925"
            },
            "y": [
             {
              "column": "Promedio 2015",
              "id": "column_633fb2923",
              "transform": "SUM"
             },
             {
              "column": "Promedio 2017",
              "id": "column_633fb2927",
              "transform": "SUM"
             },
             {
              "column": "Promedio 2020",
              "id": "column_633fb29210",
              "transform": "SUM"
             }
            ]
           },
           "dateTimeFormat": "DD/MM/YYYY HH:mm",
           "direction": {
            "type": "counterclockwise"
           },
           "error_y": {
            "type": "data",
            "visible": true
           },
           "globalSeriesType": "line",
           "isAggregationOn": true,
           "legend": {
            "traceorder": "normal"
           },
           "missingValuesAsZero": true,
           "numberFormat": "0,0.[00000]",
           "percentFormat": "0[.]00%",
           "series": {
            "error_y": {
             "type": "data",
             "visible": true
            },
            "stacking": null
           },
           "seriesOptions": {
            "column_633fb29210": {
             "name": "2020",
             "type": "line",
             "yAxis": 0
            },
            "column_633fb2923": {
             "name": "2015",
             "type": "line",
             "yAxis": 0
            },
            "column_633fb2927": {
             "name": "2017",
             "type": "line",
             "yAxis": 0
            }
           },
           "showDataLabels": false,
           "sizemode": "diameter",
           "sortX": true,
           "sortY": true,
           "swappedAxes": false,
           "textFormat": "",
           "useAggregationsUi": true,
           "valuesOptions": {},
           "version": 2,
           "xAxis": {
            "labels": {
             "enabled": true
            },
            "type": "-"
           },
           "yAxis": [
            {
             "title": {
              "text": "Promedio de Diaphorinas por trampa"
             },
             "type": "-"
            },
            {
             "opposite": true,
             "type": "-"
            }
           ]
          }
         }
        ]
       },
       "datasetPreviewNameToCmdIdMap": {},
       "diffDeletes": [],
       "diffInserts": [],
       "displayType": "redashChart",
       "error": null,
       "errorDetails": null,
       "errorSummary": null,
       "errorTraceType": null,
       "finishTime": 0,
       "globalVars": {},
       "guid": "",
       "height": "auto",
       "hideCommandCode": false,
       "hideCommandResult": false,
       "iPythonMetadata": null,
       "inputWidgets": {},
       "isLockedInExamMode": false,
       "latestUser": "a user",
       "latestUserId": null,
       "listResultMetadata": null,
       "metadata": {
        "byteLimit": 2048000,
        "rowLimit": 10000
       },
       "nuid": "023611d0-a012-417d-bbca-f4ebb57a0ac9",
       "origId": 0,
       "parentHierarchy": [],
       "pivotAggregation": null,
       "pivotColumns": null,
       "position": 14.78125,
       "resultDbfsErrorMessage": null,
       "resultDbfsStatus": "INLINED_IN_TREE",
       "results": null,
       "showCommandTitle": false,
       "startTime": 0,
       "state": "finished",
       "streamStates": {},
       "subcommandOptions": {
        "queryPlan": {
         "groups": [
          {
           "column": "Mes",
           "type": "column"
          }
         ],
         "selects": [
          {
           "column": "Mes",
           "type": "column"
          },
          {
           "alias": "column_633fb2923",
           "args": [
            {
             "column": "Promedio 2015",
             "type": "column"
            }
           ],
           "function": "SUM",
           "type": "function"
          },
          {
           "alias": "column_633fb2927",
           "args": [
            {
             "column": "Promedio 2017",
             "type": "column"
            }
           ],
           "function": "SUM",
           "type": "function"
          },
          {
           "alias": "column_633fb29210",
           "args": [
            {
             "column": "Promedio 2020",
             "type": "column"
            }
           ],
           "function": "SUM",
           "type": "function"
          }
         ]
        }
       },
       "submitTime": 0,
       "subtype": "tableResultSubCmd.visualization",
       "tableResultIndex": 0,
       "tableResultSettingsMap": null,
       "useConsistentColors": false,
       "version": "CommandV1",
       "width": "auto",
       "workflows": [],
       "xColumns": null,
       "yColumns": null
      }
     },
     "output_type": "display_data"
    }
   ],
   "source": [
    "display(resultado)"
   ]
  },
  {
   "cell_type": "code",
   "execution_count": 0,
   "metadata": {
    "application/vnd.databricks.v1+cell": {
     "cellMetadata": {
      "byteLimit": 2048000,
      "rowLimit": 10000
     },
     "inputWidgets": {},
     "nuid": "dc665629-fa14-4e28-93b3-7171ea591a23",
     "showTitle": false,
     "title": ""
    }
   },
   "outputs": [
    {
     "name": "stdout",
     "output_type": "stream",
     "text": [
      "Out[18]: DataFrame[Mes: int, Promedio 2020: double]"
     ]
    }
   ],
   "source": [
    "# Por último, liberemos la memoria de los dataframes guardados en este ejercicio\n",
    "prom_2015.unpersist()\n",
    "prom_2017.unpersist()\n",
    "prom_2020.unpersist()"
   ]
  },
  {
   "cell_type": "markdown",
   "metadata": {
    "application/vnd.databricks.v1+cell": {
     "cellMetadata": {
      "byteLimit": 2048000,
      "rowLimit": 10000
     },
     "inputWidgets": {},
     "nuid": "3b18f4f9-895d-4f07-bce5-5c0f8684cb67",
     "showTitle": false,
     "title": ""
    }
   },
   "source": [
    "### 2) Hacer una gráfica del promedio de Diaphorinas por trampa para cada mes del año 2020, pero sólo de un municipio."
   ]
  },
  {
   "cell_type": "code",
   "execution_count": 0,
   "metadata": {
    "application/vnd.databricks.v1+cell": {
     "cellMetadata": {
      "byteLimit": 2048000,
      "rowLimit": 10000
     },
     "inputWidgets": {},
     "nuid": "bdf04f25-4b4e-400a-828c-6746a37b93a1",
     "showTitle": false,
     "title": ""
    }
   },
   "outputs": [
    {
     "name": "stdout",
     "output_type": "stream",
     "text": [
      "['Fecha', 'Ubicacion', 'Latitud', 'Longitud', 'Productor', 'Municipio', 'Localidad', 'Cultivo', 'Variedad', 'noProductores', 'Superficie', 'NoTrampasInst', 'Trampas_revisadas', 'DiaphorinaXTrampa', 'Observacion', 'Incidencia_Psilido', 'Fenologia_Brote_1', 'Adultos_Brote_1', 'Ninfas_Brote_1', 'Fenologia_Brote_2', 'Adultos_Brote_2', 'Ninfas_Brote_2', 'Fenologia_Brote_3', 'Adultos_Brote_3', 'Ninfas_Brote_3', 'Fenologia_Brote_4', 'Adultos_Brote_4', 'Ninfas_Brote_4', 'Mes', 'Semana', 'Tecnico']\n"
     ]
    }
   ],
   "source": [
    "# Veamos primero las columnas de este dataframe para saber cuál de ellas corresponde al municipio\n",
    "print(capturas_2020.columns)"
   ]
  },
  {
   "cell_type": "code",
   "execution_count": 0,
   "metadata": {
    "application/vnd.databricks.v1+cell": {
     "cellMetadata": {
      "byteLimit": 2048000,
      "rowLimit": 10000
     },
     "inputWidgets": {},
     "nuid": "c9bce96d-105f-401d-a192-cd6a42d1291b",
     "showTitle": false,
     "title": ""
    }
   },
   "outputs": [
    {
     "name": "stdout",
     "output_type": "stream",
     "text": [
      "+---------+\n",
      "|Municipio|\n",
      "+---------+\n",
      "|  PADILLA|\n",
      "| VICTORIA|\n",
      "|  HIDALGO|\n",
      "|   GUEMEZ|\n",
      "|    LLERA|\n",
      "+---------+\n",
      "\n"
     ]
    }
   ],
   "source": [
    "# Ahora podemos ver cuántos municipios distintos hay\n",
    "capturas_2020.select('Municipio').distinct().show()"
   ]
  },
  {
   "cell_type": "markdown",
   "metadata": {
    "application/vnd.databricks.v1+cell": {
     "cellMetadata": {
      "byteLimit": 2048000,
      "rowLimit": 10000
     },
     "inputWidgets": {},
     "nuid": "e593f0bb-c392-4c2f-8875-57146f85f72e",
     "showTitle": false,
     "title": ""
    }
   },
   "source": [
    "*A partir de lo anterior, podemos hacer una consulta para saber cuál es el promedio mensual de Diaphorinas por trampa en el 2020 en un municipio, por ejemplo, en Padilla. Adicionalmente, gracias a las herramientas de Databricks, podemos crear la gráfica correspondiente.*"
   ]
  },
  {
   "cell_type": "code",
   "execution_count": 0,
   "metadata": {
    "application/vnd.databricks.v1+cell": {
     "cellMetadata": {
      "byteLimit": 2048000,
      "rowLimit": 10000
     },
     "inputWidgets": {},
     "nuid": "ce501151-51fa-4b68-9c28-6a4f4195b8b1",
     "showTitle": false,
     "title": ""
    }
   },
   "outputs": [],
   "source": [
    "padilla = capturas_2020.where(col('Municipio')=='PADILLA').groupBy('Mes').agg({\"DiaphorinaXTrampa\": \"avg\"}).withColumnRenamed(\"avg(DiaphorinaXTrampa)\", \"Padilla\").orderBy('Mes').cache()\n",
    "victoria = capturas_2020.where(col('Municipio')=='VICTORIA').groupBy('Mes').agg({\"DiaphorinaXTrampa\": \"avg\"}).withColumnRenamed(\"avg(DiaphorinaXTrampa)\", \"Victoria\").orderBy('Mes').cache()\n",
    "hidalgo = capturas_2020.where(col('Municipio')=='HIDALGO').groupBy('Mes').agg({\"DiaphorinaXTrampa\": \"avg\"}).withColumnRenamed(\"avg(DiaphorinaXTrampa)\", \"Hidalgo\").orderBy('Mes').cache()\n",
    "guemez = capturas_2020.where(col('Municipio')=='GUEMEZ').groupBy('Mes').agg({\"DiaphorinaXTrampa\": \"avg\"}).withColumnRenamed(\"avg(DiaphorinaXTrampa)\", \"Güemez\").orderBy('Mes').cache()\n",
    "llera = capturas_2020.where(col('Municipio')=='LLERA').groupBy('Mes').agg({\"DiaphorinaXTrampa\": \"avg\"}).withColumnRenamed(\"avg(DiaphorinaXTrampa)\", \"Llera\").orderBy('Mes').cache()"
   ]
  },
  {
   "cell_type": "code",
   "execution_count": 0,
   "metadata": {
    "application/vnd.databricks.v1+cell": {
     "cellMetadata": {
      "byteLimit": 2048000,
      "rowLimit": 10000
     },
     "inputWidgets": {},
     "nuid": "ee73a9d3-a1d3-48a5-96c6-01e64ee92e8d",
     "showTitle": false,
     "title": ""
    }
   },
   "outputs": [],
   "source": [
    "resultado2 = padilla.join(victoria, \"Mes\", \"outer\").join(hidalgo, \"Mes\", \"outer\").join(guemez, \"Mes\", \"outer\").join(llera, \"Mes\", \"outer\").orderBy('Mes')"
   ]
  },
  {
   "cell_type": "code",
   "execution_count": 0,
   "metadata": {
    "application/vnd.databricks.v1+cell": {
     "cellMetadata": {
      "byteLimit": 2048000,
      "rowLimit": 10000
     },
     "inputWidgets": {},
     "nuid": "fd104f81-b21f-4cd9-80ba-096be32a5858",
     "showTitle": false,
     "title": ""
    }
   },
   "outputs": [
    {
     "data": {
      "text/html": [
       "<style scoped>\n",
       "  .table-result-container {\n",
       "    max-height: 300px;\n",
       "    overflow: auto;\n",
       "  }\n",
       "  table, th, td {\n",
       "    border: 1px solid black;\n",
       "    border-collapse: collapse;\n",
       "  }\n",
       "  th, td {\n",
       "    padding: 5px;\n",
       "  }\n",
       "  th {\n",
       "    text-align: left;\n",
       "  }\n",
       "</style><div class='table-result-container'><table class='table-result'><thead style='background-color: white'><tr><th>Mes</th><th>Padilla</th><th>Victoria</th><th>Hidalgo</th><th>Güemez</th><th>Llera</th></tr></thead><tbody><tr><td>1</td><td>0.07737348389795065</td><td>0.9082240762812872</td><td>0.21842650103519667</td><td>0.4083449235048679</td><td>0.5755176613885505</td></tr><tr><td>2</td><td>0.3262964662689307</td><td>0.9063670411985019</td><td>0.7914746543778802</td><td>0.7857589006870705</td><td>1.3027210884353742</td></tr><tr><td>3</td><td>0.17546296296296296</td><td>0.55</td><td>0.6036866359447005</td><td>0.6303789338471419</td><td>0.7074468085106383</td></tr><tr><td>4</td><td>0.3051608077786088</td><td>0.9666666666666667</td><td>0.21076746849942726</td><td>0.513235294117647</td><td>0.38685015290519875</td></tr><tr><td>5</td><td>0.1129242819843342</td><td>0.2423076923076923</td><td>0.22863741339491916</td><td>0.29549193813754526</td><td>0.3208269525267994</td></tr><tr><td>6</td><td>0.14100185528756956</td><td>0.20192307692307693</td><td>0.2496551724137931</td><td>0.23044798785117693</td><td>0.24765625</td></tr><tr><td>7</td><td>0.8219616204690832</td><td>0.07981220657276995</td><td>0.3608815426997245</td><td>0.007462686567164179</td><td>null</td></tr><tr><td>8</td><td>0.13586606567933032</td><td>0.7457180500658761</td><td>0.25504322766570603</td><td>0.1606822262118492</td><td>0.4346895074946467</td></tr><tr><td>9</td><td>0.050821551394726786</td><td>0.3016759776536313</td><td>0.17343173431734318</td><td>0.20945319740500462</td><td>0.349812734082397</td></tr><tr><td>10</td><td>0.015917602996254682</td><td>0.13690476190476192</td><td>0.13294117647058823</td><td>0.273210378243201</td><td>0.33261026753434564</td></tr><tr><td>11</td><td>0.20305980528511822</td><td>0.3706793802145411</td><td>0.2724177071509648</td><td>0.4251108836574548</td><td>0.7312</td></tr><tr><td>12</td><td>0.32361896476729013</td><td>0.6966966966966966</td><td>0.41843971631205673</td><td>0.8223929236499069</td><td>1.5851851851851853</td></tr></tbody></table></div>"
      ]
     },
     "metadata": {
      "application/vnd.databricks.v1+output": {
       "addedWidgets": {},
       "aggData": [],
       "aggError": "",
       "aggOverflow": false,
       "aggSchema": [],
       "aggSeriesLimitReached": false,
       "aggType": "",
       "arguments": {},
       "columnCustomDisplayInfos": {},
       "data": [
        [
         1,
         0.07737348389795065,
         0.9082240762812872,
         0.21842650103519667,
         0.4083449235048679,
         0.5755176613885505
        ],
        [
         2,
         0.3262964662689307,
         0.9063670411985019,
         0.7914746543778802,
         0.7857589006870705,
         1.3027210884353742
        ],
        [
         3,
         0.17546296296296296,
         0.55,
         0.6036866359447005,
         0.6303789338471419,
         0.7074468085106383
        ],
        [
         4,
         0.3051608077786088,
         0.9666666666666667,
         0.21076746849942726,
         0.513235294117647,
         0.38685015290519875
        ],
        [
         5,
         0.1129242819843342,
         0.2423076923076923,
         0.22863741339491916,
         0.29549193813754526,
         0.3208269525267994
        ],
        [
         6,
         0.14100185528756956,
         0.20192307692307693,
         0.2496551724137931,
         0.23044798785117693,
         0.24765625
        ],
        [
         7,
         0.8219616204690832,
         0.07981220657276995,
         0.3608815426997245,
         0.007462686567164179,
         null
        ],
        [
         8,
         0.13586606567933032,
         0.7457180500658761,
         0.25504322766570603,
         0.1606822262118492,
         0.4346895074946467
        ],
        [
         9,
         0.050821551394726786,
         0.3016759776536313,
         0.17343173431734318,
         0.20945319740500462,
         0.349812734082397
        ],
        [
         10,
         0.015917602996254682,
         0.13690476190476192,
         0.13294117647058823,
         0.273210378243201,
         0.33261026753434564
        ],
        [
         11,
         0.20305980528511822,
         0.3706793802145411,
         0.2724177071509648,
         0.4251108836574548,
         0.7312
        ],
        [
         12,
         0.32361896476729013,
         0.6966966966966966,
         0.41843971631205673,
         0.8223929236499069,
         1.5851851851851853
        ]
       ],
       "datasetInfos": [],
       "dbfsResultPath": null,
       "isJsonSchema": true,
       "metadata": {},
       "overflow": false,
       "plotOptions": {
        "customPlotOptions": {},
        "displayType": "table",
        "pivotAggregation": null,
        "pivotColumns": null,
        "xColumns": null,
        "yColumns": null
       },
       "removedWidgets": [],
       "schema": [
        {
         "metadata": "{}",
         "name": "Mes",
         "type": "\"integer\""
        },
        {
         "metadata": "{}",
         "name": "Padilla",
         "type": "\"double\""
        },
        {
         "metadata": "{}",
         "name": "Victoria",
         "type": "\"double\""
        },
        {
         "metadata": "{}",
         "name": "Hidalgo",
         "type": "\"double\""
        },
        {
         "metadata": "{}",
         "name": "Güemez",
         "type": "\"double\""
        },
        {
         "metadata": "{}",
         "name": "Llera",
         "type": "\"double\""
        }
       ],
       "type": "table"
      }
     },
     "output_type": "display_data"
    },
    {
     "data": {
      "text/plain": [
       "Databricks visualization. Run in Databricks to view."
      ]
     },
     "metadata": {
      "application/vnd.databricks.v1.subcommand+json": {
       "baseErrorDetails": null,
       "bindings": {},
       "collapsed": false,
       "command": "%python\n__backend_agg_display_orig = display\n__backend_agg_dfs = []\ndef __backend_agg_display_new(df):\n    __backend_agg_df_modules = [\"pandas.core.frame\", \"databricks.koalas.frame\", \"pyspark.sql.dataframe\", \"pyspark.pandas.frame\", \"pyspark.sql.connect.dataframe\"]\n    if (type(df).__module__ in __backend_agg_df_modules and type(df).__name__ == 'DataFrame') or isinstance(df, list):\n        __backend_agg_dfs.append(df)\n\ndisplay = __backend_agg_display_new\n\ndef __backend_agg_user_code_fn():\n    import base64\n    exec(base64.standard_b64decode(\"ZGlzcGxheShyZXN1bHRhZG8yKQ==\").decode())\n\ntry:\n    # run user code\n    __backend_agg_user_code_fn()\n\n    #reset display function\n    display = __backend_agg_display_orig\n\n    if len(__backend_agg_dfs) > 0:\n        # create a temp view\n        if type(__backend_agg_dfs[0]).__module__ == \"databricks.koalas.frame\":\n            # koalas dataframe\n            __backend_agg_dfs[0].to_spark().createOrReplaceTempView(\"DatabricksViewa7a3016\")\n        elif type(__backend_agg_dfs[0]).__module__ == \"pandas.core.frame\" or isinstance(__backend_agg_dfs[0], list):\n            # pandas dataframe\n            spark.createDataFrame(__backend_agg_dfs[0]).createOrReplaceTempView(\"DatabricksViewa7a3016\")\n        else:\n            __backend_agg_dfs[0].createOrReplaceTempView(\"DatabricksViewa7a3016\")\n        #run backend agg\n        display(spark.sql(\"\"\"WITH q AS (select * from DatabricksViewa7a3016) SELECT `Mes`,SUM(`Padilla`) `column_633fb29230`,SUM(`Victoria`) `column_633fb29233`,SUM(`Hidalgo`) `column_633fb29236`,SUM(`Güemez`) `column_633fb29239`,SUM(`Llera`) `column_633fb29242` FROM q GROUP BY `Mes`\"\"\"))\n    else:\n        displayHTML(\"dataframe no longer exists. If you're using dataframe.display(), use display(dataframe) instead.\")\n\n\nfinally:\n    spark.sql(\"drop view if exists DatabricksViewa7a3016\")\n    display = __backend_agg_display_orig\n    del __backend_agg_display_new\n    del __backend_agg_display_orig\n    del __backend_agg_dfs\n    del __backend_agg_user_code_fn\n\n",
       "commandTitle": "Ejercicio 2",
       "commandType": "auto",
       "commandVersion": 0,
       "commentThread": [],
       "commentsVisible": false,
       "contentSha256Hex": null,
       "customPlotOptions": {
        "redashChart": [
         {
          "key": "type",
          "value": "CHART"
         },
         {
          "key": "options",
          "value": {
           "alignYAxesAtZero": true,
           "coefficient": 1,
           "columnConfigurationMap": {
            "x": {
             "column": "Mes",
             "id": "column_633fb29213"
            },
            "y": [
             {
              "column": "Padilla",
              "id": "column_633fb29230",
              "transform": "SUM"
             },
             {
              "column": "Victoria",
              "id": "column_633fb29233",
              "transform": "SUM"
             },
             {
              "column": "Hidalgo",
              "id": "column_633fb29236",
              "transform": "SUM"
             },
             {
              "column": "Güemez",
              "id": "column_633fb29239",
              "transform": "SUM"
             },
             {
              "column": "Llera",
              "id": "column_633fb29242",
              "transform": "SUM"
             }
            ]
           },
           "dateTimeFormat": "DD/MM/YYYY HH:mm",
           "direction": {
            "type": "counterclockwise"
           },
           "error_y": {
            "type": "data",
            "visible": true
           },
           "globalSeriesType": "column",
           "isAggregationOn": true,
           "legend": {
            "traceorder": "normal"
           },
           "missingValuesAsZero": true,
           "numBins": 10,
           "numberFormat": "0,0.[00000]",
           "percentFormat": "0[.]00%",
           "series": {
            "error_y": {
             "type": "data",
             "visible": true
            },
            "stacking": null
           },
           "seriesOptions": {
            "column_633fb29215": {
             "type": "column",
             "yAxis": 0
            },
            "column_633fb29218": {
             "type": "column",
             "yAxis": 0
            },
            "column_633fb29221": {
             "type": "column",
             "yAxis": 0
            },
            "column_633fb29224": {
             "type": "column",
             "yAxis": 0
            },
            "column_633fb29227": {
             "type": "column",
             "yAxis": 0
            },
            "column_633fb29230": {
             "color": "#356AFF",
             "name": "Padilla",
             "type": "column",
             "yAxis": 0
            },
            "column_633fb29233": {
             "color": "#E92828",
             "name": "Victoria",
             "type": "column",
             "yAxis": 0
            },
            "column_633fb29236": {
             "color": "#17BF51",
             "name": "Hidalgo",
             "type": "column",
             "yAxis": 0
            },
            "column_633fb29239": {
             "color": "#B554FF",
             "name": "Güemez",
             "type": "column",
             "yAxis": 0
            },
            "column_633fb29242": {
             "color": "#FB8D3D",
             "name": "Llera",
             "type": "column",
             "yAxis": 0
            }
           },
           "showDataLabels": false,
           "sizemode": "diameter",
           "sortX": true,
           "sortY": true,
           "swappedAxes": false,
           "textFormat": "",
           "useAggregationsUi": true,
           "valuesOptions": {},
           "version": 2,
           "xAxis": {
            "labels": {
             "enabled": true
            },
            "type": "-"
           },
           "yAxis": [
            {
             "title": {
              "text": "Promedio de Diaphorinas"
             },
             "type": "-"
            },
            {
             "opposite": true,
             "type": "-"
            }
           ]
          }
         }
        ]
       },
       "datasetPreviewNameToCmdIdMap": {},
       "diffDeletes": [],
       "diffInserts": [],
       "displayType": "redashChart",
       "error": null,
       "errorDetails": null,
       "errorSummary": null,
       "errorTraceType": null,
       "finishTime": 0,
       "globalVars": {},
       "guid": "",
       "height": "auto",
       "hideCommandCode": false,
       "hideCommandResult": false,
       "iPythonMetadata": null,
       "inputWidgets": {},
       "isLockedInExamMode": false,
       "latestUser": "a user",
       "latestUserId": null,
       "listResultMetadata": null,
       "metadata": {
        "byteLimit": 2048000,
        "rowLimit": 10000
       },
       "nuid": "73b5abed-faeb-4059-8fbd-60b52918c517",
       "origId": 0,
       "parentHierarchy": [],
       "pivotAggregation": null,
       "pivotColumns": null,
       "position": 16.623046875,
       "resultDbfsErrorMessage": null,
       "resultDbfsStatus": "INLINED_IN_TREE",
       "results": null,
       "showCommandTitle": false,
       "startTime": 0,
       "state": "finished",
       "streamStates": {},
       "subcommandOptions": {
        "queryPlan": {
         "groups": [
          {
           "column": "Mes",
           "type": "column"
          }
         ],
         "selects": [
          {
           "column": "Mes",
           "type": "column"
          },
          {
           "alias": "column_633fb29230",
           "args": [
            {
             "column": "Padilla",
             "type": "column"
            }
           ],
           "function": "SUM",
           "type": "function"
          },
          {
           "alias": "column_633fb29233",
           "args": [
            {
             "column": "Victoria",
             "type": "column"
            }
           ],
           "function": "SUM",
           "type": "function"
          },
          {
           "alias": "column_633fb29236",
           "args": [
            {
             "column": "Hidalgo",
             "type": "column"
            }
           ],
           "function": "SUM",
           "type": "function"
          },
          {
           "alias": "column_633fb29239",
           "args": [
            {
             "column": "Güemez",
             "type": "column"
            }
           ],
           "function": "SUM",
           "type": "function"
          },
          {
           "alias": "column_633fb29242",
           "args": [
            {
             "column": "Llera",
             "type": "column"
            }
           ],
           "function": "SUM",
           "type": "function"
          }
         ]
        }
       },
       "submitTime": 0,
       "subtype": "tableResultSubCmd.visualization",
       "tableResultIndex": 0,
       "tableResultSettingsMap": null,
       "useConsistentColors": false,
       "version": "CommandV1",
       "width": "auto",
       "workflows": [],
       "xColumns": null,
       "yColumns": null
      }
     },
     "output_type": "display_data"
    }
   ],
   "source": [
    "display(resultado2)"
   ]
  },
  {
   "cell_type": "code",
   "execution_count": 0,
   "metadata": {
    "application/vnd.databricks.v1+cell": {
     "cellMetadata": {
      "byteLimit": 2048000,
      "rowLimit": 10000
     },
     "inputWidgets": {},
     "nuid": "3e86b106-3947-4bbc-878a-026c172a71e8",
     "showTitle": false,
     "title": ""
    }
   },
   "outputs": [
    {
     "name": "stdout",
     "output_type": "stream",
     "text": [
      "Out[24]: DataFrame[Mes: int, Llera: double]"
     ]
    }
   ],
   "source": [
    "# Finalmente, limpiemos la memoria de los dataframes guardados en esta sección\n",
    "padilla.unpersist()\n",
    "victoria.unpersist()\n",
    "hidalgo.unpersist()\n",
    "guemez.unpersist()\n",
    "llera.unpersist()"
   ]
  },
  {
   "cell_type": "markdown",
   "metadata": {
    "application/vnd.databricks.v1+cell": {
     "cellMetadata": {
      "byteLimit": 2048000,
      "rowLimit": 10000
     },
     "inputWidgets": {},
     "nuid": "d269f8df-8dee-4e14-ba24-cc3f59efc7ab",
     "showTitle": false,
     "title": ""
    }
   },
   "source": [
    "### 3) Hacer una tabla donde la primera columna sea el mes, la segunda el índice Id (por trampa) y la tercera el índice Cx para el año 2015"
   ]
  },
  {
   "cell_type": "code",
   "execution_count": 0,
   "metadata": {
    "application/vnd.databricks.v1+cell": {
     "cellMetadata": {
      "byteLimit": 2048000,
      "rowLimit": 10000
     },
     "inputWidgets": {},
     "nuid": "f3b8a215-0d4f-4953-8856-455af217ae27",
     "showTitle": false,
     "title": ""
    }
   },
   "outputs": [],
   "source": [
    "# Primero obtengamos la varianza y la media muestrales de los datos del 2015\n",
    "tabla = capturas_2015.groupBy(\"Mes\").agg(avg(\"No_DiaphorinasXtrampa\").alias(\"Promedio\"), variance(\"No_DiaphorinasXtrampa\").alias(\"Varianza\"), sum(\"No_DiaphorinasXtrampa\").alias(\"Suma\"))\n",
    "# Posteriormente, construyamos las columnas necesarias para mostrar los índices necesarios\n",
    "tabla = tabla.withColumn(\"Índice de dispersión\", col(\"Varianza\") / col(\"Promedio\")).orderBy(\"Mes\").withColumn(\"Índice de Green\", ((col(\"Varianza\") / col(\"Promedio\")) - 1) / (col('Suma') - 1)).orderBy(\"Mes\")\n",
    "\n",
    "# Finalmente, seleccionemos las columnas necesarias\n",
    "tabla = tabla.select('Mes', 'Índice de dispersión', 'Índice de Green')"
   ]
  },
  {
   "cell_type": "code",
   "execution_count": 0,
   "metadata": {
    "application/vnd.databricks.v1+cell": {
     "cellMetadata": {
      "byteLimit": 2048000,
      "rowLimit": 10000
     },
     "inputWidgets": {},
     "nuid": "fbe039a7-87be-4977-836d-a37acd9dc629",
     "showTitle": false,
     "title": ""
    }
   },
   "outputs": [
    {
     "data": {
      "text/html": [
       "<style scoped>\n",
       "  .table-result-container {\n",
       "    max-height: 300px;\n",
       "    overflow: auto;\n",
       "  }\n",
       "  table, th, td {\n",
       "    border: 1px solid black;\n",
       "    border-collapse: collapse;\n",
       "  }\n",
       "  th, td {\n",
       "    padding: 5px;\n",
       "  }\n",
       "  th {\n",
       "    text-align: left;\n",
       "  }\n",
       "</style><div class='table-result-container'><table class='table-result'><thead style='background-color: white'><tr><th>Mes</th><th>Índice de dispersión</th><th>Índice de Green</th></tr></thead><tbody><tr><td>1</td><td>2.551215747169398</td><td>0.0010916366975154102</td></tr><tr><td>2</td><td>3.39969235851098</td><td>6.603446225952064E-4</td></tr><tr><td>3</td><td>4.7408605847732295</td><td>7.454883588627401E-4</td></tr><tr><td>4</td><td>2.773530073682528</td><td>4.3130595177104283E-4</td></tr><tr><td>5</td><td>2.3601980647447034</td><td>0.001175624947921092</td></tr><tr><td>6</td><td>5.1048491040384505</td><td>0.00398529039227034</td></tr><tr><td>7</td><td>4.023628531648487</td><td>0.001977520295388154</td></tr><tr><td>8</td><td>5.398486497468066</td><td>0.0012282844170533555</td></tr><tr><td>9</td><td>8.134860798754211</td><td>0.0014644623971170384</td></tr><tr><td>10</td><td>8.646265068302219</td><td>0.0011277677091891178</td></tr><tr><td>11</td><td>4.990239637414606</td><td>0.0015960958549658425</td></tr><tr><td>12</td><td>4.80090804333039</td><td>0.002792731846679199</td></tr></tbody></table></div>"
      ]
     },
     "metadata": {
      "application/vnd.databricks.v1+output": {
       "addedWidgets": {},
       "aggData": [],
       "aggError": "",
       "aggOverflow": false,
       "aggSchema": [],
       "aggSeriesLimitReached": false,
       "aggType": "",
       "arguments": {},
       "columnCustomDisplayInfos": {},
       "data": [
        [
         1,
         2.551215747169398,
         0.0010916366975154102
        ],
        [
         2,
         3.39969235851098,
         0.0006603446225952064
        ],
        [
         3,
         4.7408605847732295,
         0.0007454883588627401
        ],
        [
         4,
         2.773530073682528,
         0.00043130595177104283
        ],
        [
         5,
         2.3601980647447034,
         0.001175624947921092
        ],
        [
         6,
         5.1048491040384505,
         0.00398529039227034
        ],
        [
         7,
         4.023628531648487,
         0.001977520295388154
        ],
        [
         8,
         5.398486497468066,
         0.0012282844170533555
        ],
        [
         9,
         8.134860798754211,
         0.0014644623971170384
        ],
        [
         10,
         8.646265068302219,
         0.0011277677091891178
        ],
        [
         11,
         4.990239637414606,
         0.0015960958549658425
        ],
        [
         12,
         4.80090804333039,
         0.002792731846679199
        ]
       ],
       "datasetInfos": [],
       "dbfsResultPath": null,
       "isJsonSchema": true,
       "metadata": {},
       "overflow": false,
       "plotOptions": {
        "customPlotOptions": {},
        "displayType": "table",
        "pivotAggregation": null,
        "pivotColumns": null,
        "xColumns": null,
        "yColumns": null
       },
       "removedWidgets": [],
       "schema": [
        {
         "metadata": "{}",
         "name": "Mes",
         "type": "\"integer\""
        },
        {
         "metadata": "{}",
         "name": "Índice de dispersión",
         "type": "\"double\""
        },
        {
         "metadata": "{}",
         "name": "Índice de Green",
         "type": "\"double\""
        }
       ],
       "type": "table"
      }
     },
     "output_type": "display_data"
    },
    {
     "data": {
      "text/plain": [
       "Databricks visualization. Run in Databricks to view."
      ]
     },
     "metadata": {
      "application/vnd.databricks.v1.subcommand+json": {
       "baseErrorDetails": null,
       "bindings": {},
       "collapsed": false,
       "command": "display(tabla)",
       "commandTitle": "Ejercicio 3",
       "commandType": "auto",
       "commandVersion": 0,
       "commentThread": [],
       "commentsVisible": false,
       "contentSha256Hex": null,
       "customPlotOptions": {
        "redashChart": [
         {
          "key": "type",
          "value": "TABLE"
         },
         {
          "key": "options",
          "value": {
           "columns": [
            {
             "alignContent": "right",
             "allowHTML": false,
             "allowSearch": false,
             "booleanValues": [
              "false",
              "true"
             ],
             "displayAs": "number",
             "highlightLinks": false,
             "imageHeight": "",
             "imageTitleTemplate": "{{ @ }}",
             "imageUrlTemplate": "{{ @ }}",
             "imageWidth": "",
             "linkOpenInNewTab": true,
             "linkTextTemplate": "{{ @ }}",
             "linkTitleTemplate": "{{ @ }}",
             "linkUrlTemplate": "{{ @ }}",
             "name": "Mes",
             "numberFormat": "0",
             "order": 100000,
             "preserveWhitespace": false,
             "title": "Mes",
             "type": "integer",
             "useMonospaceFont": false,
             "visible": true
            },
            {
             "alignContent": "right",
             "allowHTML": false,
             "allowSearch": false,
             "booleanValues": [
              "false",
              "true"
             ],
             "displayAs": "number",
             "highlightLinks": false,
             "imageHeight": "",
             "imageTitleTemplate": "{{ @ }}",
             "imageUrlTemplate": "{{ @ }}",
             "imageWidth": "",
             "linkOpenInNewTab": true,
             "linkTextTemplate": "{{ @ }}",
             "linkTitleTemplate": "{{ @ }}",
             "linkUrlTemplate": "{{ @ }}",
             "name": "Índice de dispersión",
             "numberFormat": "0.00",
             "order": 100001,
             "preserveWhitespace": false,
             "title": "Índice de dispersión",
             "type": "float",
             "useMonospaceFont": false,
             "visible": true
            },
            {
             "alignContent": "right",
             "allowHTML": false,
             "allowSearch": false,
             "booleanValues": [
              "false",
              "true"
             ],
             "displayAs": "number",
             "highlightLinks": false,
             "imageHeight": "",
             "imageTitleTemplate": "{{ @ }}",
             "imageUrlTemplate": "{{ @ }}",
             "imageWidth": "",
             "linkOpenInNewTab": true,
             "linkTextTemplate": "{{ @ }}",
             "linkTitleTemplate": "{{ @ }}",
             "linkUrlTemplate": "{{ @ }}",
             "name": "Índice de Green",
             "numberFormat": "0.00",
             "order": 100002,
             "preserveWhitespace": false,
             "title": "Índice de Green",
             "type": "float",
             "useMonospaceFont": false,
             "visible": true
            }
           ],
           "condensed": true,
           "itemsPerPage": 25,
           "paginationSize": "default",
           "version": 2,
           "withRowNumber": false
          }
         }
        ]
       },
       "datasetPreviewNameToCmdIdMap": {},
       "diffDeletes": [],
       "diffInserts": [],
       "displayType": "redashChart",
       "error": null,
       "errorDetails": null,
       "errorSummary": null,
       "errorTraceType": null,
       "finishTime": 0,
       "globalVars": {},
       "guid": "",
       "height": "auto",
       "hideCommandCode": false,
       "hideCommandResult": false,
       "iPythonMetadata": null,
       "inputWidgets": {},
       "isLockedInExamMode": false,
       "latestUser": "a user",
       "latestUserId": null,
       "listResultMetadata": null,
       "metadata": {},
       "nuid": "80caffd2-adf5-4668-b1f9-cf42f9260918",
       "origId": 0,
       "parentHierarchy": [],
       "pivotAggregation": null,
       "pivotColumns": null,
       "position": 16.84375,
       "resultDbfsErrorMessage": null,
       "resultDbfsStatus": "INLINED_IN_TREE",
       "results": null,
       "showCommandTitle": false,
       "startTime": 0,
       "state": "input",
       "streamStates": {},
       "subcommandOptions": {},
       "submitTime": 0,
       "subtype": "tableResultSubCmd.visualization",
       "tableResultIndex": 0,
       "tableResultSettingsMap": null,
       "useConsistentColors": false,
       "version": "CommandV1",
       "width": "auto",
       "workflows": [],
       "xColumns": null,
       "yColumns": null
      }
     },
     "output_type": "display_data"
    }
   ],
   "source": [
    "display(tabla)"
   ]
  },
  {
   "cell_type": "markdown",
   "metadata": {
    "application/vnd.databricks.v1+cell": {
     "cellMetadata": {
      "byteLimit": 2048000,
      "rowLimit": 10000
     },
     "inputWidgets": {},
     "nuid": "3bad6e53-50e8-47bb-ad1d-dfc830e4d9ac",
     "showTitle": false,
     "title": ""
    }
   },
   "source": [
    "### 4) Hacer una gráfica del índice Id (por trampa) como función del mes que abarque desde 2015 hasta 2020"
   ]
  },
  {
   "cell_type": "markdown",
   "metadata": {
    "application/vnd.databricks.v1+cell": {
     "cellMetadata": {},
     "inputWidgets": {},
     "nuid": "cb620d77-f197-4a81-a62b-440aa7ac0123",
     "showTitle": false,
     "title": ""
    }
   },
   "source": [
    "*Como podremos ver, el Dataframe del 2018 no tiene una columna que señale el mes como sí lo tienen el resto de Dataframes. En consecuencia, será necesario crear una columna con este nombre.*"
   ]
  },
  {
   "cell_type": "code",
   "execution_count": 0,
   "metadata": {
    "application/vnd.databricks.v1+cell": {
     "cellMetadata": {
      "byteLimit": 2048000,
      "rowLimit": 10000
     },
     "inputWidgets": {},
     "nuid": "45954c61-2804-42d7-8057-22ee00264345",
     "showTitle": false,
     "title": ""
    }
   },
   "outputs": [
    {
     "name": "stdout",
     "output_type": "stream",
     "text": [
      "Out[28]: ['Fecha',\n",
      " 'ano',\n",
      " 'semana',\n",
      " 'name_thue',\n",
      " 'latitud',\n",
      " 'longitud',\n",
      " 'fenologia',\n",
      " 'Revisada',\n",
      " 'captura',\n",
      " 'campo',\n",
      " 'superficie']"
     ]
    }
   ],
   "source": [
    "capturas_2018.columns"
   ]
  },
  {
   "cell_type": "code",
   "execution_count": 0,
   "metadata": {
    "application/vnd.databricks.v1+cell": {
     "cellMetadata": {
      "byteLimit": 2048000,
      "rowLimit": 10000
     },
     "inputWidgets": {},
     "nuid": "479c19d6-79f6-4f4f-9e0f-a02c9770106c",
     "showTitle": false,
     "title": ""
    }
   },
   "outputs": [
    {
     "name": "stdout",
     "output_type": "stream",
     "text": [
      "Out[32]: DataFrame[Fecha: timestamp, ano: int, semana: int, name_thue: string, latitud: double, longitud: double, fenologia: string, Revisada: string, captura: int, campo: string, superficie: double, Mes: int]"
     ]
    }
   ],
   "source": [
    "# Creamos la columna 'Mes' y la guardamos en memoria\n",
    "capturas_2018 = capturas_2018.withColumn('Mes', month('Fecha'))\n",
    "capturas_2018.cache()"
   ]
  },
  {
   "cell_type": "markdown",
   "metadata": {
    "application/vnd.databricks.v1+cell": {
     "cellMetadata": {},
     "inputWidgets": {},
     "nuid": "4b9a62c4-a867-4882-878c-e915c3126e45",
     "showTitle": false,
     "title": ""
    }
   },
   "source": [
    "*Ahora ya es posible extraer el índice de dispersión de cada uno de los meses de cada año. Posteriormente, se juntarán los dataframes, se harán las selecciones de las columnas correspondientes y podremos hacer la visualización de la gráfica.*"
   ]
  },
  {
   "cell_type": "code",
   "execution_count": 0,
   "metadata": {
    "application/vnd.databricks.v1+cell": {
     "cellMetadata": {
      "byteLimit": 2048000,
      "rowLimit": 10000
     },
     "inputWidgets": {},
     "nuid": "a268ad18-c754-429d-8bf4-d7e9a75ed5fa",
     "showTitle": false,
     "title": ""
    }
   },
   "outputs": [],
   "source": [
    "Id_2015 = capturas_2015.groupBy(\"Mes\").agg(avg(\"No_DiaphorinasXtrampa\").alias(\"Promedio_15\"), variance(\"No_DiaphorinasXtrampa\").alias(\"Varianza_15\"))\n",
    "Id_2015 = Id_2015.withColumn(\"Id 2015\", col(\"Varianza_15\") / col(\"Promedio_15\")).orderBy(\"Mes\")\n",
    "\n",
    "Id_2016 = capturas_2016.groupBy(\"Mes\").agg(avg(\"No_DiaphorinasXtrampa\").alias(\"Promedio_16\"), variance(\"No_DiaphorinasXtrampa\").alias(\"Varianza_16\"))\n",
    "Id_2016 = Id_2016.withColumn(\"Id 2016\", col(\"Varianza_16\") / col(\"Promedio_16\")).orderBy(\"Mes\")\n",
    "\n",
    "Id_2017 = capturas_2017.groupBy(\"Mes\").agg(avg(\"No_DiaphorinasXtrampa\").alias(\"Promedio_17\"), variance(\"No_DiaphorinasXtrampa\").alias(\"Varianza_17\"))\n",
    "Id_2017 = Id_2017.withColumn(\"Id 2017\", col(\"Varianza_17\") / col(\"Promedio_17\")).orderBy(\"Mes\")\n",
    "\n",
    "# Para 2018 usaremos la columna 'captura'\n",
    "Id_2018 = capturas_2018.groupBy(\"Mes\").agg(avg(\"captura\").alias(\"Promedio_18\"), variance(\"captura\").alias(\"Varianza_18\"))\n",
    "Id_2018 = Id_2018.withColumn(\"Id 2018\", col(\"Varianza_18\") / col(\"Promedio_18\")).orderBy(\"Mes\")\n",
    "\n",
    "# En 2019 y 2020 la columna se llama 'DiaphorinaXTrampa'\n",
    "Id_2019 = capturas_2019.groupBy(\"Mes\").agg(avg(\"DiaphorinaXTrampa\").alias(\"Promedio_19\"), variance(\"DiaphorinaXTrampa\").alias(\"Varianza_19\"))\n",
    "Id_2019 = Id_2019.withColumn(\"Id 2019\", col(\"Varianza_19\") / col(\"Promedio_19\")).orderBy(\"Mes\")\n",
    "\n",
    "Id_2020 = capturas_2020.groupBy(\"Mes\").agg(avg(\"DiaphorinaXTrampa\").alias(\"Promedio_20\"), variance(\"DiaphorinaXTrampa\").alias(\"Varianza_20\"))\n",
    "Id_2020 = Id_2020.withColumn(\"Id 2020\", col(\"Varianza_20\") / col(\"Promedio_20\")).orderBy(\"Mes\")"
   ]
  },
  {
   "cell_type": "code",
   "execution_count": 0,
   "metadata": {
    "application/vnd.databricks.v1+cell": {
     "cellMetadata": {
      "byteLimit": 2048000,
      "rowLimit": 10000
     },
     "inputWidgets": {},
     "nuid": "5171bd4a-2002-411c-8c30-4512571466a4",
     "showTitle": false,
     "title": ""
    }
   },
   "outputs": [
    {
     "data": {
      "text/html": [
       "<style scoped>\n",
       "  .table-result-container {\n",
       "    max-height: 300px;\n",
       "    overflow: auto;\n",
       "  }\n",
       "  table, th, td {\n",
       "    border: 1px solid black;\n",
       "    border-collapse: collapse;\n",
       "  }\n",
       "  th, td {\n",
       "    padding: 5px;\n",
       "  }\n",
       "  th {\n",
       "    text-align: left;\n",
       "  }\n",
       "</style><div class='table-result-container'><table class='table-result'><thead style='background-color: white'><tr><th>Mes</th><th>Id 2015</th><th>Id 2016</th><th>Id 2017</th><th>Id 2018</th><th>Id 2018</th><th>Id 2019</th><th>Id 2020</th></tr></thead><tbody><tr><td>1</td><td>2.551215747169398</td><td>7.510767722614624</td><td>3.4787533625277693</td><td>2.4007627265598126</td><td>2.4007627265598126</td><td>3.257349824609542</td><td>5.60942853430792</td></tr><tr><td>2</td><td>3.39969235851098</td><td>9.761346381080557</td><td>6.544121002262633</td><td>2.2882601522045634</td><td>2.2882601522045634</td><td>null</td><td>5.005975412048133</td></tr><tr><td>3</td><td>4.7408605847732295</td><td>11.717068068451315</td><td>7.88591799783373</td><td>11.59480626519134</td><td>11.59480626519134</td><td>3.0002524309698932</td><td>3.713701970968405</td></tr><tr><td>4</td><td>2.773530073682528</td><td>4.223621957089599</td><td>4.195551273735267</td><td>2.0661266285274804</td><td>2.0661266285274804</td><td>2.4795191999802952</td><td>5.9020330278227675</td></tr><tr><td>5</td><td>2.3601980647447034</td><td>3.976548211143057</td><td>9.100248776394208</td><td>7.616306463325428</td><td>7.616306463325428</td><td>2.7139404189561036</td><td>2.537800946583641</td></tr><tr><td>6</td><td>5.1048491040384505</td><td>3.01989598314411</td><td>36.16057318684908</td><td>2.6649475511585554</td><td>2.6649475511585554</td><td>2.6024736937211608</td><td>2.0314738079230574</td></tr><tr><td>7</td><td>4.023628531648487</td><td>3.96543915917634</td><td>6.128964939665585</td><td>2.815587754185893</td><td>2.815587754185893</td><td>3.5012842232488888</td><td>27.744613930305537</td></tr><tr><td>8</td><td>5.398486497468066</td><td>4.662794002169112</td><td>12.437947009977057</td><td>2.4482225997222407</td><td>2.4482225997222407</td><td>2.078173804633263</td><td>4.162429533030435</td></tr><tr><td>9</td><td>8.134860798754211</td><td>5.79241320153555</td><td>6.549488789704044</td><td>3.2582447591983787</td><td>3.2582447591983787</td><td>3.742554714617905</td><td>2.4970300083565733</td></tr><tr><td>10</td><td>8.646265068302219</td><td>5.216585685381131</td><td>13.786083813786389</td><td>4.267784767801854</td><td>4.267784767801854</td><td>3.8189421527798935</td><td>2.3392810562149404</td></tr><tr><td>11</td><td>4.990239637414606</td><td>22.64379506233875</td><td>7.286805648944569</td><td>6.981038091045375</td><td>6.981038091045375</td><td>4.015954773782128</td><td>4.0660481825015165</td></tr><tr><td>12</td><td>4.80090804333039</td><td>3.578708268858658</td><td>6.860944195421314</td><td>6.544026549899715</td><td>6.544026549899715</td><td>3.5041942452217185</td><td>5.173507866309707</td></tr></tbody></table></div>"
      ]
     },
     "metadata": {
      "application/vnd.databricks.v1+output": {
       "addedWidgets": {},
       "aggData": [],
       "aggError": "",
       "aggOverflow": false,
       "aggSchema": [],
       "aggSeriesLimitReached": false,
       "aggType": "",
       "arguments": {},
       "columnCustomDisplayInfos": {},
       "data": [
        [
         1,
         2.551215747169398,
         7.510767722614624,
         3.4787533625277693,
         2.4007627265598126,
         2.4007627265598126,
         3.257349824609542,
         5.60942853430792
        ],
        [
         2,
         3.39969235851098,
         9.761346381080557,
         6.544121002262633,
         2.2882601522045634,
         2.2882601522045634,
         null,
         5.005975412048133
        ],
        [
         3,
         4.7408605847732295,
         11.717068068451315,
         7.88591799783373,
         11.59480626519134,
         11.59480626519134,
         3.0002524309698932,
         3.713701970968405
        ],
        [
         4,
         2.773530073682528,
         4.223621957089599,
         4.195551273735267,
         2.0661266285274804,
         2.0661266285274804,
         2.4795191999802952,
         5.9020330278227675
        ],
        [
         5,
         2.3601980647447034,
         3.976548211143057,
         9.100248776394208,
         7.616306463325428,
         7.616306463325428,
         2.7139404189561036,
         2.537800946583641
        ],
        [
         6,
         5.1048491040384505,
         3.01989598314411,
         36.16057318684908,
         2.6649475511585554,
         2.6649475511585554,
         2.6024736937211608,
         2.0314738079230574
        ],
        [
         7,
         4.023628531648487,
         3.96543915917634,
         6.128964939665585,
         2.815587754185893,
         2.815587754185893,
         3.5012842232488888,
         27.744613930305537
        ],
        [
         8,
         5.398486497468066,
         4.662794002169112,
         12.437947009977057,
         2.4482225997222407,
         2.4482225997222407,
         2.078173804633263,
         4.162429533030435
        ],
        [
         9,
         8.134860798754211,
         5.79241320153555,
         6.549488789704044,
         3.2582447591983787,
         3.2582447591983787,
         3.742554714617905,
         2.4970300083565733
        ],
        [
         10,
         8.646265068302219,
         5.216585685381131,
         13.786083813786389,
         4.267784767801854,
         4.267784767801854,
         3.8189421527798935,
         2.3392810562149404
        ],
        [
         11,
         4.990239637414606,
         22.64379506233875,
         7.286805648944569,
         6.981038091045375,
         6.981038091045375,
         4.015954773782128,
         4.0660481825015165
        ],
        [
         12,
         4.80090804333039,
         3.578708268858658,
         6.860944195421314,
         6.544026549899715,
         6.544026549899715,
         3.5041942452217185,
         5.173507866309707
        ]
       ],
       "datasetInfos": [],
       "dbfsResultPath": null,
       "isJsonSchema": true,
       "metadata": {},
       "overflow": false,
       "plotOptions": {
        "customPlotOptions": {},
        "displayType": "table",
        "pivotAggregation": null,
        "pivotColumns": null,
        "xColumns": null,
        "yColumns": null
       },
       "removedWidgets": [],
       "schema": [
        {
         "metadata": "{}",
         "name": "Mes",
         "type": "\"integer\""
        },
        {
         "metadata": "{}",
         "name": "Id 2015",
         "type": "\"double\""
        },
        {
         "metadata": "{}",
         "name": "Id 2016",
         "type": "\"double\""
        },
        {
         "metadata": "{}",
         "name": "Id 2017",
         "type": "\"double\""
        },
        {
         "metadata": "{}",
         "name": "Id 2018",
         "type": "\"double\""
        },
        {
         "metadata": "{}",
         "name": "Id 2018",
         "type": "\"double\""
        },
        {
         "metadata": "{}",
         "name": "Id 2019",
         "type": "\"double\""
        },
        {
         "metadata": "{}",
         "name": "Id 2020",
         "type": "\"double\""
        }
       ],
       "type": "table"
      }
     },
     "output_type": "display_data"
    },
    {
     "data": {
      "text/plain": [
       "Databricks visualization. Run in Databricks to view."
      ]
     },
     "metadata": {
      "application/vnd.databricks.v1.subcommand+json": {
       "baseErrorDetails": null,
       "bindings": {},
       "collapsed": false,
       "command": "%python\n__backend_agg_display_orig = display\n__backend_agg_dfs = []\ndef __backend_agg_display_new(df):\n    __backend_agg_df_modules = [\"pandas.core.frame\", \"databricks.koalas.frame\", \"pyspark.sql.dataframe\", \"pyspark.pandas.frame\", \"pyspark.sql.connect.dataframe\"]\n    if (type(df).__module__ in __backend_agg_df_modules and type(df).__name__ == 'DataFrame') or isinstance(df, list):\n        __backend_agg_dfs.append(df)\n\ndisplay = __backend_agg_display_new\n\ndef __backend_agg_user_code_fn():\n    import base64\n    exec(base64.standard_b64decode(\"cmVzdWx0YWRvNCA9IElkXzIwMTUuam9pbihJZF8yMDE2LCAiTWVzIiwgIm91dGVyIikuam9pbihJZF8yMDE3LCAiTWVzIiwgIm91dGVyIikuam9pbihJZF8yMDE4LCAiTWVzIiwgIm91dGVyIikuam9pbihJZF8yMDE5LCAiTWVzIiwgIm91dGVyIikuam9pbihJZF8yMDIwLCAiTWVzIiwgIm91dGVyIikub3JkZXJCeSgnTWVzJykKcmVzdWx0YWRvNCA9IHJlc3VsdGFkbzQuc2VsZWN0KCdNZXMnLCAnSWQgMjAxNScsICdJZCAyMDE2JywgJ0lkIDIwMTcnLCAnSWQgMjAxOCcsICdJZCAyMDE4JywgJ0lkIDIwMTknLCAnSWQgMjAyMCcpCmRpc3BsYXkocmVzdWx0YWRvNCk=\").decode())\n\ntry:\n    # run user code\n    __backend_agg_user_code_fn()\n\n    #reset display function\n    display = __backend_agg_display_orig\n\n    if len(__backend_agg_dfs) > 0:\n        # create a temp view\n        if type(__backend_agg_dfs[0]).__module__ == \"databricks.koalas.frame\":\n            # koalas dataframe\n            __backend_agg_dfs[0].to_spark().createOrReplaceTempView(\"DatabricksView0ccc4b9\")\n        elif type(__backend_agg_dfs[0]).__module__ == \"pandas.core.frame\" or isinstance(__backend_agg_dfs[0], list):\n            # pandas dataframe\n            spark.createDataFrame(__backend_agg_dfs[0]).createOrReplaceTempView(\"DatabricksView0ccc4b9\")\n        else:\n            __backend_agg_dfs[0].createOrReplaceTempView(\"DatabricksView0ccc4b9\")\n        #run backend agg\n        display(spark.sql(\"\"\"WITH q AS (select * from DatabricksView0ccc4b9) SELECT `Mes`,SUM(`Id 2015`) `column_633fb29246`,SUM(`Id 2016`) `column_633fb29249`,SUM(`Id 2017`) `column_633fb29252`,SUM(`Id 2018`) `column_633fb29255`,SUM(`Id 2019`) `column_633fb29258`,SUM(`Id 2020`) `column_633fb29261` FROM q GROUP BY `Mes`\"\"\"))\n    else:\n        displayHTML(\"dataframe no longer exists. If you're using dataframe.display(), use display(dataframe) instead.\")\n\n\nfinally:\n    spark.sql(\"drop view if exists DatabricksView0ccc4b9\")\n    display = __backend_agg_display_orig\n    del __backend_agg_display_new\n    del __backend_agg_display_orig\n    del __backend_agg_dfs\n    del __backend_agg_user_code_fn\n\n",
       "commandTitle": "Ejercicio 4",
       "commandType": "auto",
       "commandVersion": 0,
       "commentThread": [],
       "commentsVisible": false,
       "contentSha256Hex": null,
       "customPlotOptions": {
        "redashChart": [
         {
          "key": "type",
          "value": "CHART"
         },
         {
          "key": "options",
          "value": {
           "alignYAxesAtZero": true,
           "coefficient": 1,
           "columnConfigurationMap": {
            "x": {
             "column": "Mes",
             "id": "column_633fb29244"
            },
            "y": [
             {
              "column": "Id 2015",
              "id": "column_633fb29246",
              "transform": "SUM"
             },
             {
              "column": "Id 2016",
              "id": "column_633fb29249",
              "transform": "SUM"
             },
             {
              "column": "Id 2017",
              "id": "column_633fb29252",
              "transform": "SUM"
             },
             {
              "column": "Id 2018",
              "id": "column_633fb29255",
              "transform": "SUM"
             },
             {
              "column": "Id 2019",
              "id": "column_633fb29258",
              "transform": "SUM"
             },
             {
              "column": "Id 2020",
              "id": "column_633fb29261",
              "transform": "SUM"
             }
            ]
           },
           "dateTimeFormat": "DD/MM/YYYY HH:mm",
           "direction": {
            "type": "counterclockwise"
           },
           "error_y": {
            "type": "data",
            "visible": true
           },
           "globalSeriesType": "line",
           "isAggregationOn": true,
           "legend": {
            "traceorder": "normal"
           },
           "missingValuesAsZero": true,
           "numberFormat": "0,0.[00000]",
           "percentFormat": "0[.]00%",
           "series": {
            "error_y": {
             "type": "data",
             "visible": true
            },
            "stacking": null
           },
           "seriesOptions": {
            "column_633fb29246": {
             "name": "2015",
             "type": "line",
             "yAxis": 0
            },
            "column_633fb29249": {
             "name": "2016",
             "type": "line",
             "yAxis": 0
            },
            "column_633fb29252": {
             "name": "2017",
             "type": "line",
             "yAxis": 0
            },
            "column_633fb29255": {
             "color": "#B554FF",
             "name": "2018",
             "type": "line",
             "yAxis": 0
            },
            "column_633fb29258": {
             "name": "2019",
             "type": "line",
             "yAxis": 0
            },
            "column_633fb29261": {
             "name": "2020",
             "type": "line",
             "yAxis": 0
            }
           },
           "showDataLabels": false,
           "sizemode": "diameter",
           "sortX": true,
           "sortY": true,
           "swappedAxes": false,
           "textFormat": "",
           "useAggregationsUi": true,
           "valuesOptions": {},
           "version": 2,
           "xAxis": {
            "labels": {
             "enabled": true
            },
            "type": "-"
           },
           "yAxis": [
            {
             "title": {
              "text": "Índice de dispersión"
             },
             "type": "-"
            },
            {
             "opposite": true,
             "type": "-"
            }
           ]
          }
         }
        ]
       },
       "datasetPreviewNameToCmdIdMap": {},
       "diffDeletes": [],
       "diffInserts": [],
       "displayType": "redashChart",
       "error": null,
       "errorDetails": null,
       "errorSummary": null,
       "errorTraceType": null,
       "finishTime": 0,
       "globalVars": {},
       "guid": "",
       "height": "auto",
       "hideCommandCode": false,
       "hideCommandResult": false,
       "iPythonMetadata": null,
       "inputWidgets": {},
       "isLockedInExamMode": false,
       "latestUser": "a user",
       "latestUserId": null,
       "listResultMetadata": null,
       "metadata": {},
       "nuid": "d9fc6ca7-3d56-4e1b-8018-0c33cd72d241",
       "origId": 0,
       "parentHierarchy": [],
       "pivotAggregation": null,
       "pivotColumns": null,
       "position": 16.96875,
       "resultDbfsErrorMessage": null,
       "resultDbfsStatus": "INLINED_IN_TREE",
       "results": null,
       "showCommandTitle": false,
       "startTime": 0,
       "state": "input",
       "streamStates": {},
       "subcommandOptions": {
        "queryPlan": {
         "groups": [
          {
           "column": "Mes",
           "type": "column"
          }
         ],
         "selects": [
          {
           "column": "Mes",
           "type": "column"
          },
          {
           "alias": "column_633fb29246",
           "args": [
            {
             "column": "Id 2015",
             "type": "column"
            }
           ],
           "function": "SUM",
           "type": "function"
          },
          {
           "alias": "column_633fb29249",
           "args": [
            {
             "column": "Id 2016",
             "type": "column"
            }
           ],
           "function": "SUM",
           "type": "function"
          },
          {
           "alias": "column_633fb29252",
           "args": [
            {
             "column": "Id 2017",
             "type": "column"
            }
           ],
           "function": "SUM",
           "type": "function"
          },
          {
           "alias": "column_633fb29255",
           "args": [
            {
             "column": "Id 2018",
             "type": "column"
            }
           ],
           "function": "SUM",
           "type": "function"
          },
          {
           "alias": "column_633fb29258",
           "args": [
            {
             "column": "Id 2019",
             "type": "column"
            }
           ],
           "function": "SUM",
           "type": "function"
          },
          {
           "alias": "column_633fb29261",
           "args": [
            {
             "column": "Id 2020",
             "type": "column"
            }
           ],
           "function": "SUM",
           "type": "function"
          }
         ]
        }
       },
       "submitTime": 0,
       "subtype": "tableResultSubCmd.visualization",
       "tableResultIndex": 0,
       "tableResultSettingsMap": null,
       "useConsistentColors": false,
       "version": "CommandV1",
       "width": "auto",
       "workflows": [],
       "xColumns": null,
       "yColumns": null
      }
     },
     "output_type": "display_data"
    }
   ],
   "source": [
    "resultado4 = Id_2015.join(Id_2016, \"Mes\", \"outer\").join(Id_2017, \"Mes\", \"outer\").join(Id_2018, \"Mes\", \"outer\").join(Id_2019, \"Mes\", \"outer\").join(Id_2020, \"Mes\", \"outer\").orderBy('Mes')\n",
    "resultado4 = resultado4.select('Mes', 'Id 2015', 'Id 2016', 'Id 2017', 'Id 2018', 'Id 2018', 'Id 2019', 'Id 2020')\n",
    "display(resultado4)"
   ]
  },
  {
   "cell_type": "markdown",
   "metadata": {
    "application/vnd.databricks.v1+cell": {
     "cellMetadata": {},
     "inputWidgets": {},
     "nuid": "12452aea-895e-445a-a9e9-56fbc96428c0",
     "showTitle": false,
     "title": ""
    }
   },
   "source": [
    "*Notemos que, para el mes de febrero, el índice de dispersión de 2019 tiene un valor nulo. Esto se debe a que, como podremos ver en la siguiente celda, no hay valores distintos de 0 en la columna 'DiaphorinaXTrampa' para el mes de febrero. Esto implica que el promedio en este mes es 0 y, en consecuencia, el índice está indefinido.*"
   ]
  },
  {
   "cell_type": "code",
   "execution_count": 0,
   "metadata": {
    "application/vnd.databricks.v1+cell": {
     "cellMetadata": {
      "byteLimit": 2048000,
      "rowLimit": 10000
     },
     "inputWidgets": {},
     "nuid": "7e5863c5-28eb-44f7-a5e8-38d59795e82f",
     "showTitle": false,
     "title": ""
    }
   },
   "outputs": [
    {
     "name": "stdout",
     "output_type": "stream",
     "text": [
      "+---+-----------------+\n",
      "|Mes|DiaphorinaXTrampa|\n",
      "+---+-----------------+\n",
      "+---+-----------------+\n",
      "\n"
     ]
    }
   ],
   "source": [
    "capturas_2019.select('Mes', 'DiaphorinaXTrampa').where((col('DiaphorinaXTrampa')!=0) & (col('Mes')==2)).show()"
   ]
  },
  {
   "cell_type": "markdown",
   "metadata": {
    "application/vnd.databricks.v1+cell": {
     "cellMetadata": {
      "byteLimit": 2048000,
      "rowLimit": 10000
     },
     "inputWidgets": {},
     "nuid": "850840cc-2dae-4c90-a931-31fcd2d3ea9c",
     "showTitle": false,
     "title": ""
    }
   },
   "source": [
    "### 5) Hacer una gráfica del centro de masa de las diaphorinas como función del mes que abarque de 2017 a 2020.  Nota: CM=pos*Diaph/Ntrampas, donde CM se refiere al centro de masa, pos es la posición de la trampa, Diaph es el promedio de diaphorinas en la trampa y Ntrampas es el número de trampas que se consideran en el cálculo."
   ]
  },
  {
   "cell_type": "code",
   "execution_count": 0,
   "metadata": {
    "application/vnd.databricks.v1+cell": {
     "cellMetadata": {
      "byteLimit": 2048000,
      "rowLimit": 10000
     },
     "inputWidgets": {},
     "nuid": "e35f0d87-5316-401f-b5fe-0804e123cc25",
     "showTitle": false,
     "title": ""
    }
   },
   "outputs": [],
   "source": [
    "CM_2017 = capturas_2017.groupBy('Mes').agg(avg('Latitud').alias('Latitud'), avg('Longitud').alias('Longitud'), avg('No_DiaphorinasXtrampa').alias('Diaph'), sum('No_Trampas_Revisadas').alias('Ntrampas')).withColumn('CM latitud 17', (col('Latitud') * col('Diaph')) / col('Ntrampas')).withColumn('CM longitud 17', (col('Longitud') * col('Diaph')) / col('Ntrampas')).orderBy('Mes').cache()\n",
    "\n",
    "# Contamos sólo aquellas trampas que fueron revisadas, es decir, aquellas con un 'Si' en la columna 'revisada'\n",
    "CM_2018 = capturas_2018.groupBy('Mes').agg(avg('Latitud').alias('Latitud'), avg('Longitud').alias('Longitud'), avg('captura').alias('Diaph'), count(when(col('revisada') == 'Si', True)).alias('Ntrampas')).withColumn('CM latitud 18', (col('Latitud') * col('Diaph')) / col('Ntrampas')).withColumn('CM longitud 18', (col('Longitud') * col('Diaph')) / col('Ntrampas')).orderBy('Mes').cache()\n",
    "\n",
    "CM_2019 = capturas_2019.groupBy('Mes').agg(avg('Latitud').alias('Latitud'), avg('Longitud').alias('Longitud'), avg('DiaphorinaXtrampa').alias('Diaph'), sum('Trampas_revisadas').alias('Ntrampas')).withColumn('CM latitud 19', (col('Latitud') * col('Diaph')) / col('Ntrampas')).withColumn('CM longitud 19', (col('Longitud') * col('Diaph')) / col('Ntrampas')).orderBy('Mes').cache()\n",
    "\n",
    "CM_2020 = capturas_2020.groupBy('Mes').agg(avg('Latitud').alias('Latitud'), avg('Longitud').alias('Longitud'), avg('DiaphorinaXtrampa').alias('Diaph'), sum('Trampas_revisadas').alias('Ntrampas')).withColumn('CM latitud 20', (col('Latitud') * col('Diaph')) / col('Ntrampas')).withColumn('CM longitud 20', (col('Longitud') * col('Diaph')) / col('Ntrampas')).orderBy('Mes').cache()"
   ]
  },
  {
   "cell_type": "code",
   "execution_count": 0,
   "metadata": {
    "application/vnd.databricks.v1+cell": {
     "cellMetadata": {
      "byteLimit": 2048000,
      "rowLimit": 10000
     },
     "inputWidgets": {},
     "nuid": "8f820a51-0ebb-473a-aae3-921eb3137ee6",
     "showTitle": false,
     "title": ""
    }
   },
   "outputs": [
    {
     "data": {
      "text/html": [
       "<style scoped>\n",
       "  .table-result-container {\n",
       "    max-height: 300px;\n",
       "    overflow: auto;\n",
       "  }\n",
       "  table, th, td {\n",
       "    border: 1px solid black;\n",
       "    border-collapse: collapse;\n",
       "  }\n",
       "  th, td {\n",
       "    padding: 5px;\n",
       "  }\n",
       "  th {\n",
       "    text-align: left;\n",
       "  }\n",
       "</style><div class='table-result-container'><table class='table-result'><thead style='background-color: white'><tr><th>Mes</th><th>CM latitud 17</th><th>CM longitud 17</th><th>CM latitud 18</th><th>CM longitud 18</th><th>CM latitud 19</th><th>CM longitud 19</th><th>CM latitud 20</th><th>CM longitud 20</th></tr></thead><tbody><tr><td>1</td><td>9.8746116598606E-4</td><td>-0.004077278838841787</td><td>1.9395035264208074E-4</td><td>-8.026657959314409E-4</td><td>5.249111457793091E-4</td><td>-0.002177944620347419</td><td>9.585824713405024E-4</td><td>-0.0039769177032431486</td></tr><tr><td>2</td><td>9.161445677120042E-4</td><td>-0.0037828088718019916</td><td>3.8144575878109417E-4</td><td>-0.0015822091417411676</td><td>null</td><td>null</td><td>0.0022188178908565132</td><td>-0.009202429865126928</td></tr><tr><td>3</td><td>0.0012446839373618825</td><td>-0.00513936512509245</td><td>6.508876840596804E-4</td><td>-0.0027024969878041713</td><td>3.095120975624584E-4</td><td>-0.0012838370146007068</td><td>0.0015706558112850062</td><td>-0.00651235833528963</td></tr><tr><td>4</td><td>9.305155405161686E-4</td><td>-0.0038421473706982804</td><td>6.391053032213386E-4</td><td>-0.0026509706048862707</td><td>3.656816330528961E-4</td><td>-0.0015174457321023805</td><td>0.0018291019713306737</td><td>-0.007589504174918245</td></tr><tr><td>5</td><td>0.0017051708591498465</td><td>-0.007040739727398535</td><td>8.849338109985612E-4</td><td>-0.0036706523526283887</td><td>7.063623273612865E-4</td><td>-0.00292995771319217</td><td>8.210858959697329E-4</td><td>-0.0034073878026730977</td></tr><tr><td>6</td><td>0.003024787188171669</td><td>-0.012489420510066674</td><td>6.415295207261686E-4</td><td>-0.002661026182197523</td><td>5.654546056325249E-4</td><td>-0.002345471676219059</td><td>8.353925169816414E-4</td><td>-0.003465278985365338</td></tr><tr><td>7</td><td>0.0014637855866037274</td><td>-0.006044054379662662</td><td>4.492946175437249E-4</td><td>-0.0018619375800434381</td><td>2.6930479709918467E-4</td><td>-0.0011171419458886138</td><td>0.0053502777851914905</td><td>-0.022197214518016244</td></tr><tr><td>8</td><td>0.0013319974266858584</td><td>-0.005499798575318649</td><td>3.7695518191047724E-4</td><td>-0.0015650494290645155</td><td>3.7785217698954387E-4</td><td>-0.0015673079013884875</td><td>0.0012237677114313047</td><td>-0.005075885127131947</td></tr><tr><td>9</td><td>0.0022031076955645835</td><td>-0.009096622721796895</td><td>6.476276674017356E-4</td><td>-0.0026863195592100628</td><td>9.283092170825037E-4</td><td>-0.003850904100373539</td><td>5.013259853542632E-4</td><td>-0.002078011865403687</td></tr><tr><td>10</td><td>0.002560741860628963</td><td>-0.01057330258823909</td><td>0.0017991545904027665</td><td>-0.007462781814597759</td><td>6.554228208366947E-4</td><td>-0.002718602992567207</td><td>5.413813958710647E-4</td><td>-0.0022453043302629225</td></tr><tr><td>11</td><td>0.0014599203590014028</td><td>-0.006027740227523784</td><td>5.742841062782186E-4</td><td>-0.002382094787608905</td><td>0.0011441389419023639</td><td>-0.004744981943884477</td><td>0.0012002678949784593</td><td>-0.004976595908471643</td></tr><tr><td>12</td><td>4.993640376117631E-4</td><td>-0.002061875924477289</td><td>4.509499849301252E-4</td><td>-0.0018697373015730283</td><td>7.412732582515059E-4</td><td>-0.0030713887386824043</td><td>0.001825262904384604</td><td>-0.0075755752137754324</td></tr></tbody></table></div>"
      ]
     },
     "metadata": {
      "application/vnd.databricks.v1+output": {
       "addedWidgets": {},
       "aggData": [],
       "aggError": "",
       "aggOverflow": false,
       "aggSchema": [],
       "aggSeriesLimitReached": false,
       "aggType": "",
       "arguments": {},
       "columnCustomDisplayInfos": {},
       "data": [
        [
         1,
         0.00098746116598606,
         -0.004077278838841787,
         0.00019395035264208074,
         -0.0008026657959314409,
         0.0005249111457793091,
         -0.002177944620347419,
         0.0009585824713405024,
         -0.0039769177032431486
        ],
        [
         2,
         0.0009161445677120042,
         -0.0037828088718019916,
         0.00038144575878109417,
         -0.0015822091417411676,
         null,
         null,
         0.0022188178908565132,
         -0.009202429865126928
        ],
        [
         3,
         0.0012446839373618825,
         -0.00513936512509245,
         0.0006508876840596804,
         -0.0027024969878041713,
         0.0003095120975624584,
         -0.0012838370146007068,
         0.0015706558112850062,
         -0.00651235833528963
        ],
        [
         4,
         0.0009305155405161686,
         -0.0038421473706982804,
         0.0006391053032213386,
         -0.0026509706048862707,
         0.0003656816330528961,
         -0.0015174457321023805,
         0.0018291019713306737,
         -0.007589504174918245
        ],
        [
         5,
         0.0017051708591498465,
         -0.007040739727398535,
         0.0008849338109985612,
         -0.0036706523526283887,
         0.0007063623273612865,
         -0.00292995771319217,
         0.0008210858959697329,
         -0.0034073878026730977
        ],
        [
         6,
         0.003024787188171669,
         -0.012489420510066674,
         0.0006415295207261686,
         -0.002661026182197523,
         0.0005654546056325249,
         -0.002345471676219059,
         0.0008353925169816414,
         -0.003465278985365338
        ],
        [
         7,
         0.0014637855866037274,
         -0.006044054379662662,
         0.0004492946175437249,
         -0.0018619375800434381,
         0.00026930479709918467,
         -0.0011171419458886138,
         0.0053502777851914905,
         -0.022197214518016244
        ],
        [
         8,
         0.0013319974266858584,
         -0.005499798575318649,
         0.00037695518191047724,
         -0.0015650494290645155,
         0.00037785217698954387,
         -0.0015673079013884875,
         0.0012237677114313047,
         -0.005075885127131947
        ],
        [
         9,
         0.0022031076955645835,
         -0.009096622721796895,
         0.0006476276674017356,
         -0.0026863195592100628,
         0.0009283092170825037,
         -0.003850904100373539,
         0.0005013259853542632,
         -0.002078011865403687
        ],
        [
         10,
         0.002560741860628963,
         -0.01057330258823909,
         0.0017991545904027665,
         -0.007462781814597759,
         0.0006554228208366947,
         -0.002718602992567207,
         0.0005413813958710647,
         -0.0022453043302629225
        ],
        [
         11,
         0.0014599203590014028,
         -0.006027740227523784,
         0.0005742841062782186,
         -0.002382094787608905,
         0.0011441389419023639,
         -0.004744981943884477,
         0.0012002678949784593,
         -0.004976595908471643
        ],
        [
         12,
         0.0004993640376117631,
         -0.002061875924477289,
         0.0004509499849301252,
         -0.0018697373015730283,
         0.0007412732582515059,
         -0.0030713887386824043,
         0.001825262904384604,
         -0.0075755752137754324
        ]
       ],
       "datasetInfos": [],
       "dbfsResultPath": null,
       "isJsonSchema": true,
       "metadata": {},
       "overflow": false,
       "plotOptions": {
        "customPlotOptions": {},
        "displayType": "table",
        "pivotAggregation": null,
        "pivotColumns": null,
        "xColumns": null,
        "yColumns": null
       },
       "removedWidgets": [],
       "schema": [
        {
         "metadata": "{}",
         "name": "Mes",
         "type": "\"integer\""
        },
        {
         "metadata": "{}",
         "name": "CM latitud 17",
         "type": "\"double\""
        },
        {
         "metadata": "{}",
         "name": "CM longitud 17",
         "type": "\"double\""
        },
        {
         "metadata": "{}",
         "name": "CM latitud 18",
         "type": "\"double\""
        },
        {
         "metadata": "{}",
         "name": "CM longitud 18",
         "type": "\"double\""
        },
        {
         "metadata": "{}",
         "name": "CM latitud 19",
         "type": "\"double\""
        },
        {
         "metadata": "{}",
         "name": "CM longitud 19",
         "type": "\"double\""
        },
        {
         "metadata": "{}",
         "name": "CM latitud 20",
         "type": "\"double\""
        },
        {
         "metadata": "{}",
         "name": "CM longitud 20",
         "type": "\"double\""
        }
       ],
       "type": "table"
      }
     },
     "output_type": "display_data"
    },
    {
     "data": {
      "text/plain": [
       "Databricks visualization. Run in Databricks to view."
      ]
     },
     "metadata": {
      "application/vnd.databricks.v1.subcommand+json": {
       "baseErrorDetails": null,
       "bindings": {},
       "collapsed": false,
       "command": "%python\n__backend_agg_display_orig = display\n__backend_agg_dfs = []\ndef __backend_agg_display_new(df):\n    __backend_agg_df_modules = [\"pandas.core.frame\", \"databricks.koalas.frame\", \"pyspark.sql.dataframe\", \"pyspark.pandas.frame\", \"pyspark.sql.connect.dataframe\"]\n    if (type(df).__module__ in __backend_agg_df_modules and type(df).__name__ == 'DataFrame') or isinstance(df, list):\n        __backend_agg_dfs.append(df)\n\ndisplay = __backend_agg_display_new\n\ndef __backend_agg_user_code_fn():\n    import base64\n    exec(base64.standard_b64decode(\"cmVzdWx0YWRvNSA9IENNXzIwMTcuam9pbihDTV8yMDE4LCAiTWVzIiwgIm91dGVyIikuam9pbihDTV8yMDE5LCAiTWVzIiwgIm91dGVyIikuam9pbihDTV8yMDIwLCAiTWVzIiwgIm91dGVyIikub3JkZXJCeSgnTWVzJykKcmVzdWx0YWRvNSA9IHJlc3VsdGFkbzUuc2VsZWN0KCdNZXMnLCAnQ00gbGF0aXR1ZCAxNycsICdDTSBsb25naXR1ZCAxNycsICdDTSBsYXRpdHVkIDE4JywgJ0NNIGxvbmdpdHVkIDE4JywgJ0NNIGxhdGl0dWQgMTknLCAnQ00gbG9uZ2l0dWQgMTknLCAnQ00gbGF0aXR1ZCAyMCcsICdDTSBsb25naXR1ZCAyMCcpCgpkaXNwbGF5KHJlc3VsdGFkbzUp\").decode())\n\ntry:\n    # run user code\n    __backend_agg_user_code_fn()\n\n    #reset display function\n    display = __backend_agg_display_orig\n\n    if len(__backend_agg_dfs) > 0:\n        # create a temp view\n        if type(__backend_agg_dfs[0]).__module__ == \"databricks.koalas.frame\":\n            # koalas dataframe\n            __backend_agg_dfs[0].to_spark().createOrReplaceTempView(\"DatabricksView600c37e\")\n        elif type(__backend_agg_dfs[0]).__module__ == \"pandas.core.frame\" or isinstance(__backend_agg_dfs[0], list):\n            # pandas dataframe\n            spark.createDataFrame(__backend_agg_dfs[0]).createOrReplaceTempView(\"DatabricksView600c37e\")\n        else:\n            __backend_agg_dfs[0].createOrReplaceTempView(\"DatabricksView600c37e\")\n        #run backend agg\n        display(spark.sql(\"\"\"WITH q AS (select * from DatabricksView600c37e) SELECT `Mes`,SUM(`CM latitud 17`) `column_633fb29277`,SUM(`CM latitud 18`) `column_633fb29280`,SUM(`CM latitud 19`) `column_633fb29283`,SUM(`CM latitud 20`) `column_633fb29286` FROM q GROUP BY `Mes`\"\"\"))\n    else:\n        displayHTML(\"dataframe no longer exists. If you're using dataframe.display(), use display(dataframe) instead.\")\n\n\nfinally:\n    spark.sql(\"drop view if exists DatabricksView600c37e\")\n    display = __backend_agg_display_orig\n    del __backend_agg_display_new\n    del __backend_agg_display_orig\n    del __backend_agg_dfs\n    del __backend_agg_user_code_fn\n\n",
       "commandTitle": "Latitud",
       "commandType": "auto",
       "commandVersion": 0,
       "commentThread": [],
       "commentsVisible": false,
       "contentSha256Hex": null,
       "customPlotOptions": {
        "redashChart": [
         {
          "key": "type",
          "value": "CHART"
         },
         {
          "key": "options",
          "value": {
           "alignYAxesAtZero": true,
           "coefficient": 1,
           "columnConfigurationMap": {
            "x": {
             "column": "Mes",
             "id": "column_633fb29263"
            },
            "y": [
             {
              "column": "CM latitud 17",
              "id": "column_633fb29277",
              "transform": "SUM"
             },
             {
              "column": "CM latitud 18",
              "id": "column_633fb29280",
              "transform": "SUM"
             },
             {
              "column": "CM latitud 19",
              "id": "column_633fb29283",
              "transform": "SUM"
             },
             {
              "column": "CM latitud 20",
              "id": "column_633fb29286",
              "transform": "SUM"
             }
            ]
           },
           "dateTimeFormat": "DD/MM/YYYY HH:mm",
           "direction": {
            "type": "counterclockwise"
           },
           "error_y": {
            "type": "data",
            "visible": true
           },
           "globalSeriesType": "column",
           "isAggregationOn": true,
           "legend": {
            "traceorder": "normal"
           },
           "missingValuesAsZero": true,
           "numBins": 10,
           "numberFormat": "0,0.[00000]",
           "percentFormat": "0[.]00%",
           "series": {
            "error_y": {
             "type": "data",
             "visible": true
            },
            "stacking": null
           },
           "seriesOptions": {
            "column_633fb29265": {
             "type": "column",
             "yAxis": 0
            },
            "column_633fb29268": {
             "type": "column",
             "yAxis": 0
            },
            "column_633fb29271": {
             "type": "column",
             "yAxis": 0
            },
            "column_633fb29274": {
             "type": "column",
             "yAxis": 0
            },
            "column_633fb29277": {
             "name": "2017",
             "type": "column",
             "yAxis": 0
            },
            "column_633fb29280": {
             "name": "2018",
             "type": "column",
             "yAxis": 0
            },
            "column_633fb29283": {
             "name": "2019",
             "type": "column",
             "yAxis": 0
            },
            "column_633fb29286": {
             "color": "#000000",
             "name": "2020",
             "type": "column",
             "yAxis": 0
            }
           },
           "showDataLabels": false,
           "sizemode": "diameter",
           "sortX": true,
           "sortY": true,
           "swappedAxes": false,
           "textFormat": "",
           "useAggregationsUi": true,
           "valuesOptions": {},
           "version": 2,
           "xAxis": {
            "labels": {
             "enabled": true
            },
            "type": "-"
           },
           "yAxis": [
            {
             "title": {
              "text": "Posición del centro de masa (latitud)"
             },
             "type": "-"
            },
            {
             "opposite": true,
             "type": "-"
            }
           ]
          }
         }
        ]
       },
       "datasetPreviewNameToCmdIdMap": {},
       "diffDeletes": [],
       "diffInserts": [],
       "displayType": "redashChart",
       "error": null,
       "errorDetails": null,
       "errorSummary": null,
       "errorTraceType": null,
       "finishTime": 0,
       "globalVars": {},
       "guid": "",
       "height": "auto",
       "hideCommandCode": false,
       "hideCommandResult": false,
       "iPythonMetadata": null,
       "inputWidgets": {},
       "isLockedInExamMode": false,
       "latestUser": "a user",
       "latestUserId": null,
       "listResultMetadata": null,
       "metadata": {},
       "nuid": "6d463616-9b49-467c-bcfb-eca4edcafe97",
       "origId": 0,
       "parentHierarchy": [],
       "pivotAggregation": null,
       "pivotColumns": null,
       "position": 19,
       "resultDbfsErrorMessage": null,
       "resultDbfsStatus": "INLINED_IN_TREE",
       "results": null,
       "showCommandTitle": false,
       "startTime": 0,
       "state": "input",
       "streamStates": {},
       "subcommandOptions": {
        "queryPlan": {
         "groups": [
          {
           "column": "Mes",
           "type": "column"
          }
         ],
         "selects": [
          {
           "column": "Mes",
           "type": "column"
          },
          {
           "alias": "column_633fb29277",
           "args": [
            {
             "column": "CM latitud 17",
             "type": "column"
            }
           ],
           "function": "SUM",
           "type": "function"
          },
          {
           "alias": "column_633fb29280",
           "args": [
            {
             "column": "CM latitud 18",
             "type": "column"
            }
           ],
           "function": "SUM",
           "type": "function"
          },
          {
           "alias": "column_633fb29283",
           "args": [
            {
             "column": "CM latitud 19",
             "type": "column"
            }
           ],
           "function": "SUM",
           "type": "function"
          },
          {
           "alias": "column_633fb29286",
           "args": [
            {
             "column": "CM latitud 20",
             "type": "column"
            }
           ],
           "function": "SUM",
           "type": "function"
          }
         ]
        }
       },
       "submitTime": 0,
       "subtype": "tableResultSubCmd.visualization",
       "tableResultIndex": 0,
       "tableResultSettingsMap": null,
       "useConsistentColors": false,
       "version": "CommandV1",
       "width": "auto",
       "workflows": [],
       "xColumns": null,
       "yColumns": null
      }
     },
     "output_type": "display_data"
    },
    {
     "data": {
      "text/plain": [
       "Databricks visualization. Run in Databricks to view."
      ]
     },
     "metadata": {
      "application/vnd.databricks.v1.subcommand+json": {
       "baseErrorDetails": null,
       "bindings": {},
       "collapsed": false,
       "command": "%python\n__backend_agg_display_orig = display\n__backend_agg_dfs = []\ndef __backend_agg_display_new(df):\n    __backend_agg_df_modules = [\"pandas.core.frame\", \"databricks.koalas.frame\", \"pyspark.sql.dataframe\", \"pyspark.pandas.frame\", \"pyspark.sql.connect.dataframe\"]\n    if (type(df).__module__ in __backend_agg_df_modules and type(df).__name__ == 'DataFrame') or isinstance(df, list):\n        __backend_agg_dfs.append(df)\n\ndisplay = __backend_agg_display_new\n\ndef __backend_agg_user_code_fn():\n    import base64\n    exec(base64.standard_b64decode(\"cmVzdWx0YWRvNSA9IENNXzIwMTcuam9pbihDTV8yMDE4LCAiTWVzIiwgIm91dGVyIikuam9pbihDTV8yMDE5LCAiTWVzIiwgIm91dGVyIikuam9pbihDTV8yMDIwLCAiTWVzIiwgIm91dGVyIikub3JkZXJCeSgnTWVzJykKcmVzdWx0YWRvNSA9IHJlc3VsdGFkbzUuc2VsZWN0KCdNZXMnLCAnQ00gbGF0aXR1ZCAxNycsICdDTSBsb25naXR1ZCAxNycsICdDTSBsYXRpdHVkIDE4JywgJ0NNIGxvbmdpdHVkIDE4JywgJ0NNIGxhdGl0dWQgMTknLCAnQ00gbG9uZ2l0dWQgMTknLCAnQ00gbGF0aXR1ZCAyMCcsICdDTSBsb25naXR1ZCAyMCcpCgpkaXNwbGF5KHJlc3VsdGFkbzUp\").decode())\n\ntry:\n    # run user code\n    __backend_agg_user_code_fn()\n\n    #reset display function\n    display = __backend_agg_display_orig\n\n    if len(__backend_agg_dfs) > 0:\n        # create a temp view\n        if type(__backend_agg_dfs[0]).__module__ == \"databricks.koalas.frame\":\n            # koalas dataframe\n            __backend_agg_dfs[0].to_spark().createOrReplaceTempView(\"DatabricksView569c88f\")\n        elif type(__backend_agg_dfs[0]).__module__ == \"pandas.core.frame\" or isinstance(__backend_agg_dfs[0], list):\n            # pandas dataframe\n            spark.createDataFrame(__backend_agg_dfs[0]).createOrReplaceTempView(\"DatabricksView569c88f\")\n        else:\n            __backend_agg_dfs[0].createOrReplaceTempView(\"DatabricksView569c88f\")\n        #run backend agg\n        display(spark.sql(\"\"\"WITH q AS (select * from DatabricksView569c88f) SELECT `Mes`,SUM(`CM longitud 17`) `column_633fb29290`,SUM(`CM longitud 18`) `column_633fb29293`,SUM(`CM longitud 19`) `column_633fb29296`,SUM(`CM longitud 20`) `column_633fb29299` FROM q GROUP BY `Mes`\"\"\"))\n    else:\n        displayHTML(\"dataframe no longer exists. If you're using dataframe.display(), use display(dataframe) instead.\")\n\n\nfinally:\n    spark.sql(\"drop view if exists DatabricksView569c88f\")\n    display = __backend_agg_display_orig\n    del __backend_agg_display_new\n    del __backend_agg_display_orig\n    del __backend_agg_dfs\n    del __backend_agg_user_code_fn\n\n",
       "commandTitle": "Longitud",
       "commandType": "auto",
       "commandVersion": 0,
       "commentThread": [],
       "commentsVisible": false,
       "contentSha256Hex": null,
       "customPlotOptions": {
        "redashChart": [
         {
          "key": "type",
          "value": "CHART"
         },
         {
          "key": "options",
          "value": {
           "alignYAxesAtZero": true,
           "coefficient": 1,
           "columnConfigurationMap": {
            "x": {
             "column": "Mes",
             "id": "column_633fb29288"
            },
            "y": [
             {
              "column": "CM longitud 17",
              "id": "column_633fb29290",
              "transform": "SUM"
             },
             {
              "column": "CM longitud 18",
              "id": "column_633fb29293",
              "transform": "SUM"
             },
             {
              "column": "CM longitud 19",
              "id": "column_633fb29296",
              "transform": "SUM"
             },
             {
              "column": "CM longitud 20",
              "id": "column_633fb29299",
              "transform": "SUM"
             }
            ]
           },
           "dateTimeFormat": "DD/MM/YYYY HH:mm",
           "direction": {
            "type": "counterclockwise"
           },
           "error_y": {
            "type": "data",
            "visible": true
           },
           "globalSeriesType": "column",
           "isAggregationOn": true,
           "legend": {
            "traceorder": "normal"
           },
           "missingValuesAsZero": true,
           "numberFormat": "0,0.[00000]",
           "percentFormat": "0[.]00%",
           "series": {
            "error_y": {
             "type": "data",
             "visible": true
            },
            "stacking": null
           },
           "seriesOptions": {
            "column_633fb29290": {
             "name": "2017",
             "type": "column",
             "yAxis": 0
            },
            "column_633fb29293": {
             "name": "2018",
             "type": "column",
             "yAxis": 0
            },
            "column_633fb29296": {
             "name": "2019",
             "type": "column",
             "yAxis": 0
            },
            "column_633fb29299": {
             "color": "#000000",
             "name": "2020",
             "type": "column",
             "yAxis": 0
            }
           },
           "showDataLabels": false,
           "sizemode": "diameter",
           "sortX": true,
           "sortY": true,
           "swappedAxes": false,
           "textFormat": "",
           "useAggregationsUi": true,
           "valuesOptions": {},
           "version": 2,
           "xAxis": {
            "labels": {
             "enabled": true
            },
            "type": "-"
           },
           "yAxis": [
            {
             "title": {
              "text": "Posición del centro de masa (longitud)"
             },
             "type": "-"
            },
            {
             "opposite": true,
             "type": "-"
            }
           ]
          }
         }
        ]
       },
       "datasetPreviewNameToCmdIdMap": {},
       "diffDeletes": [],
       "diffInserts": [],
       "displayType": "redashChart",
       "error": null,
       "errorDetails": null,
       "errorSummary": null,
       "errorTraceType": null,
       "finishTime": 0,
       "globalVars": {},
       "guid": "",
       "height": "auto",
       "hideCommandCode": false,
       "hideCommandResult": false,
       "iPythonMetadata": null,
       "inputWidgets": {},
       "isLockedInExamMode": false,
       "latestUser": "a user",
       "latestUserId": null,
       "listResultMetadata": null,
       "metadata": {},
       "nuid": "e27447cb-0d0e-4537-97de-cd2f5d1df8a4",
       "origId": 0,
       "parentHierarchy": [],
       "pivotAggregation": null,
       "pivotColumns": null,
       "position": 20,
       "resultDbfsErrorMessage": null,
       "resultDbfsStatus": "INLINED_IN_TREE",
       "results": null,
       "showCommandTitle": false,
       "startTime": 0,
       "state": "input",
       "streamStates": {},
       "subcommandOptions": {
        "queryPlan": {
         "groups": [
          {
           "column": "Mes",
           "type": "column"
          }
         ],
         "selects": [
          {
           "column": "Mes",
           "type": "column"
          },
          {
           "alias": "column_633fb29290",
           "args": [
            {
             "column": "CM longitud 17",
             "type": "column"
            }
           ],
           "function": "SUM",
           "type": "function"
          },
          {
           "alias": "column_633fb29293",
           "args": [
            {
             "column": "CM longitud 18",
             "type": "column"
            }
           ],
           "function": "SUM",
           "type": "function"
          },
          {
           "alias": "column_633fb29296",
           "args": [
            {
             "column": "CM longitud 19",
             "type": "column"
            }
           ],
           "function": "SUM",
           "type": "function"
          },
          {
           "alias": "column_633fb29299",
           "args": [
            {
             "column": "CM longitud 20",
             "type": "column"
            }
           ],
           "function": "SUM",
           "type": "function"
          }
         ]
        }
       },
       "submitTime": 0,
       "subtype": "tableResultSubCmd.visualization",
       "tableResultIndex": 0,
       "tableResultSettingsMap": null,
       "useConsistentColors": false,
       "version": "CommandV1",
       "width": "auto",
       "workflows": [],
       "xColumns": null,
       "yColumns": null
      }
     },
     "output_type": "display_data"
    }
   ],
   "source": [
    "resultado5 = CM_2017.join(CM_2018, \"Mes\", \"outer\").join(CM_2019, \"Mes\", \"outer\").join(CM_2020, \"Mes\", \"outer\").orderBy('Mes')\n",
    "resultado5 = resultado5.select('Mes', 'CM latitud 17', 'CM longitud 17', 'CM latitud 18', 'CM longitud 18', 'CM latitud 19', 'CM longitud 19', 'CM latitud 20', 'CM longitud 20')\n",
    "\n",
    "display(resultado5)"
   ]
  },
  {
   "cell_type": "code",
   "execution_count": 0,
   "metadata": {
    "application/vnd.databricks.v1+cell": {
     "cellMetadata": {
      "byteLimit": 2048000,
      "rowLimit": 10000
     },
     "inputWidgets": {},
     "nuid": "ff36daae-3534-42e7-b878-c04caa3b286a",
     "showTitle": false,
     "title": ""
    }
   },
   "outputs": [
    {
     "name": "stdout",
     "output_type": "stream",
     "text": [
      "Out[63]: DataFrame[Mes: int, Latitud: double, Longitud: double, Diaph: double, Ntrampas: bigint, CM latitud 20: double, CM longitud 20: double]"
     ]
    }
   ],
   "source": [
    "# Por último, liberemos las variables guardadas en la memoria\n",
    "CM_2017.unpersist()\n",
    "CM_2018.unpersist()\n",
    "CM_2019.unpersist()\n",
    "CM_2020.unpersist()"
   ]
  }
 ],
 "metadata": {
  "application/vnd.databricks.v1+notebook": {
   "dashboards": [],
   "environmentMetadata": null,
   "language": "python",
   "notebookMetadata": {
    "mostRecentlyExecutedCommandWithImplicitDF": {
     "commandId": 916341408377841,
     "dataframes": [
      "_sqldf"
     ]
    },
    "pythonIndentUnit": 4
   },
   "notebookName": "Tarea_3Spark",
   "widgets": {}
  },
  "language_info": {
   "name": "python"
  }
 },
 "nbformat": 4,
 "nbformat_minor": 0
}
